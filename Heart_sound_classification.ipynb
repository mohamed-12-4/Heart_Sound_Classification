{
  "cells": [
    {
      "cell_type": "markdown",
      "metadata": {
        "id": "view-in-github",
        "colab_type": "text"
      },
      "source": [
        "<a href=\"https://colab.research.google.com/github/mohamed-12-4/Heart_Sound_Classification/blob/main/Heart_sound_classification.ipynb\" target=\"_parent\"><img src=\"https://colab.research.google.com/assets/colab-badge.svg\" alt=\"Open In Colab\"/></a>"
      ]
    },
    {
      "cell_type": "markdown",
      "metadata": {
        "id": "YRdgn9r-ZZK4"
      },
      "source": [
        "# Imports"
      ]
    },
    {
      "cell_type": "code",
      "execution_count": null,
      "metadata": {
        "colab": {
          "base_uri": "https://localhost:8080/"
        },
        "id": "RdUV7kPl5bpe",
        "outputId": "f7c2d271-412b-48a5-c6e0-5417527c28f2"
      },
      "outputs": [
        {
          "output_type": "stream",
          "name": "stdout",
          "text": [
            "Requirement already satisfied: PyWavelets in /usr/local/lib/python3.10/dist-packages (1.7.0)\n",
            "Requirement already satisfied: numpy<3,>=1.23 in /usr/local/lib/python3.10/dist-packages (from PyWavelets) (1.26.4)\n"
          ]
        }
      ],
      "source": [
        "!pip install PyWavelets"
      ]
    },
    {
      "cell_type": "code",
      "execution_count": null,
      "metadata": {
        "id": "fo28TiKHZb5c"
      },
      "outputs": [],
      "source": [
        "import os\n",
        "import glob\n",
        "import numpy as np\n",
        "import matplotlib.pyplot as plt\n",
        "import scipy.io.wavfile as wav\n",
        "import random\n",
        "import scipy\n",
        "from IPython.display import Audio, display\n",
        "import librosa\n",
        "import librosa.display\n",
        "import seaborn as sns\n",
        "import pandas as pd\n",
        "import torch\n",
        "import torchaudio\n",
        "from sklearn.preprocessing import OneHotEncoder\n",
        "import torch.nn.functional as F\n",
        "import pywt"
      ]
    },
    {
      "cell_type": "markdown",
      "metadata": {
        "id": "b-XAYOAoZxr2"
      },
      "source": [
        "# Load data\n"
      ]
    },
    {
      "cell_type": "code",
      "execution_count": null,
      "metadata": {
        "colab": {
          "base_uri": "https://localhost:8080/"
        },
        "id": "yU3aZkX5ZwYb",
        "outputId": "e17dca41-60c3-4521-ca23-5b0b2168a89f"
      },
      "outputs": [
        {
          "output_type": "stream",
          "name": "stdout",
          "text": [
            "--2024-08-27 12:29:30--  http://istethoscope.peterjbentley.com/heartchallenge/wav/Btraining_normal.zip\n",
            "Resolving istethoscope.peterjbentley.com (istethoscope.peterjbentley.com)... 192.250.237.70\n",
            "Connecting to istethoscope.peterjbentley.com (istethoscope.peterjbentley.com)|192.250.237.70|:80... connected.\n",
            "HTTP request sent, awaiting response... 200 OK\n",
            "Length: 13761027 (13M) [application/zip]\n",
            "Saving to: ‘Btraining_normal.zip’\n",
            "\n",
            "Btraining_normal.zi 100%[===================>]  13.12M  2.93MB/s    in 5.1s    \n",
            "\n",
            "2024-08-27 12:29:36 (2.57 MB/s) - ‘Btraining_normal.zip’ saved [13761027/13761027]\n",
            "\n",
            "Archive:  Btraining_normal.zip\n",
            "replace Training B Normal/.DS_Store? [y]es, [n]o, [A]ll, [N]one, [r]ename: A\n",
            "  inflating: Training B Normal/.DS_Store  \n",
            "  inflating: __MACOSX/Training B Normal/._.DS_Store  \n",
            "  inflating: Training B Normal/103_1305031931979_B.wav  \n",
            "  inflating: __MACOSX/Training B Normal/._103_1305031931979_B.wav  \n",
            "  inflating: Training B Normal/103_1305031931979_D1.wav  \n",
            "  inflating: __MACOSX/Training B Normal/._103_1305031931979_D1.wav  \n",
            "  inflating: Training B Normal/103_1305031931979_D2.wav  \n",
            "  inflating: __MACOSX/Training B Normal/._103_1305031931979_D2.wav  \n",
            "  inflating: Training B Normal/103_1305031931979_D3.wav  \n",
            "  inflating: __MACOSX/Training B Normal/._103_1305031931979_D3.wav  \n",
            "  inflating: Training B Normal/106_1306776721273_B1.wav  \n",
            "  inflating: __MACOSX/Training B Normal/._106_1306776721273_B1.wav  \n",
            "  inflating: Training B Normal/106_1306776721273_C1.wav  \n",
            "  inflating: __MACOSX/Training B Normal/._106_1306776721273_C1.wav  \n",
            "  inflating: Training B Normal/106_1306776721273_C2.wav  \n",
            "  inflating: __MACOSX/Training B Normal/._106_1306776721273_C2.wav  \n",
            "  inflating: Training B Normal/106_1306776721273_D1.wav  \n",
            "  inflating: __MACOSX/Training B Normal/._106_1306776721273_D1.wav  \n",
            "  inflating: Training B Normal/106_1306776721273_D2.wav  \n",
            "  inflating: __MACOSX/Training B Normal/._106_1306776721273_D2.wav  \n",
            "  inflating: Training B Normal/107_1305654946865_C1.wav  \n",
            "  inflating: __MACOSX/Training B Normal/._107_1305654946865_C1.wav  \n",
            "  inflating: Training B Normal/109_1305653646620_C.wav  \n",
            "  inflating: __MACOSX/Training B Normal/._109_1305653646620_C.wav  \n",
            "  inflating: Training B Normal/113_1306244002866_D.wav  \n",
            "  inflating: __MACOSX/Training B Normal/._113_1306244002866_D.wav  \n",
            "  inflating: Training B Normal/115_1306259437619_C.wav  \n",
            "  inflating: __MACOSX/Training B Normal/._115_1306259437619_C.wav  \n",
            "  inflating: Training B Normal/117_1306262456650_B.wav  \n",
            "  inflating: __MACOSX/Training B Normal/._117_1306262456650_B.wav  \n",
            "  inflating: Training B Normal/125_1306332456645_B.wav  \n",
            "  inflating: __MACOSX/Training B Normal/._125_1306332456645_B.wav  \n",
            "  inflating: Training B Normal/126_1306777102824_B.wav  \n",
            "  inflating: __MACOSX/Training B Normal/._126_1306777102824_B.wav  \n",
            "  inflating: Training B Normal/126_1306777102824_C.wav  \n",
            "  inflating: __MACOSX/Training B Normal/._126_1306777102824_C.wav  \n",
            "  inflating: Training B Normal/126_1306777102824_D.wav  \n",
            "  inflating: __MACOSX/Training B Normal/._126_1306777102824_D.wav  \n",
            "  inflating: Training B Normal/127_1306764300147_A.wav  \n",
            "  inflating: __MACOSX/Training B Normal/._127_1306764300147_A.wav  \n",
            "  inflating: Training B Normal/127_1306764300147_B.wav  \n",
            "  inflating: __MACOSX/Training B Normal/._127_1306764300147_B.wav  \n",
            "  inflating: Training B Normal/127_1306764300147_C1.wav  \n",
            "  inflating: __MACOSX/Training B Normal/._127_1306764300147_C1.wav  \n",
            "  inflating: Training B Normal/128_1306344005749_B.wav  \n",
            "  inflating: __MACOSX/Training B Normal/._128_1306344005749_B.wav  \n",
            "  inflating: Training B Normal/128_1306344005749_D.wav  \n",
            "  inflating: __MACOSX/Training B Normal/._128_1306344005749_D.wav  \n",
            "  inflating: Training B Normal/128_1306344005749_D1.wav  \n",
            "  inflating: __MACOSX/Training B Normal/._128_1306344005749_D1.wav  \n",
            "  inflating: Training B Normal/129_1306344506305_B1.wav  \n",
            "  inflating: __MACOSX/Training B Normal/._129_1306344506305_B1.wav  \n",
            "  inflating: Training B Normal/129_1306344506305_D.wav  \n",
            "  inflating: __MACOSX/Training B Normal/._129_1306344506305_D.wav  \n",
            "  inflating: Training B Normal/129_1306344506305_D1.wav  \n",
            "  inflating: __MACOSX/Training B Normal/._129_1306344506305_D1.wav  \n",
            "  inflating: Training B Normal/133_1306759619127_A.wav  \n",
            "  inflating: __MACOSX/Training B Normal/._133_1306759619127_A.wav  \n",
            "  inflating: Training B Normal/133_1306759619127_B.wav  \n",
            "  inflating: __MACOSX/Training B Normal/._133_1306759619127_B.wav  \n",
            "  inflating: Training B Normal/133_1306759619127_D.wav  \n",
            "  inflating: __MACOSX/Training B Normal/._133_1306759619127_D.wav  \n",
            "  inflating: Training B Normal/134_1306428161797_C.wav  \n",
            "  inflating: __MACOSX/Training B Normal/._134_1306428161797_C.wav  \n",
            "  inflating: Training B Normal/134_1306428161797_C2.wav  \n",
            "  inflating: __MACOSX/Training B Normal/._134_1306428161797_C2.wav  \n",
            "  inflating: Training B Normal/134_1306428161797_D.wav  \n",
            "  inflating: __MACOSX/Training B Normal/._134_1306428161797_D.wav  \n",
            "  inflating: Training B Normal/137_1306764999211_C.wav  \n",
            "  inflating: __MACOSX/Training B Normal/._137_1306764999211_C.wav  \n",
            "  inflating: Training B Normal/137_1306764999211_D.wav  \n",
            "  inflating: __MACOSX/Training B Normal/._137_1306764999211_D.wav  \n",
            "  inflating: Training B Normal/139_1306519274653_A.wav  \n",
            "  inflating: __MACOSX/Training B Normal/._139_1306519274653_A.wav  \n",
            "  inflating: Training B Normal/140_1306519735121_A.wav  \n",
            "  inflating: __MACOSX/Training B Normal/._140_1306519735121_A.wav  \n",
            "  inflating: Training B Normal/140_1306519735121_B.wav  \n",
            "  inflating: __MACOSX/Training B Normal/._140_1306519735121_B.wav  \n",
            "  inflating: Training B Normal/140_1306519735121_D1.wav  \n",
            "  inflating: __MACOSX/Training B Normal/._140_1306519735121_D1.wav  \n",
            "  inflating: Training B Normal/141_1306520154450_B.wav  \n",
            "  inflating: __MACOSX/Training B Normal/._141_1306520154450_B.wav  \n",
            "  inflating: Training B Normal/141_1306520154450_C.wav  \n",
            "  inflating: __MACOSX/Training B Normal/._141_1306520154450_C.wav  \n",
            "  inflating: Training B Normal/143_1306763822290_B.wav  \n",
            "  inflating: __MACOSX/Training B Normal/._143_1306763822290_B.wav  \n",
            "  inflating: Training B Normal/143_1306763822290_C.wav  \n",
            "  inflating: __MACOSX/Training B Normal/._143_1306763822290_C.wav  \n",
            "  inflating: Training B Normal/145_1307987561278_B.wav  \n",
            "  inflating: __MACOSX/Training B Normal/._145_1307987561278_B.wav  \n",
            "  inflating: Training B Normal/145_1307987561278_C.wav  \n",
            "  inflating: __MACOSX/Training B Normal/._145_1307987561278_C.wav  \n",
            "  inflating: Training B Normal/146_1306778707532_A.wav  \n",
            "  inflating: __MACOSX/Training B Normal/._146_1306778707532_A.wav  \n",
            "  inflating: Training B Normal/146_1306778707532_B.wav  \n",
            "  inflating: __MACOSX/Training B Normal/._146_1306778707532_B.wav  \n",
            "  inflating: Training B Normal/146_1306778707532_D1.wav  \n",
            "  inflating: __MACOSX/Training B Normal/._146_1306778707532_D1.wav  \n",
            "  inflating: Training B Normal/146_1306778707532_D2.wav  \n",
            "  inflating: __MACOSX/Training B Normal/._146_1306778707532_D2.wav  \n",
            "  inflating: Training B Normal/146_1306778707532_D3.wav  \n",
            "  inflating: __MACOSX/Training B Normal/._146_1306778707532_D3.wav  \n",
            "  inflating: Training B Normal/146_1306778707532_D4.wav  \n",
            "  inflating: __MACOSX/Training B Normal/._146_1306778707532_D4.wav  \n",
            "  inflating: Training B Normal/147_1306523973811_A.wav  \n",
            "  inflating: __MACOSX/Training B Normal/._147_1306523973811_A.wav  \n",
            "  inflating: Training B Normal/147_1306523973811_C.wav  \n",
            "  inflating: __MACOSX/Training B Normal/._147_1306523973811_C.wav  \n",
            "  inflating: Training B Normal/148_1306768801551_C1.wav  \n",
            "  inflating: __MACOSX/Training B Normal/._148_1306768801551_C1.wav  \n",
            "  inflating: Training B Normal/148_1306768801551_D2.wav  \n",
            "  inflating: __MACOSX/Training B Normal/._148_1306768801551_D2.wav  \n",
            "  inflating: Training B Normal/149_1306776016110_B.wav  \n",
            "  inflating: __MACOSX/Training B Normal/._149_1306776016110_B.wav  \n",
            "  inflating: Training B Normal/149_1306776016110_C1.wav  \n",
            "  inflating: __MACOSX/Training B Normal/._149_1306776016110_C1.wav  \n",
            "  inflating: Training B Normal/150_1306776340746_B.wav  \n",
            "  inflating: __MACOSX/Training B Normal/._150_1306776340746_B.wav  \n",
            "  inflating: Training B Normal/150_1306776340746_C.wav  \n",
            "  inflating: __MACOSX/Training B Normal/._150_1306776340746_C.wav  \n",
            "  inflating: Training B Normal/151_1306779785624_A.wav  \n",
            "  inflating: __MACOSX/Training B Normal/._151_1306779785624_A.wav  \n",
            "  inflating: Training B Normal/151_1306779785624_D.wav  \n",
            "  inflating: __MACOSX/Training B Normal/._151_1306779785624_D.wav  \n",
            "  inflating: Training B Normal/152_1306779561195_B1.wav  \n",
            "  inflating: __MACOSX/Training B Normal/._152_1306779561195_B1.wav  \n",
            "  inflating: Training B Normal/152_1306779561195_C1.wav  \n",
            "  inflating: __MACOSX/Training B Normal/._152_1306779561195_C1.wav  \n",
            "  inflating: Training B Normal/152_1306779561195_D.wav  \n",
            "  inflating: __MACOSX/Training B Normal/._152_1306779561195_D.wav  \n",
            "  inflating: Training B Normal/153_1306848820671_A.wav  \n",
            "  inflating: __MACOSX/Training B Normal/._153_1306848820671_A.wav  \n",
            "  inflating: Training B Normal/153_1306848820671_B.wav  \n",
            "  inflating: __MACOSX/Training B Normal/._153_1306848820671_B.wav  \n",
            "  inflating: Training B Normal/153_1306848820671_B1.wav  \n",
            "  inflating: __MACOSX/Training B Normal/._153_1306848820671_B1.wav  \n",
            "  inflating: Training B Normal/153_1306848820671_D1.wav  \n",
            "  inflating: __MACOSX/Training B Normal/._153_1306848820671_D1.wav  \n",
            "  inflating: Training B Normal/154_1306935608852_A1.wav  \n",
            "  inflating: __MACOSX/Training B Normal/._154_1306935608852_A1.wav  \n",
            "  inflating: Training B Normal/154_1306935608852_B.wav  \n",
            "  inflating: __MACOSX/Training B Normal/._154_1306935608852_B.wav  \n",
            "  inflating: Training B Normal/154_1306935608852_B1.wav  \n",
            "  inflating: __MACOSX/Training B Normal/._154_1306935608852_B1.wav  \n",
            "  inflating: Training B Normal/154_1306935608852_D.wav  \n",
            "  inflating: __MACOSX/Training B Normal/._154_1306935608852_D.wav  \n",
            "  inflating: Training B Normal/155_1306935902813_B1.wav  \n",
            "  inflating: __MACOSX/Training B Normal/._155_1306935902813_B1.wav  \n",
            "  inflating: Training B Normal/158_1306947254705_B2.wav  \n",
            "  inflating: __MACOSX/Training B Normal/._158_1306947254705_B2.wav  \n",
            "  inflating: Training B Normal/159_1307018640315_A.wav  \n",
            "  inflating: __MACOSX/Training B Normal/._159_1307018640315_A.wav  \n",
            "  inflating: Training B Normal/159_1307018640315_B1.wav  \n",
            "  inflating: __MACOSX/Training B Normal/._159_1307018640315_B1.wav  \n",
            "  inflating: Training B Normal/159_1307018640315_B2.wav  \n",
            "  inflating: __MACOSX/Training B Normal/._159_1307018640315_B2.wav  \n",
            "  inflating: Training B Normal/159_1307018640315_C1.wav  \n",
            "  inflating: __MACOSX/Training B Normal/._159_1307018640315_C1.wav  \n",
            "  inflating: Training B Normal/167_1307111318050_A.wav  \n",
            "  inflating: __MACOSX/Training B Normal/._167_1307111318050_A.wav  \n",
            "  inflating: Training B Normal/167_1307111318050_C.wav  \n",
            "  inflating: __MACOSX/Training B Normal/._167_1307111318050_C.wav  \n",
            "  inflating: Training B Normal/168_1307970069434_A.wav  \n",
            "  inflating: __MACOSX/Training B Normal/._168_1307970069434_A.wav  \n",
            "  inflating: Training B Normal/168_1307970069434_A2.wav  \n",
            "  inflating: __MACOSX/Training B Normal/._168_1307970069434_A2.wav  \n",
            "  inflating: Training B Normal/169_1307970398039_C.wav  \n",
            "  inflating: __MACOSX/Training B Normal/._169_1307970398039_C.wav  \n",
            "  inflating: Training B Normal/170_1307970562729_A.wav  \n",
            "  inflating: __MACOSX/Training B Normal/._170_1307970562729_A.wav  \n",
            "  inflating: Training B Normal/170_1307970562729_B.wav  \n",
            "  inflating: __MACOSX/Training B Normal/._170_1307970562729_B.wav  \n",
            "  inflating: Training B Normal/170_1307970562729_C.wav  \n",
            "  inflating: __MACOSX/Training B Normal/._170_1307970562729_C.wav  \n",
            "  inflating: Training B Normal/172_1307971284351_B.wav  \n",
            "  inflating: __MACOSX/Training B Normal/._172_1307971284351_B.wav  \n",
            "  inflating: Training B Normal/172_1307971284351_B1.wav  \n",
            "  inflating: __MACOSX/Training B Normal/._172_1307971284351_B1.wav  \n",
            "  inflating: Training B Normal/173_1307973611151_B.wav  \n",
            "  inflating: __MACOSX/Training B Normal/._173_1307973611151_B.wav  \n",
            "  inflating: Training B Normal/173_1307973611151_C.wav  \n",
            "  inflating: __MACOSX/Training B Normal/._173_1307973611151_C.wav  \n",
            "  inflating: Training B Normal/174_1307987737137_B.wav  \n",
            "  inflating: __MACOSX/Training B Normal/._174_1307987737137_B.wav  \n",
            "  inflating: Training B Normal/174_1307987737137_B1.wav  \n",
            "  inflating: __MACOSX/Training B Normal/._174_1307987737137_B1.wav  \n",
            "  inflating: Training B Normal/175_1307987962616_B.wav  \n",
            "  inflating: __MACOSX/Training B Normal/._175_1307987962616_B.wav  \n",
            "  inflating: Training B Normal/175_1307987962616_B1.wav  \n",
            "  inflating: __MACOSX/Training B Normal/._175_1307987962616_B1.wav  \n",
            "  inflating: Training B Normal/175_1307987962616_D.wav  \n",
            "  inflating: __MACOSX/Training B Normal/._175_1307987962616_D.wav  \n",
            "  inflating: Training B Normal/176_1307988171173_A.wav  \n",
            "  inflating: __MACOSX/Training B Normal/._176_1307988171173_A.wav  \n",
            "  inflating: Training B Normal/176_1307988171173_B.wav  \n",
            "  inflating: __MACOSX/Training B Normal/._176_1307988171173_B.wav  \n",
            "  inflating: Training B Normal/176_1307988171173_B1.wav  \n",
            "  inflating: __MACOSX/Training B Normal/._176_1307988171173_B1.wav  \n",
            "  inflating: Training B Normal/177_1307989650056_A1.wav  \n",
            "  inflating: __MACOSX/Training B Normal/._177_1307989650056_A1.wav  \n",
            "  inflating: Training B Normal/177_1307989650056_B.wav  \n",
            "  inflating: __MACOSX/Training B Normal/._177_1307989650056_B.wav  \n",
            "  inflating: Training B Normal/177_1307989650056_D.wav  \n",
            "  inflating: __MACOSX/Training B Normal/._177_1307989650056_D.wav  \n",
            "  inflating: Training B Normal/177_1307989650056_D1.wav  \n",
            "  inflating: __MACOSX/Training B Normal/._177_1307989650056_D1.wav  \n",
            "  inflating: Training B Normal/178_1307989887769_B.wav  \n",
            "  inflating: __MACOSX/Training B Normal/._178_1307989887769_B.wav  \n",
            "  inflating: Training B Normal/178_1307989887769_D.wav  \n",
            "  inflating: __MACOSX/Training B Normal/._178_1307989887769_D.wav  \n",
            "  inflating: Training B Normal/179_1307990076841_B.wav  \n",
            "  inflating: __MACOSX/Training B Normal/._179_1307990076841_B.wav  \n",
            "  inflating: Training B Normal/179_1307990076841_D.wav  \n",
            "  inflating: __MACOSX/Training B Normal/._179_1307990076841_D.wav  \n",
            "  inflating: Training B Normal/180_1307990956284_A.wav  \n",
            "  inflating: __MACOSX/Training B Normal/._180_1307990956284_A.wav  \n",
            "  inflating: Training B Normal/180_1307990956284_C.wav  \n",
            "  inflating: __MACOSX/Training B Normal/._180_1307990956284_C.wav  \n",
            "  inflating: Training B Normal/181_1308052613891_B.wav  \n",
            "  inflating: __MACOSX/Training B Normal/._181_1308052613891_B.wav  \n",
            "  inflating: Training B Normal/181_1308052613891_D.wav  \n",
            "  inflating: __MACOSX/Training B Normal/._181_1308052613891_D.wav  \n",
            "  inflating: Training B Normal/183_1308072703477_B.wav  \n",
            "  inflating: __MACOSX/Training B Normal/._183_1308072703477_B.wav  \n",
            "  inflating: Training B Normal/183_1308072703477_C.wav  \n",
            "  inflating: __MACOSX/Training B Normal/._183_1308072703477_C.wav  \n",
            "  inflating: Training B Normal/184_1308073010307_B.wav  \n",
            "  inflating: __MACOSX/Training B Normal/._184_1308073010307_B.wav  \n",
            "  inflating: Training B Normal/184_1308073010307_D.wav  \n",
            "  inflating: __MACOSX/Training B Normal/._184_1308073010307_D.wav  \n",
            "  inflating: Training B Normal/186_1308073648738_C1.wav  \n",
            "  inflating: __MACOSX/Training B Normal/._186_1308073648738_C1.wav  \n",
            "  inflating: Training B Normal/186_1308073648738_D.wav  \n",
            "  inflating: __MACOSX/Training B Normal/._186_1308073648738_D.wav  \n",
            "  inflating: Training B Normal/188_1308074301731_C.wav  \n",
            "  inflating: __MACOSX/Training B Normal/._188_1308074301731_C.wav  \n",
            "  inflating: Training B Normal/188_1308074301731_D.wav  \n",
            "  inflating: __MACOSX/Training B Normal/._188_1308074301731_D.wav  \n",
            "  inflating: Training B Normal/190_1308076920011_C1.wav  \n",
            "  inflating: __MACOSX/Training B Normal/._190_1308076920011_C1.wav  \n",
            "  inflating: Training B Normal/190_1308076920011_D.wav  \n",
            "  inflating: __MACOSX/Training B Normal/._190_1308076920011_D.wav  \n",
            "  inflating: Training B Normal/191_1308077299430_B.wav  \n",
            "  inflating: __MACOSX/Training B Normal/._191_1308077299430_B.wav  \n",
            "  inflating: Training B Normal/194_1308139824187_A.wav  \n",
            "  inflating: __MACOSX/Training B Normal/._194_1308139824187_A.wav  \n",
            "  inflating: Training B Normal/194_1308139824187_A1.wav  \n",
            "  inflating: __MACOSX/Training B Normal/._194_1308139824187_A1.wav  \n",
            "  inflating: Training B Normal/198_1308141739338_C.wav  \n",
            "  inflating: __MACOSX/Training B Normal/._198_1308141739338_C.wav  \n",
            "  inflating: Training B Normal/201_1308144942432_A.wav  \n",
            "  inflating: __MACOSX/Training B Normal/._201_1308144942432_A.wav  \n",
            "  inflating: Training B Normal/201_1308144942432_A1.wav  \n",
            "  inflating: __MACOSX/Training B Normal/._201_1308144942432_A1.wav  \n",
            "  inflating: Training B Normal/202_1308145175747_C.wav  \n",
            "  inflating: __MACOSX/Training B Normal/._202_1308145175747_C.wav  \n",
            "  inflating: Training B Normal/202_1308145175747_D.wav  \n",
            "  inflating: __MACOSX/Training B Normal/._202_1308145175747_D.wav  \n",
            "  inflating: Training B Normal/204_1308159229275_C.wav  \n",
            "  inflating: __MACOSX/Training B Normal/._204_1308159229275_C.wav  \n",
            "  inflating: Training B Normal/204_1308159229275_D.wav  \n",
            "  inflating: __MACOSX/Training B Normal/._204_1308159229275_D.wav  \n",
            "  inflating: Training B Normal/206_1308159601959_C.wav  \n",
            "  inflating: __MACOSX/Training B Normal/._206_1308159601959_C.wav  \n",
            "  inflating: Training B Normal/207_1308159792607_C.wav  \n",
            "  inflating: __MACOSX/Training B Normal/._207_1308159792607_C.wav  \n",
            "  inflating: Training B Normal/208_1308159994503_C.wav  \n",
            "  inflating: __MACOSX/Training B Normal/._208_1308159994503_C.wav  \n",
            "  inflating: Training B Normal/209_1308162216750_A.wav  \n",
            "  inflating: __MACOSX/Training B Normal/._209_1308162216750_A.wav  \n",
            "  inflating: Training B Normal/209_1308162216750_A1.wav  \n",
            "  inflating: __MACOSX/Training B Normal/._209_1308162216750_A1.wav  \n",
            "  inflating: Training B Normal/210_1308162935880_B.wav  \n",
            "  inflating: __MACOSX/Training B Normal/._210_1308162935880_B.wav  \n",
            "  inflating: Training B Normal/210_1308162935880_B1.wav  \n",
            "  inflating: __MACOSX/Training B Normal/._210_1308162935880_B1.wav  \n",
            "  inflating: Training B Normal/210_1308162935880_D1.wav  \n",
            "  inflating: __MACOSX/Training B Normal/._210_1308162935880_D1.wav  \n",
            "  inflating: Training B Normal/210_1308162935880_D2.wav  \n",
            "  inflating: __MACOSX/Training B Normal/._210_1308162935880_D2.wav  \n",
            "  inflating: Training B Normal/213_1308245263936_C.wav  \n",
            "  inflating: __MACOSX/Training B Normal/._213_1308245263936_C.wav  \n",
            "  inflating: Training B Normal/214_1308245489717_A.wav  \n",
            "  inflating: __MACOSX/Training B Normal/._214_1308245489717_A.wav  \n",
            "  inflating: Training B Normal/215_1308245664733_C.wav  \n",
            "  inflating: __MACOSX/Training B Normal/._215_1308245664733_C.wav  \n",
            "  inflating: Training B Normal/215_1308245664733_C1.wav  \n",
            "  inflating: __MACOSX/Training B Normal/._215_1308245664733_C1.wav  \n",
            "  inflating: Training B Normal/216_1308245839516_C.wav  \n",
            "  inflating: __MACOSX/Training B Normal/._216_1308245839516_C.wav  \n",
            "  inflating: Training B Normal/217_1308246111629_C.wav  \n",
            "  inflating: __MACOSX/Training B Normal/._217_1308246111629_C.wav  \n",
            "  inflating: Training B Normal/217_1308246111629_C1.wav  \n",
            "  inflating: __MACOSX/Training B Normal/._217_1308246111629_C1.wav  \n",
            "  inflating: Training B Normal/218_1308246311449_C.wav  \n",
            "  inflating: __MACOSX/Training B Normal/._218_1308246311449_C.wav  \n",
            "  inflating: Training B Normal/218_1308246311449_C1.wav  \n",
            "  inflating: __MACOSX/Training B Normal/._218_1308246311449_C1.wav  \n",
            "  inflating: Training B Normal/220_1308250132896_C.wav  \n",
            "  inflating: __MACOSX/Training B Normal/._220_1308250132896_C.wav  \n",
            "  inflating: Training B Normal/220_1308250132896_D.wav  \n",
            "  inflating: __MACOSX/Training B Normal/._220_1308250132896_D.wav  \n",
            "  inflating: Training B Normal/224_1308337157445_C.wav  \n",
            "  inflating: __MACOSX/Training B Normal/._224_1308337157445_C.wav  \n",
            "  inflating: Training B Normal/227_1308594233667_B.wav  \n",
            "  inflating: __MACOSX/Training B Normal/._227_1308594233667_B.wav  \n",
            "  inflating: Training B Normal/227_1308594233667_C.wav  \n",
            "  inflating: __MACOSX/Training B Normal/._227_1308594233667_C.wav  \n",
            "  inflating: Training B Normal/230_1308595300880_B.wav  \n",
            "  inflating: __MACOSX/Training B Normal/._230_1308595300880_B.wav  \n",
            "  inflating: Training B Normal/230_1308595300880_C.wav  \n",
            "  inflating: __MACOSX/Training B Normal/._230_1308595300880_C.wav  \n",
            "  inflating: Training B Normal/232_1308748524018_A.wav  \n",
            "  inflating: __MACOSX/Training B Normal/._232_1308748524018_A.wav  \n",
            "  inflating: Training B Normal/232_1308748524018_B.wav  \n",
            "  inflating: __MACOSX/Training B Normal/._232_1308748524018_B.wav  \n",
            "  inflating: Training B Normal/232_1308748524018_B1.wav  \n",
            "  inflating: __MACOSX/Training B Normal/._232_1308748524018_B1.wav  \n",
            "  inflating: Training B Normal/232_1308748524018_C.wav  \n",
            "  inflating: __MACOSX/Training B Normal/._232_1308748524018_C.wav  \n",
            "  inflating: Training B Normal/232_1308748524018_D1.wav  \n",
            "  inflating: __MACOSX/Training B Normal/._232_1308748524018_D1.wav  \n",
            "  inflating: Training B Normal/235_1308749032454_C.wav  \n",
            "  inflating: __MACOSX/Training B Normal/._235_1308749032454_C.wav  \n",
            "  inflating: Training B Normal/235_1308749032454_D.wav  \n",
            "  inflating: __MACOSX/Training B Normal/._235_1308749032454_D.wav  \n",
            "  inflating: Training B Normal/237_1308750231222_C.wav  \n",
            "  inflating: __MACOSX/Training B Normal/._237_1308750231222_C.wav  \n",
            "  inflating: Training B Normal/238_1309194586293_A.wav  \n",
            "  inflating: __MACOSX/Training B Normal/._238_1309194586293_A.wav  \n",
            "  inflating: Training B Normal/238_1309194586293_B.wav  \n",
            "  inflating: __MACOSX/Training B Normal/._238_1309194586293_B.wav  \n",
            "  inflating: Training B Normal/250_1309202496494_A.wav  \n",
            "  inflating: __MACOSX/Training B Normal/._250_1309202496494_A.wav  \n",
            "  inflating: Training B Normal/250_1309202496494_B.wav  \n",
            "  inflating: __MACOSX/Training B Normal/._250_1309202496494_B.wav  \n",
            "  inflating: Training B Normal/252_1309203336604_B.wav  \n",
            "  inflating: __MACOSX/Training B Normal/._252_1309203336604_B.wav  \n",
            "  inflating: Training B Normal/256_1309351470137_A.wav  \n",
            "  inflating: __MACOSX/Training B Normal/._256_1309351470137_A.wav  \n",
            "  inflating: Training B Normal/258_1309352253234_C.wav  \n",
            "  inflating: __MACOSX/Training B Normal/._258_1309352253234_C.wav  \n",
            "  inflating: Training B Normal/260_1309353164458_C.wav  \n",
            "  inflating: __MACOSX/Training B Normal/._260_1309353164458_C.wav  \n",
            "  inflating: Training B Normal/261_1309353556003_B.wav  \n",
            "  inflating: __MACOSX/Training B Normal/._261_1309353556003_B.wav  \n",
            "  inflating: Training B Normal/262_1309355283807_A.wav  \n",
            "  inflating: __MACOSX/Training B Normal/._262_1309355283807_A.wav  \n",
            "  inflating: Training B Normal/267_1309368735165_A.wav  \n",
            "  inflating: __MACOSX/Training B Normal/._267_1309368735165_A.wav  \n",
            "  inflating: Training B Normal/270_1309369533040_C.wav  \n",
            "  inflating: __MACOSX/Training B Normal/._270_1309369533040_C.wav  \n",
            "  inflating: Training B Normal/273_1309370841191_B.wav  \n",
            "  inflating: __MACOSX/Training B Normal/._273_1309370841191_B.wav  \n",
            "  inflating: Training B Normal/274_1311075637574_A1.wav  \n",
            "  inflating: __MACOSX/Training B Normal/._274_1311075637574_A1.wav  \n",
            "  inflating: Training B Normal/274_1311075637574_B.wav  \n",
            "  inflating: __MACOSX/Training B Normal/._274_1311075637574_B.wav  \n",
            "  inflating: Training B Normal/274_1311075637574_B1.wav  \n",
            "  inflating: __MACOSX/Training B Normal/._274_1311075637574_B1.wav  \n",
            "  inflating: Training B Normal/274_1311075637574_D.wav  \n",
            "  inflating: __MACOSX/Training B Normal/._274_1311075637574_D.wav  \n",
            "  inflating: Training B Normal/278_1311163365896_A.wav  \n",
            "  inflating: __MACOSX/Training B Normal/._278_1311163365896_A.wav  \n",
            "  inflating: Training B Normal/278_1311163365896_A1.wav  \n",
            "  inflating: __MACOSX/Training B Normal/._278_1311163365896_A1.wav  \n",
            "  inflating: Training B Normal/280_1311165195344_A.wav  \n",
            "  inflating: __MACOSX/Training B Normal/._280_1311165195344_A.wav  \n",
            "  inflating: Training B Normal/282_1311166081161_C.wav  \n",
            "  inflating: __MACOSX/Training B Normal/._282_1311166081161_C.wav  \n",
            "  inflating: Training B Normal/283_1311167409239_A.wav  \n",
            "  inflating: __MACOSX/Training B Normal/._283_1311167409239_A.wav  \n",
            "  inflating: Training B Normal/286_1311170606028_A.wav  \n",
            "  inflating: __MACOSX/Training B Normal/._286_1311170606028_A.wav  \n",
            "  inflating: Training B Normal/286_1311170606028_A1.wav  \n",
            "  inflating: __MACOSX/Training B Normal/._286_1311170606028_A1.wav  \n",
            "  inflating: Training B Normal/286_1311170606028_B1.wav  \n",
            "  inflating: __MACOSX/Training B Normal/._286_1311170606028_B1.wav  \n",
            "  inflating: Training B Normal/286_1311170606028_C.wav  \n",
            "  inflating: __MACOSX/Training B Normal/._286_1311170606028_C.wav  \n",
            "  inflating: Training B Normal/290_1311182875320_A.wav  \n",
            "  inflating: __MACOSX/Training B Normal/._290_1311182875320_A.wav  \n",
            "  inflating: Training B Normal/291_1311185210672_A.wav  \n",
            "  inflating: __MACOSX/Training B Normal/._291_1311185210672_A.wav  \n",
            "  inflating: Training B Normal/294_1311681084248_A.wav  \n",
            "  inflating: __MACOSX/Training B Normal/._294_1311681084248_A.wav  \n",
            "  inflating: Training B Normal/294_1311681084248_B.wav  \n",
            "  inflating: __MACOSX/Training B Normal/._294_1311681084248_B.wav  \n",
            "  inflating: Training B Normal/294_1311681084248_D1.wav  \n",
            "  inflating: __MACOSX/Training B Normal/._294_1311681084248_D1.wav  \n",
            "  inflating: Training B Normal/295_1311682673157_D.wav  \n",
            "  inflating: __MACOSX/Training B Normal/._295_1311682673157_D.wav  \n",
            "  inflating: Training B Normal/296_1311682952647_A1.wav  \n",
            "  inflating: __MACOSX/Training B Normal/._296_1311682952647_A1.wav  \n",
            "  inflating: Training B Normal/296_1311682952647_A2.wav  \n",
            "  inflating: __MACOSX/Training B Normal/._296_1311682952647_A2.wav  \n",
            "  inflating: Training B Normal/298_1311685888900_B.wav  \n",
            "  inflating: __MACOSX/Training B Normal/._298_1311685888900_B.wav  \n",
            "  inflating: Training B Normal/299_1311770522820_C.wav  \n",
            "  inflating: __MACOSX/Training B Normal/._299_1311770522820_C.wav  \n",
            "  inflating: Training B Normal/300_1311772096120_C1.wav  \n",
            "  inflating: __MACOSX/Training B Normal/._300_1311772096120_C1.wav  \n",
            "  inflating: Training B Normal/Btraining_noisynormal/101_1305030823364_B.wav  \n",
            "  inflating: __MACOSX/Training B Normal/Btraining_noisynormal/._101_1305030823364_B.wav  \n",
            "  inflating: Training B Normal/Btraining_noisynormal/101_1305030823364_E.wav  \n",
            "  inflating: __MACOSX/Training B Normal/Btraining_noisynormal/._101_1305030823364_E.wav  \n",
            "  inflating: Training B Normal/Btraining_noisynormal/104_1305032492469_A.wav  \n",
            "  inflating: __MACOSX/Training B Normal/Btraining_noisynormal/._104_1305032492469_A.wav  \n",
            "  inflating: Training B Normal/Btraining_noisynormal/105_1305033453095_A.wav  \n",
            "  inflating: __MACOSX/Training B Normal/Btraining_noisynormal/._105_1305033453095_A.wav  \n",
            "  inflating: Training B Normal/Btraining_noisynormal/105_1305033453095_C.wav  \n",
            "  inflating: __MACOSX/Training B Normal/Btraining_noisynormal/._105_1305033453095_C.wav  \n",
            "  inflating: Training B Normal/Btraining_noisynormal/106_1306776721273_A.wav  \n",
            "  inflating: __MACOSX/Training B Normal/Btraining_noisynormal/._106_1306776721273_A.wav  \n",
            "  inflating: Training B Normal/Btraining_noisynormal/107_1305654946865_A.wav  \n",
            "  inflating: __MACOSX/Training B Normal/Btraining_noisynormal/._107_1305654946865_A.wav  \n",
            "  inflating: Training B Normal/Btraining_noisynormal/108_1305654420093_A.wav  \n",
            "  inflating: __MACOSX/Training B Normal/Btraining_noisynormal/._108_1305654420093_A.wav  \n",
            "  inflating: Training B Normal/Btraining_noisynormal/108_1305654420093_B.wav  \n",
            "  inflating: __MACOSX/Training B Normal/Btraining_noisynormal/._108_1305654420093_B.wav  \n",
            "  inflating: Training B Normal/Btraining_noisynormal/109_1305653646620_A.wav  \n",
            "  inflating: __MACOSX/Training B Normal/Btraining_noisynormal/._109_1305653646620_A.wav  \n",
            "  inflating: Training B Normal/Btraining_noisynormal/109_1305653972028_A.wav  \n",
            "  inflating: __MACOSX/Training B Normal/Btraining_noisynormal/._109_1305653972028_A.wav  \n",
            "  inflating: Training B Normal/Btraining_noisynormal/109_1305653972028_C.wav  \n",
            "  inflating: __MACOSX/Training B Normal/Btraining_noisynormal/._109_1305653972028_C.wav  \n",
            "  inflating: Training B Normal/Btraining_noisynormal/109_1305653972028_E.wav  \n",
            "  inflating: __MACOSX/Training B Normal/Btraining_noisynormal/._109_1305653972028_E.wav  \n",
            "  inflating: Training B Normal/Btraining_noisynormal/109_1305653972028_F.wav  \n",
            "  inflating: __MACOSX/Training B Normal/Btraining_noisynormal/._109_1305653972028_F.wav  \n",
            "  inflating: Training B Normal/Btraining_noisynormal/110_1305655332337_A.wav  \n",
            "  inflating: __MACOSX/Training B Normal/Btraining_noisynormal/._110_1305655332337_A.wav  \n",
            "  inflating: Training B Normal/Btraining_noisynormal/110_1305655332337_B.wav  \n",
            "  inflating: __MACOSX/Training B Normal/Btraining_noisynormal/._110_1305655332337_B.wav  \n",
            "  inflating: Training B Normal/Btraining_noisynormal/113_1306244002866_A.wav  \n",
            "  inflating: __MACOSX/Training B Normal/Btraining_noisynormal/._113_1306244002866_A.wav  \n",
            "  inflating: Training B Normal/Btraining_noisynormal/113_1306244002866_B.wav  \n",
            "  inflating: __MACOSX/Training B Normal/Btraining_noisynormal/._113_1306244002866_B.wav  \n",
            "  inflating: Training B Normal/Btraining_noisynormal/115_1306259437619_A1.wav  \n",
            "  inflating: __MACOSX/Training B Normal/Btraining_noisynormal/._115_1306259437619_A1.wav  \n",
            "  inflating: Training B Normal/Btraining_noisynormal/115_1306259437619_B.wav  \n",
            "  inflating: __MACOSX/Training B Normal/Btraining_noisynormal/._115_1306259437619_B.wav  \n",
            "  inflating: Training B Normal/Btraining_noisynormal/117_1306262456650_A.wav  \n",
            "  inflating: __MACOSX/Training B Normal/Btraining_noisynormal/._117_1306262456650_A.wav  \n",
            "  inflating: Training B Normal/Btraining_noisynormal/117_1306262456650_C.wav  \n",
            "  inflating: __MACOSX/Training B Normal/Btraining_noisynormal/._117_1306262456650_C.wav  \n",
            "  inflating: Training B Normal/Btraining_noisynormal/117_1306262456650_D.wav  \n",
            "  inflating: __MACOSX/Training B Normal/Btraining_noisynormal/._117_1306262456650_D.wav  \n",
            "  inflating: Training B Normal/Btraining_noisynormal/118_1306262335509_B.wav  \n",
            "  inflating: __MACOSX/Training B Normal/Btraining_noisynormal/._118_1306262335509_B.wav  \n",
            "  inflating: Training B Normal/Btraining_noisynormal/118_1306262335509_C1.wav  \n",
            "  inflating: __MACOSX/Training B Normal/Btraining_noisynormal/._118_1306262335509_C1.wav  \n",
            "  inflating: Training B Normal/Btraining_noisynormal/118_1306262335509_D.wav  \n",
            "  inflating: __MACOSX/Training B Normal/Btraining_noisynormal/._118_1306262335509_D.wav  \n",
            "  inflating: Training B Normal/Btraining_noisynormal/121_1306263877235_A.wav  \n",
            "  inflating: __MACOSX/Training B Normal/Btraining_noisynormal/._121_1306263877235_A.wav  \n",
            "  inflating: Training B Normal/Btraining_noisynormal/121_1306263877235_C.wav  \n",
            "  inflating: __MACOSX/Training B Normal/Btraining_noisynormal/._121_1306263877235_C.wav  \n",
            "  inflating: Training B Normal/Btraining_noisynormal/121_1306263877235_D.wav  \n",
            "  inflating: __MACOSX/Training B Normal/Btraining_noisynormal/._121_1306263877235_D.wav  \n",
            "  inflating: Training B Normal/Btraining_noisynormal/123_1306331925797_B.wav  \n",
            "  inflating: __MACOSX/Training B Normal/Btraining_noisynormal/._123_1306331925797_B.wav  \n",
            "  inflating: Training B Normal/Btraining_noisynormal/123_1306331925797_C.wav  \n",
            "  inflating: __MACOSX/Training B Normal/Btraining_noisynormal/._123_1306331925797_C.wav  \n",
            "  inflating: Training B Normal/Btraining_noisynormal/125_1306332456645_A1.wav  \n",
            "  inflating: __MACOSX/Training B Normal/Btraining_noisynormal/._125_1306332456645_A1.wav  \n",
            "  inflating: Training B Normal/Btraining_noisynormal/125_1306332456645_A2.wav  \n",
            "  inflating: __MACOSX/Training B Normal/Btraining_noisynormal/._125_1306332456645_A2.wav  \n",
            "  inflating: Training B Normal/Btraining_noisynormal/125_1306332456645_B1.wav  \n",
            "  inflating: __MACOSX/Training B Normal/Btraining_noisynormal/._125_1306332456645_B1.wav  \n",
            "  inflating: Training B Normal/Btraining_noisynormal/125_1306332456645_C.wav  \n",
            "  inflating: __MACOSX/Training B Normal/Btraining_noisynormal/._125_1306332456645_C.wav  \n",
            "  inflating: Training B Normal/Btraining_noisynormal/125_1306332456645_D.wav  \n",
            "  inflating: __MACOSX/Training B Normal/Btraining_noisynormal/._125_1306332456645_D.wav  \n",
            "  inflating: Training B Normal/Btraining_noisynormal/127_1306764300147_D1.wav  \n",
            "  inflating: __MACOSX/Training B Normal/Btraining_noisynormal/._127_1306764300147_D1.wav  \n",
            "  inflating: Training B Normal/Btraining_noisynormal/129_1306344506305_A.wav  \n",
            "  inflating: __MACOSX/Training B Normal/Btraining_noisynormal/._129_1306344506305_A.wav  \n",
            "  inflating: Training B Normal/Btraining_noisynormal/129_1306344506305_C.wav  \n",
            "  inflating: __MACOSX/Training B Normal/Btraining_noisynormal/._129_1306344506305_C.wav  \n",
            "  inflating: Training B Normal/Btraining_noisynormal/130_1306347376079_B.wav  \n",
            "  inflating: __MACOSX/Training B Normal/Btraining_noisynormal/._130_1306347376079_B.wav  \n",
            "  inflating: Training B Normal/Btraining_noisynormal/130_1306347376079_C.wav  \n",
            "  inflating: __MACOSX/Training B Normal/Btraining_noisynormal/._130_1306347376079_C.wav  \n",
            "  inflating: Training B Normal/Btraining_noisynormal/132_1306758754432_B1.wav  \n",
            "  inflating: __MACOSX/Training B Normal/Btraining_noisynormal/._132_1306758754432_B1.wav  \n",
            "  inflating: Training B Normal/Btraining_noisynormal/132_1306758754432_C.wav  \n",
            "  inflating: __MACOSX/Training B Normal/Btraining_noisynormal/._132_1306758754432_C.wav  \n",
            "  inflating: Training B Normal/Btraining_noisynormal/133_1306759619127_A1.wav  \n",
            "  inflating: __MACOSX/Training B Normal/Btraining_noisynormal/._133_1306759619127_A1.wav  \n",
            "  inflating: Training B Normal/Btraining_noisynormal/133_1306759619127_B1.wav  \n",
            "  inflating: __MACOSX/Training B Normal/Btraining_noisynormal/._133_1306759619127_B1.wav  \n",
            "  inflating: Training B Normal/Btraining_noisynormal/133_1306759619127_C.wav  \n",
            "  inflating: __MACOSX/Training B Normal/Btraining_noisynormal/._133_1306759619127_C.wav  \n",
            "  inflating: Training B Normal/Btraining_noisynormal/133_1306759619127_D1.wav  \n",
            "  inflating: __MACOSX/Training B Normal/Btraining_noisynormal/._133_1306759619127_D1.wav  \n",
            "  inflating: Training B Normal/Btraining_noisynormal/134_1306428161797_B1.wav  \n",
            "  inflating: __MACOSX/Training B Normal/Btraining_noisynormal/._134_1306428161797_B1.wav  \n",
            "  inflating: Training B Normal/Btraining_noisynormal/134_1306428161797_D1.wav  \n",
            "  inflating: __MACOSX/Training B Normal/Btraining_noisynormal/._134_1306428161797_D1.wav  \n",
            "  inflating: Training B Normal/Btraining_noisynormal/136_1306429977501_B.wav  \n",
            "  inflating: __MACOSX/Training B Normal/Btraining_noisynormal/._136_1306429977501_B.wav  \n",
            "  inflating: Training B Normal/Btraining_noisynormal/136_1306429977501_C.wav  \n",
            "  inflating: __MACOSX/Training B Normal/Btraining_noisynormal/._136_1306429977501_C.wav  \n",
            "  inflating: Training B Normal/Btraining_noisynormal/136_1306429977501_D1.wav  \n",
            "  inflating: __MACOSX/Training B Normal/Btraining_noisynormal/._136_1306429977501_D1.wav  \n",
            "  inflating: Training B Normal/Btraining_noisynormal/137_1306764999211_A1.wav  \n",
            "  inflating: __MACOSX/Training B Normal/Btraining_noisynormal/._137_1306764999211_A1.wav  \n",
            "  inflating: Training B Normal/Btraining_noisynormal/137_1306764999211_A2.wav  \n",
            "  inflating: __MACOSX/Training B Normal/Btraining_noisynormal/._137_1306764999211_A2.wav  \n",
            "  inflating: Training B Normal/Btraining_noisynormal/137_1306764999211_B.wav  \n",
            "  inflating: __MACOSX/Training B Normal/Btraining_noisynormal/._137_1306764999211_B.wav  \n",
            "  inflating: Training B Normal/Btraining_noisynormal/137_1306764999211_C1.wav  \n",
            "  inflating: __MACOSX/Training B Normal/Btraining_noisynormal/._137_1306764999211_C1.wav  \n",
            "  inflating: Training B Normal/Btraining_noisynormal/137_1306764999211_D1.wav  \n",
            "  inflating: __MACOSX/Training B Normal/Btraining_noisynormal/._137_1306764999211_D1.wav  \n",
            "  inflating: Training B Normal/Btraining_noisynormal/138_1306762146980_A.wav  \n",
            "  inflating: __MACOSX/Training B Normal/Btraining_noisynormal/._138_1306762146980_A.wav  \n",
            "  inflating: Training B Normal/Btraining_noisynormal/138_1306762146980_D.wav  \n",
            "  inflating: __MACOSX/Training B Normal/Btraining_noisynormal/._138_1306762146980_D.wav  \n",
            "  inflating: Training B Normal/Btraining_noisynormal/139_1306519274653_D.wav  \n",
            "  inflating: __MACOSX/Training B Normal/Btraining_noisynormal/._139_1306519274653_D.wav  \n",
            "  inflating: Training B Normal/Btraining_noisynormal/140_1306519735121_C.wav  \n",
            "  inflating: __MACOSX/Training B Normal/Btraining_noisynormal/._140_1306519735121_C.wav  \n",
            "  inflating: Training B Normal/Btraining_noisynormal/141_1306520154450_A1.wav  \n",
            "  inflating: __MACOSX/Training B Normal/Btraining_noisynormal/._141_1306520154450_A1.wav  \n",
            "  inflating: Training B Normal/Btraining_noisynormal/141_1306520154450_B1.wav  \n",
            "  inflating: __MACOSX/Training B Normal/Btraining_noisynormal/._141_1306520154450_B1.wav  \n",
            "  inflating: Training B Normal/Btraining_noisynormal/141_1306520154450_C1.wav  \n",
            "  inflating: __MACOSX/Training B Normal/Btraining_noisynormal/._141_1306520154450_C1.wav  \n",
            "  inflating: Training B Normal/Btraining_noisynormal/142_1306763049574_A.wav  \n",
            "  inflating: __MACOSX/Training B Normal/Btraining_noisynormal/._142_1306763049574_A.wav  \n",
            "  inflating: Training B Normal/Btraining_noisynormal/142_1306763049574_B.wav  \n",
            "  inflating: __MACOSX/Training B Normal/Btraining_noisynormal/._142_1306763049574_B.wav  \n",
            "  inflating: Training B Normal/Btraining_noisynormal/142_1306763049574_D.wav  \n",
            "  inflating: __MACOSX/Training B Normal/Btraining_noisynormal/._142_1306763049574_D.wav  \n",
            "  inflating: Training B Normal/Btraining_noisynormal/143_1306763822290_A.wav  \n",
            "  inflating: __MACOSX/Training B Normal/Btraining_noisynormal/._143_1306763822290_A.wav  \n",
            "  inflating: Training B Normal/Btraining_noisynormal/144_1306522408528_A1.wav  \n",
            "  inflating: __MACOSX/Training B Normal/Btraining_noisynormal/._144_1306522408528_A1.wav  \n",
            "  inflating: Training B Normal/Btraining_noisynormal/144_1306522408528_C.wav  \n",
            "  inflating: __MACOSX/Training B Normal/Btraining_noisynormal/._144_1306522408528_C.wav  \n",
            "  inflating: Training B Normal/Btraining_noisynormal/146_1306778707532_D.wav  \n",
            "  inflating: __MACOSX/Training B Normal/Btraining_noisynormal/._146_1306778707532_D.wav  \n",
            "  inflating: Training B Normal/Btraining_noisynormal/147_1306523973811_B.wav  \n",
            "  inflating: __MACOSX/Training B Normal/Btraining_noisynormal/._147_1306523973811_B.wav  \n",
            "  inflating: Training B Normal/Btraining_noisynormal/149_1306776016110_A.wav  \n",
            "  inflating: __MACOSX/Training B Normal/Btraining_noisynormal/._149_1306776016110_A.wav  \n",
            "  inflating: Training B Normal/Btraining_noisynormal/150_1306776340746_A.wav  \n",
            "  inflating: __MACOSX/Training B Normal/Btraining_noisynormal/._150_1306776340746_A.wav  \n",
            "  inflating: Training B Normal/Btraining_noisynormal/151_1306779785624_C.wav  \n",
            "  inflating: __MACOSX/Training B Normal/Btraining_noisynormal/._151_1306779785624_C.wav  \n",
            "  inflating: Training B Normal/Btraining_noisynormal/154_1306935608852_C.wav  \n",
            "  inflating: __MACOSX/Training B Normal/Btraining_noisynormal/._154_1306935608852_C.wav  \n",
            "  inflating: Training B Normal/Btraining_noisynormal/155_1306935902813_A.wav  \n",
            "  inflating: __MACOSX/Training B Normal/Btraining_noisynormal/._155_1306935902813_A.wav  \n",
            "  inflating: Training B Normal/Btraining_noisynormal/155_1306935902813_C.wav  \n",
            "  inflating: __MACOSX/Training B Normal/Btraining_noisynormal/._155_1306935902813_C.wav  \n",
            "  inflating: Training B Normal/Btraining_noisynormal/157_1306937583792_A.wav  \n",
            "  inflating: __MACOSX/Training B Normal/Btraining_noisynormal/._157_1306937583792_A.wav  \n",
            "  inflating: Training B Normal/Btraining_noisynormal/157_1306937583792_B.wav  \n",
            "  inflating: __MACOSX/Training B Normal/Btraining_noisynormal/._157_1306937583792_B.wav  \n",
            "  inflating: Training B Normal/Btraining_noisynormal/158_1306947254705_B1.wav  \n",
            "  inflating: __MACOSX/Training B Normal/Btraining_noisynormal/._158_1306947254705_B1.wav  \n",
            "  inflating: Training B Normal/Btraining_noisynormal/158_1306947254705_D.wav  \n",
            "  inflating: __MACOSX/Training B Normal/Btraining_noisynormal/._158_1306947254705_D.wav  \n",
            "  inflating: Training B Normal/Btraining_noisynormal/159_1307018640315_A1.wav  \n",
            "  inflating: __MACOSX/Training B Normal/Btraining_noisynormal/._159_1307018640315_A1.wav  \n",
            "  inflating: Training B Normal/Btraining_noisynormal/159_1307018640315_B.wav  \n",
            "  inflating: __MACOSX/Training B Normal/Btraining_noisynormal/._159_1307018640315_B.wav  \n",
            "  inflating: Training B Normal/Btraining_noisynormal/163_1307104470471_D1.wav  \n",
            "  inflating: __MACOSX/Training B Normal/Btraining_noisynormal/._163_1307104470471_D1.wav  \n",
            "  inflating: Training B Normal/Btraining_noisynormal/167_1307111318050_A1.wav  \n",
            "  inflating: __MACOSX/Training B Normal/Btraining_noisynormal/._167_1307111318050_A1.wav  \n",
            "  inflating: Training B Normal/Btraining_noisynormal/167_1307111318050_B.wav  \n",
            "  inflating: __MACOSX/Training B Normal/Btraining_noisynormal/._167_1307111318050_B.wav  \n",
            "  inflating: Training B Normal/Btraining_noisynormal/168_1307970069434_A1.wav  \n",
            "  inflating: __MACOSX/Training B Normal/Btraining_noisynormal/._168_1307970069434_A1.wav  \n",
            "  inflating: Training B Normal/Btraining_noisynormal/169_1307970398039_A.wav  \n",
            "  inflating: __MACOSX/Training B Normal/Btraining_noisynormal/._169_1307970398039_A.wav  \n",
            "  inflating: Training B Normal/Btraining_noisynormal/170_1307970562729_C1.wav  \n",
            "  inflating: __MACOSX/Training B Normal/Btraining_noisynormal/._170_1307970562729_C1.wav  \n",
            "  inflating: Training B Normal/Btraining_noisynormal/172_1307971284351_A.wav  \n",
            "  inflating: __MACOSX/Training B Normal/Btraining_noisynormal/._172_1307971284351_A.wav  \n",
            "  inflating: Training B Normal/Btraining_noisynormal/173_1307973611151_B.wav  \n",
            "  inflating: __MACOSX/Training B Normal/Btraining_noisynormal/._173_1307973611151_B.wav  \n",
            "  inflating: Training B Normal/Btraining_noisynormal/173_1307973611151_C1.wav  \n",
            "  inflating: __MACOSX/Training B Normal/Btraining_noisynormal/._173_1307973611151_C1.wav  \n",
            "  inflating: Training B Normal/Btraining_noisynormal/176_1307988171173_D.wav  \n",
            "  inflating: __MACOSX/Training B Normal/Btraining_noisynormal/._176_1307988171173_D.wav  \n",
            "  inflating: Training B Normal/Btraining_noisynormal/178_1307989887769_B1.wav  \n",
            "  inflating: __MACOSX/Training B Normal/Btraining_noisynormal/._178_1307989887769_B1.wav  \n",
            "  inflating: Training B Normal/Btraining_noisynormal/181_1308052613891_A.wav  \n",
            "  inflating: __MACOSX/Training B Normal/Btraining_noisynormal/._181_1308052613891_A.wav  \n",
            "  inflating: Training B Normal/Btraining_noisynormal/182_1308053371395_B.wav  \n",
            "  inflating: __MACOSX/Training B Normal/Btraining_noisynormal/._182_1308053371395_B.wav  \n",
            "  inflating: Training B Normal/Btraining_noisynormal/188_1308074301731_A.wav  \n",
            "  inflating: __MACOSX/Training B Normal/Btraining_noisynormal/._188_1308074301731_A.wav  \n",
            "  inflating: Training B Normal/Btraining_noisynormal/189_1308075231945_A1.wav  \n",
            "  inflating: __MACOSX/Training B Normal/Btraining_noisynormal/._189_1308075231945_A1.wav  \n",
            "  inflating: Training B Normal/Btraining_noisynormal/194_1308139824187_C.wav  \n",
            "  inflating: __MACOSX/Training B Normal/Btraining_noisynormal/._194_1308139824187_C.wav  \n",
            "  inflating: Training B Normal/Btraining_noisynormal/198_1308141739338_D.wav  \n",
            "  inflating: __MACOSX/Training B Normal/Btraining_noisynormal/._198_1308141739338_D.wav  \n",
            "  inflating: Training B Normal/Btraining_noisynormal/207_1308159792607_D.wav  \n",
            "  inflating: __MACOSX/Training B Normal/Btraining_noisynormal/._207_1308159792607_D.wav  \n",
            "  inflating: Training B Normal/Btraining_noisynormal/216_1308245839516_D.wav  \n",
            "  inflating: __MACOSX/Training B Normal/Btraining_noisynormal/._216_1308245839516_D.wav  \n",
            "  inflating: Training B Normal/Btraining_noisynormal/234_1308748855534_B.wav  \n",
            "  inflating: __MACOSX/Training B Normal/Btraining_noisynormal/._234_1308748855534_B.wav  \n",
            "  inflating: Training B Normal/Btraining_noisynormal/246_1309199278902_D.wav  \n",
            "  inflating: __MACOSX/Training B Normal/Btraining_noisynormal/._246_1309199278902_D.wav  \n",
            "  inflating: Training B Normal/Btraining_noisynormal/258_1309352253234_A.wav  \n",
            "  inflating: __MACOSX/Training B Normal/Btraining_noisynormal/._258_1309352253234_A.wav  \n",
            "  inflating: Training B Normal/Btraining_noisynormal/264_1309356143724_B.wav  \n",
            "  inflating: __MACOSX/Training B Normal/Btraining_noisynormal/._264_1309356143724_B.wav  \n",
            "  inflating: Training B Normal/Btraining_noisynormal/264_1309356143724_C.wav  \n",
            "  inflating: __MACOSX/Training B Normal/Btraining_noisynormal/._264_1309356143724_C.wav  \n",
            "  inflating: Training B Normal/Btraining_noisynormal/264_1309356143724_D.wav  \n",
            "  inflating: __MACOSX/Training B Normal/Btraining_noisynormal/._264_1309356143724_D.wav  \n",
            "  inflating: Training B Normal/Btraining_noisynormal/270_1309369533040_A.wav  \n",
            "  inflating: __MACOSX/Training B Normal/Btraining_noisynormal/._270_1309369533040_A.wav  \n",
            "  inflating: Training B Normal/Btraining_noisynormal/270_1309369533040_B.wav  \n",
            "  inflating: __MACOSX/Training B Normal/Btraining_noisynormal/._270_1309369533040_B.wav  \n",
            "  inflating: Training B Normal/Btraining_noisynormal/271_1309369876160_A.wav  \n",
            "  inflating: __MACOSX/Training B Normal/Btraining_noisynormal/._271_1309369876160_A.wav  \n",
            "  inflating: Training B Normal/Btraining_noisynormal/271_1309369876160_C.wav  \n",
            "  inflating: __MACOSX/Training B Normal/Btraining_noisynormal/._271_1309369876160_C.wav  \n",
            "  inflating: Training B Normal/Btraining_noisynormal/271_1309369876160_D.wav  \n",
            "  inflating: __MACOSX/Training B Normal/Btraining_noisynormal/._271_1309369876160_D.wav  \n",
            "  inflating: Training B Normal/Btraining_noisynormal/278_1311163365896_B.wav  \n",
            "  inflating: __MACOSX/Training B Normal/Btraining_noisynormal/._278_1311163365896_B.wav  \n",
            "  inflating: Training B Normal/Btraining_noisynormal/284_1311168471850_A.wav  \n",
            "  inflating: __MACOSX/Training B Normal/Btraining_noisynormal/._284_1311168471850_A.wav  \n",
            "  inflating: Training B Normal/Btraining_noisynormal/284_1311168471850_B.wav  \n",
            "  inflating: __MACOSX/Training B Normal/Btraining_noisynormal/._284_1311168471850_B.wav  \n",
            "  inflating: Training B Normal/Btraining_noisynormal/285_1311169246969_C.wav  \n",
            "  inflating: __MACOSX/Training B Normal/Btraining_noisynormal/._285_1311169246969_C.wav  \n",
            "  inflating: Training B Normal/Btraining_noisynormal/296_1311682952647_C.wav  \n",
            "  inflating: __MACOSX/Training B Normal/Btraining_noisynormal/._296_1311682952647_C.wav  \n",
            "  inflating: Training B Normal/Btraining_noisynormal/296_1311682952647_D.wav  \n",
            "  inflating: __MACOSX/Training B Normal/Btraining_noisynormal/._296_1311682952647_D.wav  \n",
            "--2024-08-27 12:29:42--  http://istethoscope.peterjbentley.com/heartchallenge/Btraining_normal_seg.csv\n",
            "Resolving istethoscope.peterjbentley.com (istethoscope.peterjbentley.com)... 192.250.237.70\n",
            "Connecting to istethoscope.peterjbentley.com (istethoscope.peterjbentley.com)|192.250.237.70|:80... connected.\n",
            "HTTP request sent, awaiting response... 200 OK\n",
            "Length: 12686 (12K) [text/csv]\n",
            "Saving to: ‘Btraining_normal_seg.csv.1’\n",
            "\n",
            "Btraining_normal_se 100%[===================>]  12.39K  --.-KB/s    in 0s      \n",
            "\n",
            "2024-08-27 12:29:42 (147 MB/s) - ‘Btraining_normal_seg.csv.1’ saved [12686/12686]\n",
            "\n",
            "--2024-08-27 12:29:42--  http://istethoscope.peterjbentley.com/heartchallenge/wav/Btraining_murmur.zip\n",
            "Resolving istethoscope.peterjbentley.com (istethoscope.peterjbentley.com)... 192.250.237.70\n",
            "Connecting to istethoscope.peterjbentley.com (istethoscope.peterjbentley.com)|192.250.237.70|:80... connected.\n",
            "HTTP request sent, awaiting response... 200 OK\n",
            "Length: 5347795 (5.1M) [application/zip]\n",
            "Saving to: ‘Btraining_murmur.zip’\n",
            "\n",
            "Btraining_murmur.zi 100%[===================>]   5.10M  1.78MB/s    in 2.9s    \n",
            "\n",
            "2024-08-27 12:29:46 (1.78 MB/s) - ‘Btraining_murmur.zip’ saved [5347795/5347795]\n",
            "\n",
            "Archive:  Btraining_murmur.zip\n",
            "replace Btraining_murmur/.DS_Store? [y]es, [n]o, [A]ll, [N]one, [r]ename: A\n",
            "  inflating: Btraining_murmur/.DS_Store  \n",
            "  inflating: __MACOSX/Btraining_murmur/._.DS_Store  \n",
            "  inflating: Btraining_murmur/112_1306243000964_A.wav  \n",
            "  inflating: __MACOSX/Btraining_murmur/._112_1306243000964_A.wav  \n",
            "  inflating: Btraining_murmur/112_1306243000964_B.wav  \n",
            "  inflating: __MACOSX/Btraining_murmur/._112_1306243000964_B.wav  \n",
            "  inflating: Btraining_murmur/112_1306243000964_D.wav  \n",
            "  inflating: __MACOSX/Btraining_murmur/._112_1306243000964_D.wav  \n",
            "  inflating: Btraining_murmur/116_1306258689913_A.wav  \n",
            "  inflating: __MACOSX/Btraining_murmur/._116_1306258689913_A.wav  \n",
            "  inflating: Btraining_murmur/116_1306258689913_C.wav  \n",
            "  inflating: __MACOSX/Btraining_murmur/._116_1306258689913_C.wav  \n",
            "  inflating: Btraining_murmur/116_1306258689913_D.wav  \n",
            "  inflating: __MACOSX/Btraining_murmur/._116_1306258689913_D.wav  \n",
            "  inflating: Btraining_murmur/122_1306325762831_C.wav  \n",
            "  inflating: __MACOSX/Btraining_murmur/._122_1306325762831_C.wav  \n",
            "  inflating: Btraining_murmur/122_1306325762831_D.wav  \n",
            "  inflating: __MACOSX/Btraining_murmur/._122_1306325762831_D.wav  \n",
            "  inflating: Btraining_murmur/156_1306936373241_B.wav  \n",
            "  inflating: __MACOSX/Btraining_murmur/._156_1306936373241_B.wav  \n",
            "  inflating: Btraining_murmur/160_1307100683334_A.wav  \n",
            "  inflating: __MACOSX/Btraining_murmur/._160_1307100683334_A.wav  \n",
            "  inflating: Btraining_murmur/160_1307100683334_B.wav  \n",
            "  inflating: __MACOSX/Btraining_murmur/._160_1307100683334_B.wav  \n",
            "  inflating: Btraining_murmur/161_1307101199321_A.wav  \n",
            "  inflating: __MACOSX/Btraining_murmur/._161_1307101199321_A.wav  \n",
            "  inflating: Btraining_murmur/162_1307101835989_A.wav  \n",
            "  inflating: __MACOSX/Btraining_murmur/._162_1307101835989_A.wav  \n",
            "  inflating: Btraining_murmur/162_1307101835989_B.wav  \n",
            "  inflating: __MACOSX/Btraining_murmur/._162_1307101835989_B.wav  \n",
            "  inflating: Btraining_murmur/164_1307106095995_B.wav  \n",
            "  inflating: __MACOSX/Btraining_murmur/._164_1307106095995_B.wav  \n",
            "  inflating: Btraining_murmur/164_1307106095995_C.wav  \n",
            "  inflating: __MACOSX/Btraining_murmur/._164_1307106095995_C.wav  \n",
            "  inflating: Btraining_murmur/165_1307109069581_C.wav  \n",
            "  inflating: __MACOSX/Btraining_murmur/._165_1307109069581_C.wav  \n",
            "  inflating: Btraining_murmur/165_1307109069581_C2.wav  \n",
            "  inflating: __MACOSX/Btraining_murmur/._165_1307109069581_C2.wav  \n",
            "  inflating: Btraining_murmur/171_1307971016233_D.wav  \n",
            "  inflating: __MACOSX/Btraining_murmur/._171_1307971016233_D.wav  \n",
            "  inflating: Btraining_murmur/171_1307971016233_D1.wav  \n",
            "  inflating: __MACOSX/Btraining_murmur/._171_1307971016233_D1.wav  \n",
            "  inflating: Btraining_murmur/171_1307971016233_E.wav  \n",
            "  inflating: __MACOSX/Btraining_murmur/._171_1307971016233_E.wav  \n",
            "  inflating: Btraining_murmur/185_1308073325396_B.wav  \n",
            "  inflating: __MACOSX/Btraining_murmur/._185_1308073325396_B.wav  \n",
            "  inflating: Btraining_murmur/185_1308073325396_C.wav  \n",
            "  inflating: __MACOSX/Btraining_murmur/._185_1308073325396_C.wav  \n",
            "  inflating: Btraining_murmur/193_1308078104592_B.wav  \n",
            "  inflating: __MACOSX/Btraining_murmur/._193_1308078104592_B.wav  \n",
            "  inflating: Btraining_murmur/193_1308078104592_C.wav  \n",
            "  inflating: __MACOSX/Btraining_murmur/._193_1308078104592_C.wav  \n",
            "  inflating: Btraining_murmur/193_1308078104592_C1.wav  \n",
            "  inflating: __MACOSX/Btraining_murmur/._193_1308078104592_C1.wav  \n",
            "  inflating: Btraining_murmur/195_1308140095331_A.wav  \n",
            "  inflating: __MACOSX/Btraining_murmur/._195_1308140095331_A.wav  \n",
            "  inflating: Btraining_murmur/195_1308140095331_C.wav  \n",
            "  inflating: __MACOSX/Btraining_murmur/._195_1308140095331_C.wav  \n",
            "  inflating: Btraining_murmur/195_1308140095331_C1.wav  \n",
            "  inflating: __MACOSX/Btraining_murmur/._195_1308140095331_C1.wav  \n",
            "  inflating: Btraining_murmur/196_1308141034858_B.wav  \n",
            "  inflating: __MACOSX/Btraining_murmur/._196_1308141034858_B.wav  \n",
            "  inflating: Btraining_murmur/196_1308141034858_C.wav  \n",
            "  inflating: __MACOSX/Btraining_murmur/._196_1308141034858_C.wav  \n",
            "  inflating: Btraining_murmur/197_1308141235553_A.wav  \n",
            "  inflating: __MACOSX/Btraining_murmur/._197_1308141235553_A.wav  \n",
            "  inflating: Btraining_murmur/197_1308141235553_C.wav  \n",
            "  inflating: __MACOSX/Btraining_murmur/._197_1308141235553_C.wav  \n",
            "  inflating: Btraining_murmur/197_1308141235553_D.wav  \n",
            "  inflating: __MACOSX/Btraining_murmur/._197_1308141235553_D.wav  \n",
            "  inflating: Btraining_murmur/200_1308144251434_C.wav  \n",
            "  inflating: __MACOSX/Btraining_murmur/._200_1308144251434_C.wav  \n",
            "  inflating: Btraining_murmur/200_1308144251434_D.wav  \n",
            "  inflating: __MACOSX/Btraining_murmur/._200_1308144251434_D.wav  \n",
            "  inflating: Btraining_murmur/203_1308162026258_B.wav  \n",
            "  inflating: __MACOSX/Btraining_murmur/._203_1308162026258_B.wav  \n",
            "  inflating: Btraining_murmur/203_1308162026258_C1.wav  \n",
            "  inflating: __MACOSX/Btraining_murmur/._203_1308162026258_C1.wav  \n",
            "  inflating: Btraining_murmur/203_1308162026258_D.wav  \n",
            "  inflating: __MACOSX/Btraining_murmur/._203_1308162026258_D.wav  \n",
            "  inflating: Btraining_murmur/204_1308159229275_B.wav  \n",
            "  inflating: __MACOSX/Btraining_murmur/._204_1308159229275_B.wav  \n",
            "  inflating: Btraining_murmur/211_1308163238707_C.wav  \n",
            "  inflating: __MACOSX/Btraining_murmur/._211_1308163238707_C.wav  \n",
            "  inflating: Btraining_murmur/223_1308337062581_D.wav  \n",
            "  inflating: __MACOSX/Btraining_murmur/._223_1308337062581_D.wav  \n",
            "  inflating: Btraining_murmur/239_1309195730333_B.wav  \n",
            "  inflating: __MACOSX/Btraining_murmur/._239_1309195730333_B.wav  \n",
            "  inflating: Btraining_murmur/239_1309195730333_C.wav  \n",
            "  inflating: __MACOSX/Btraining_murmur/._239_1309195730333_C.wav  \n",
            "  inflating: Btraining_murmur/240_1309196119795_B.wav  \n",
            "  inflating: __MACOSX/Btraining_murmur/._240_1309196119795_B.wav  \n",
            "  inflating: Btraining_murmur/240_1309196119795_C.wav  \n",
            "  inflating: __MACOSX/Btraining_murmur/._240_1309196119795_C.wav  \n",
            "  inflating: Btraining_murmur/240_1309201366049_B.wav  \n",
            "  inflating: __MACOSX/Btraining_murmur/._240_1309201366049_B.wav  \n",
            "  inflating: Btraining_murmur/242_1309197394064_B.wav  \n",
            "  inflating: __MACOSX/Btraining_murmur/._242_1309197394064_B.wav  \n",
            "  inflating: Btraining_murmur/242_1309197394064_D.wav  \n",
            "  inflating: __MACOSX/Btraining_murmur/._242_1309197394064_D.wav  \n",
            "  inflating: Btraining_murmur/244_1309198148498_B.wav  \n",
            "  inflating: __MACOSX/Btraining_murmur/._244_1309198148498_B.wav  \n",
            "  inflating: Btraining_murmur/245_1309200438094_B.wav  \n",
            "  inflating: __MACOSX/Btraining_murmur/._245_1309200438094_B.wav  \n",
            "  inflating: Btraining_murmur/248_1309201683806_A.wav  \n",
            "  inflating: __MACOSX/Btraining_murmur/._248_1309201683806_A.wav  \n",
            "  inflating: Btraining_murmur/248_1309201683806_C.wav  \n",
            "  inflating: __MACOSX/Btraining_murmur/._248_1309201683806_C.wav  \n",
            "  inflating: Btraining_murmur/254_1309350589009_A.wav  \n",
            "  inflating: __MACOSX/Btraining_murmur/._254_1309350589009_A.wav  \n",
            "  inflating: Btraining_murmur/254_1309350589009_A1.wav  \n",
            "  inflating: __MACOSX/Btraining_murmur/._254_1309350589009_A1.wav  \n",
            "  inflating: Btraining_murmur/254_1309350589009_C.wav  \n",
            "  inflating: __MACOSX/Btraining_murmur/._254_1309350589009_C.wav  \n",
            "  inflating: Btraining_murmur/254_1309350589009_D.wav  \n",
            "  inflating: __MACOSX/Btraining_murmur/._254_1309350589009_D.wav  \n",
            "  inflating: Btraining_murmur/276_1311162716489_C.wav  \n",
            "  inflating: __MACOSX/Btraining_murmur/._276_1311162716489_C.wav  \n",
            "  inflating: Btraining_murmur/281_1311165683454_A.wav  \n",
            "  inflating: __MACOSX/Btraining_murmur/._281_1311165683454_A.wav  \n",
            "  inflating: Btraining_murmur/281_1311165683454_B.wav  \n",
            "  inflating: __MACOSX/Btraining_murmur/._281_1311165683454_B.wav  \n",
            "  inflating: Btraining_murmur/281_1311165683454_D.wav  \n",
            "  inflating: __MACOSX/Btraining_murmur/._281_1311165683454_D.wav  \n",
            "  inflating: Btraining_murmur/287_1311170903290_C.wav  \n",
            "  inflating: __MACOSX/Btraining_murmur/._287_1311170903290_C.wav  \n",
            "  inflating: Btraining_murmur/288_1311164615284_D.wav  \n",
            "  inflating: __MACOSX/Btraining_murmur/._288_1311164615284_D.wav  \n",
            "  inflating: Btraining_murmur/292_1311185449649_B.wav  \n",
            "  inflating: __MACOSX/Btraining_murmur/._292_1311185449649_B.wav  \n",
            "  inflating: Btraining_murmur/292_1311185449649_C.wav  \n",
            "  inflating: __MACOSX/Btraining_murmur/._292_1311185449649_C.wav  \n",
            "  inflating: Btraining_murmur/293_1311680805936_B1.wav  \n",
            "  inflating: __MACOSX/Btraining_murmur/._293_1311680805936_B1.wav  \n",
            "  inflating: Btraining_murmur/Btraining_noisymurmur/135_1306428972976_A.wav  \n",
            "  inflating: __MACOSX/Btraining_murmur/Btraining_noisymurmur/._135_1306428972976_A.wav  \n",
            "  inflating: Btraining_murmur/Btraining_noisymurmur/135_1306428972976_B.wav  \n",
            "  inflating: __MACOSX/Btraining_murmur/Btraining_noisymurmur/._135_1306428972976_B.wav  \n",
            "  inflating: Btraining_murmur/Btraining_noisymurmur/135_1306428972976_C.wav  \n",
            "  inflating: __MACOSX/Btraining_murmur/Btraining_noisymurmur/._135_1306428972976_C.wav  \n",
            "  inflating: Btraining_murmur/Btraining_noisymurmur/156_1306936373241_A.wav  \n",
            "  inflating: __MACOSX/Btraining_murmur/Btraining_noisymurmur/._156_1306936373241_A.wav  \n",
            "  inflating: Btraining_murmur/Btraining_noisymurmur/156_1306936373241_B1.wav  \n",
            "  inflating: __MACOSX/Btraining_murmur/Btraining_noisymurmur/._156_1306936373241_B1.wav  \n",
            "  inflating: Btraining_murmur/Btraining_noisymurmur/160_1307100683334_D.wav  \n",
            "  inflating: __MACOSX/Btraining_murmur/Btraining_noisymurmur/._160_1307100683334_D.wav  \n",
            "  inflating: Btraining_murmur/Btraining_noisymurmur/161_1307101199321_B.wav  \n",
            "  inflating: __MACOSX/Btraining_murmur/Btraining_noisymurmur/._161_1307101199321_B.wav  \n",
            "  inflating: Btraining_murmur/Btraining_noisymurmur/161_1307101199321_C.wav  \n",
            "  inflating: __MACOSX/Btraining_murmur/Btraining_noisymurmur/._161_1307101199321_C.wav  \n",
            "  inflating: Btraining_murmur/Btraining_noisymurmur/162_1307101835989_B_1.wav  \n",
            "  inflating: __MACOSX/Btraining_murmur/Btraining_noisymurmur/._162_1307101835989_B_1.wav  \n",
            "  inflating: Btraining_murmur/Btraining_noisymurmur/162_1307101835989_D.wav  \n",
            "  inflating: __MACOSX/Btraining_murmur/Btraining_noisymurmur/._162_1307101835989_D.wav  \n",
            "  inflating: Btraining_murmur/Btraining_noisymurmur/164_1307106095995_C1.wav  \n",
            "  inflating: __MACOSX/Btraining_murmur/Btraining_noisymurmur/._164_1307106095995_C1.wav  \n",
            "  inflating: Btraining_murmur/Btraining_noisymurmur/165_1307109069581_A.wav  \n",
            "  inflating: __MACOSX/Btraining_murmur/Btraining_noisymurmur/._165_1307109069581_A.wav  \n",
            "  inflating: Btraining_murmur/Btraining_noisymurmur/165_1307109069581_C1.wav  \n",
            "  inflating: __MACOSX/Btraining_murmur/Btraining_noisymurmur/._165_1307109069581_C1.wav  \n",
            "  inflating: Btraining_murmur/Btraining_noisymurmur/165_1307109069581_D.wav  \n",
            "  inflating: __MACOSX/Btraining_murmur/Btraining_noisymurmur/._165_1307109069581_D.wav  \n",
            "  inflating: Btraining_murmur/Btraining_noisymurmur/171_1307971016233_D.wav  \n",
            "  inflating: __MACOSX/Btraining_murmur/Btraining_noisymurmur/._171_1307971016233_D.wav  \n",
            "  inflating: Btraining_murmur/Btraining_noisymurmur/171_1307971016233_F.wav  \n",
            "  inflating: __MACOSX/Btraining_murmur/Btraining_noisymurmur/._171_1307971016233_F.wav  \n",
            "  inflating: Btraining_murmur/Btraining_noisymurmur/185_1308073325396_D.wav  \n",
            "  inflating: __MACOSX/Btraining_murmur/Btraining_noisymurmur/._185_1308073325396_D.wav  \n",
            "  inflating: Btraining_murmur/Btraining_noisymurmur/200_1308144251434_D.wav  \n",
            "  inflating: __MACOSX/Btraining_murmur/Btraining_noisymurmur/._200_1308144251434_D.wav  \n",
            "  inflating: Btraining_murmur/Btraining_noisymurmur/231_1308748318393_A.wav  \n",
            "  inflating: __MACOSX/Btraining_murmur/Btraining_noisymurmur/._231_1308748318393_A.wav  \n",
            "  inflating: Btraining_murmur/Btraining_noisymurmur/240_1309201366049_C.wav  \n",
            "  inflating: __MACOSX/Btraining_murmur/Btraining_noisymurmur/._240_1309201366049_C.wav  \n",
            "  inflating: Btraining_murmur/Btraining_noisymurmur/240_1309201366049_D.wav  \n",
            "  inflating: __MACOSX/Btraining_murmur/Btraining_noisymurmur/._240_1309201366049_D.wav  \n",
            "  inflating: Btraining_murmur/Btraining_noisymurmur/243_1309197760898_B.wav  \n",
            "  inflating: __MACOSX/Btraining_murmur/Btraining_noisymurmur/._243_1309197760898_B.wav  \n",
            "  inflating: Btraining_murmur/Btraining_noisymurmur/243_1309197760898_C.wav  \n",
            "  inflating: __MACOSX/Btraining_murmur/Btraining_noisymurmur/._243_1309197760898_C.wav  \n",
            "  inflating: Btraining_murmur/Btraining_noisymurmur/272_1309370164386_C.wav  \n",
            "  inflating: __MACOSX/Btraining_murmur/Btraining_noisymurmur/._272_1309370164386_C.wav  \n",
            "  inflating: Btraining_murmur/Btraining_noisymurmur/288_1311164615284_B1.wav  \n",
            "  inflating: __MACOSX/Btraining_murmur/Btraining_noisymurmur/._288_1311164615284_B1.wav  \n",
            "  inflating: Btraining_murmur/Btraining_noisymurmur/288_1311164615284_C.wav  \n",
            "  inflating: __MACOSX/Btraining_murmur/Btraining_noisymurmur/._288_1311164615284_C.wav  \n",
            "  inflating: Btraining_murmur/Btraining_noisymurmur/292_1311185449649_D.wav  \n",
            "  inflating: __MACOSX/Btraining_murmur/Btraining_noisymurmur/._292_1311185449649_D.wav  \n",
            "  inflating: Btraining_murmur/Btraining_noisymurmur/293_1311680805936_C.wav  \n",
            "  inflating: __MACOSX/Btraining_murmur/Btraining_noisymurmur/._293_1311680805936_C.wav  \n",
            "  inflating: Btraining_murmur/Btraining_noisymurmur/293_1311680805936_D.wav  \n",
            "  inflating: __MACOSX/Btraining_murmur/Btraining_noisymurmur/._293_1311680805936_D.wav  \n",
            "--2024-08-27 12:29:52--  http://istethoscope.peterjbentley.com/heartchallenge/wav/Btraining_extrasystole.zip\n",
            "Resolving istethoscope.peterjbentley.com (istethoscope.peterjbentley.com)... 192.250.237.70\n",
            "Connecting to istethoscope.peterjbentley.com (istethoscope.peterjbentley.com)|192.250.237.70|:80... connected.\n",
            "HTTP request sent, awaiting response... 200 OK\n",
            "Length: 1892466 (1.8M) [application/zip]\n",
            "Saving to: ‘Btraining_extrasystole.zip’\n",
            "\n",
            "Btraining_extrasyst 100%[===================>]   1.80M  1.03MB/s    in 1.7s    \n",
            "\n",
            "2024-08-27 12:30:02 (1.03 MB/s) - ‘Btraining_extrasystole.zip’ saved [1892466/1892466]\n",
            "\n",
            "Archive:  Btraining_extrasystole.zip\n",
            "replace Btraining_extrastole/.DS_Store? [y]es, [n]o, [A]ll, [N]one, [r]ename: A\n",
            "  inflating: Btraining_extrastole/.DS_Store  \n",
            "  inflating: __MACOSX/Btraining_extrastole/._.DS_Store  \n",
            "  inflating: Btraining_extrastole/127_1306764300147_C2.wav  \n",
            "  inflating: __MACOSX/Btraining_extrastole/._127_1306764300147_C2.wav  \n",
            "  inflating: Btraining_extrastole/128_1306344005749_A.wav  \n",
            "  inflating: __MACOSX/Btraining_extrastole/._128_1306344005749_A.wav  \n",
            "  inflating: Btraining_extrastole/130_1306347376079_D.wav  \n",
            "  inflating: __MACOSX/Btraining_extrastole/._130_1306347376079_D.wav  \n",
            "  inflating: Btraining_extrastole/134_1306428161797_C1.wav  \n",
            "  inflating: __MACOSX/Btraining_extrastole/._134_1306428161797_C1.wav  \n",
            "  inflating: Btraining_extrastole/138_1306762146980_B.wav  \n",
            "  inflating: __MACOSX/Btraining_extrastole/._138_1306762146980_B.wav  \n",
            "  inflating: Btraining_extrastole/140_1306519735121_D.wav  \n",
            "  inflating: __MACOSX/Btraining_extrastole/._140_1306519735121_D.wav  \n",
            "  inflating: Btraining_extrastole/144_1306522408528_B.wav  \n",
            "  inflating: __MACOSX/Btraining_extrastole/._144_1306522408528_B.wav  \n",
            "  inflating: Btraining_extrastole/144_1306522408528_B1.wav  \n",
            "  inflating: __MACOSX/Btraining_extrastole/._144_1306522408528_B1.wav  \n",
            "  inflating: Btraining_extrastole/148_1306768801551_B.wav  \n",
            "  inflating: __MACOSX/Btraining_extrastole/._148_1306768801551_B.wav  \n",
            "  inflating: Btraining_extrastole/151_1306779785624_B.wav  \n",
            "  inflating: __MACOSX/Btraining_extrastole/._151_1306779785624_B.wav  \n",
            "  inflating: Btraining_extrastole/153_1306848820671_C.wav  \n",
            "  inflating: __MACOSX/Btraining_extrastole/._153_1306848820671_C.wav  \n",
            "  inflating: Btraining_extrastole/154_1306935608852_D2.wav  \n",
            "  inflating: __MACOSX/Btraining_extrastole/._154_1306935608852_D2.wav  \n",
            "  inflating: Btraining_extrastole/163_1307104470471_C.wav  \n",
            "  inflating: __MACOSX/Btraining_extrastole/._163_1307104470471_C.wav  \n",
            "  inflating: Btraining_extrastole/179_1307990076841_C.wav  \n",
            "  inflating: __MACOSX/Btraining_extrastole/._179_1307990076841_C.wav  \n",
            "  inflating: Btraining_extrastole/184_1308073010307_A.wav  \n",
            "  inflating: __MACOSX/Btraining_extrastole/._184_1308073010307_A.wav  \n",
            "  inflating: Btraining_extrastole/190_1308076920011_C.wav  \n",
            "  inflating: __MACOSX/Btraining_extrastole/._190_1308076920011_C.wav  \n",
            "  inflating: Btraining_extrastole/191_1308077299430_A.wav  \n",
            "  inflating: __MACOSX/Btraining_extrastole/._191_1308077299430_A.wav  \n",
            "  inflating: Btraining_extrastole/194_1308139824187_B.wav  \n",
            "  inflating: __MACOSX/Btraining_extrastole/._194_1308139824187_B.wav  \n",
            "  inflating: Btraining_extrastole/198_1308141739338_B.wav  \n",
            "  inflating: __MACOSX/Btraining_extrastole/._198_1308141739338_B.wav  \n",
            "  inflating: Btraining_extrastole/198_1308141739338_B1.wav  \n",
            "  inflating: __MACOSX/Btraining_extrastole/._198_1308141739338_B1.wav  \n",
            "  inflating: Btraining_extrastole/202_1308145175747_C1.wav  \n",
            "  inflating: __MACOSX/Btraining_extrastole/._202_1308145175747_C1.wav  \n",
            "  inflating: Btraining_extrastole/202_1308145175747_C2.wav  \n",
            "  inflating: __MACOSX/Btraining_extrastole/._202_1308145175747_C2.wav  \n",
            "  inflating: Btraining_extrastole/207_1308159792607_B.wav  \n",
            "  inflating: __MACOSX/Btraining_extrastole/._207_1308159792607_B.wav  \n",
            "  inflating: Btraining_extrastole/207_1308159792607_B1.wav  \n",
            "  inflating: __MACOSX/Btraining_extrastole/._207_1308159792607_B1.wav  \n",
            "  inflating: Btraining_extrastole/209_1308162216750_D.wav  \n",
            "  inflating: __MACOSX/Btraining_extrastole/._209_1308162216750_D.wav  \n",
            "  inflating: Btraining_extrastole/210_1308162935880_C.wav  \n",
            "  inflating: __MACOSX/Btraining_extrastole/._210_1308162935880_C.wav  \n",
            "  inflating: Btraining_extrastole/213_1308245263936_D.wav  \n",
            "  inflating: __MACOSX/Btraining_extrastole/._213_1308245263936_D.wav  \n",
            "  inflating: Btraining_extrastole/215_1308245664733_B.wav  \n",
            "  inflating: __MACOSX/Btraining_extrastole/._215_1308245664733_B.wav  \n",
            "  inflating: Btraining_extrastole/215_1308245664733_B1.wav  \n",
            "  inflating: __MACOSX/Btraining_extrastole/._215_1308245664733_B1.wav  \n",
            "  inflating: Btraining_extrastole/216_1308245839516_A.wav  \n",
            "  inflating: __MACOSX/Btraining_extrastole/._216_1308245839516_A.wav  \n",
            "  inflating: Btraining_extrastole/216_1308245839516_B.wav  \n",
            "  inflating: __MACOSX/Btraining_extrastole/._216_1308245839516_B.wav  \n",
            "  inflating: Btraining_extrastole/220_1308250132896_B.wav  \n",
            "  inflating: __MACOSX/Btraining_extrastole/._220_1308250132896_B.wav  \n",
            "  inflating: Btraining_extrastole/224_1308337157445_B.wav  \n",
            "  inflating: __MACOSX/Btraining_extrastole/._224_1308337157445_B.wav  \n",
            "  inflating: Btraining_extrastole/229_1308594979317_B.wav  \n",
            "  inflating: __MACOSX/Btraining_extrastole/._229_1308594979317_B.wav  \n",
            "  inflating: Btraining_extrastole/235_1308749032454_B.wav  \n",
            "  inflating: __MACOSX/Btraining_extrastole/._235_1308749032454_B.wav  \n",
            "  inflating: Btraining_extrastole/237_1308750231222_A.wav  \n",
            "  inflating: __MACOSX/Btraining_extrastole/._237_1308750231222_A.wav  \n",
            "  inflating: Btraining_extrastole/237_1308750231222_C.wav  \n",
            "  inflating: __MACOSX/Btraining_extrastole/._237_1308750231222_C.wav  \n",
            "  inflating: Btraining_extrastole/249_1309202052376_C.wav  \n",
            "  inflating: __MACOSX/Btraining_extrastole/._249_1309202052376_C.wav  \n",
            "  inflating: Btraining_extrastole/253_1309350256198_B.wav  \n",
            "  inflating: __MACOSX/Btraining_extrastole/._253_1309350256198_B.wav  \n",
            "  inflating: Btraining_extrastole/261_1309353556003_C.wav  \n",
            "  inflating: __MACOSX/Btraining_extrastole/._261_1309353556003_C.wav  \n",
            "  inflating: Btraining_extrastole/265_1309367698923_C.wav  \n",
            "  inflating: __MACOSX/Btraining_extrastole/._265_1309367698923_C.wav  \n",
            "  inflating: Btraining_extrastole/274_1311075637574_A.wav  \n",
            "  inflating: __MACOSX/Btraining_extrastole/._274_1311075637574_A.wav  \n",
            "  inflating: Btraining_extrastole/275_1310990852160_B.wav  \n",
            "  inflating: __MACOSX/Btraining_extrastole/._275_1310990852160_B.wav  \n",
            "  inflating: Btraining_extrastole/286_1311170606028_D.wav  \n",
            "  inflating: __MACOSX/Btraining_extrastole/._286_1311170606028_D.wav  \n",
            "  inflating: Btraining_extrastole/294_1311681084248_C.wav  \n",
            "  inflating: __MACOSX/Btraining_extrastole/._294_1311681084248_C.wav  \n",
            "  inflating: Btraining_extrastole/298_1311685888900_C.wav  \n",
            "  inflating: __MACOSX/Btraining_extrastole/._298_1311685888900_C.wav  \n"
          ]
        }
      ],
      "source": [
        "# Normal data\n",
        "\n",
        "!wget http://istethoscope.peterjbentley.com/heartchallenge/wav/Btraining_normal.zip\n",
        "!unzip Btraining_normal.zip\n",
        "!rm Btraining_normal.zip\n",
        "!wget http://istethoscope.peterjbentley.com/heartchallenge/Btraining_normal_seg.csv\n",
        "# Mumur data\n",
        "!wget http://istethoscope.peterjbentley.com/heartchallenge/wav/Btraining_murmur.zip\n",
        "!unzip Btraining_murmur.zip\n",
        "!rm Btraining_murmur.zip\n",
        "\n",
        "#extrasystole\n",
        "!wget http://istethoscope.peterjbentley.com/heartchallenge/wav/Btraining_extrasystole.zip\n",
        "!unzip Btraining_extrasystole.zip\n",
        "!rm Btraining_extrasystole.zip"
      ]
    },
    {
      "cell_type": "markdown",
      "metadata": {
        "id": "XPx1DWksa5wy"
      },
      "source": []
    },
    {
      "cell_type": "code",
      "execution_count": null,
      "metadata": {
        "id": "x6-wG8wwkLlv"
      },
      "outputs": [],
      "source": [
        "def split(s):\n",
        "  chars = ['_', \"/\"]\n",
        "  for c in chars:\n",
        "    s = \" \".join(s.split(c))\n",
        "  return s.split()\n"
      ]
    },
    {
      "cell_type": "code",
      "execution_count": null,
      "metadata": {
        "id": "BFrvo2ANbH-g"
      },
      "outputs": [],
      "source": [
        "\n",
        "def load_data(dir_path):\n",
        "  paths = []\n",
        "  y = []\n",
        "\n",
        "  for dirname, subdir, files in os.walk(dir_path):\n",
        "    for f in files:\n",
        "      if not f.endswith('.wav'):\n",
        "        continue\n",
        "      path = os.path.join(dirname, f)\n",
        "      paths.append(path)\n",
        "      y.append(split(dir_path)[-1].lower())\n",
        "\n",
        "  df = pd.DataFrame({'path': paths, 'label': y})\n",
        "  return df\n",
        "\n",
        "normal = load_data('/content/Training B Normal')\n",
        "murmur = load_data('/content/Btraining_murmur')\n",
        "extrastole = load_data('/content/Btraining_extrastole')\n",
        "df = pd.concat([normal, murmur, extrastole])\n"
      ]
    },
    {
      "cell_type": "code",
      "execution_count": null,
      "metadata": {
        "colab": {
          "base_uri": "https://localhost:8080/"
        },
        "id": "7WiBrEnQlIi6",
        "outputId": "a2c345cd-489b-4971-80f7-63114f1bee49"
      },
      "outputs": [
        {
          "output_type": "stream",
          "name": "stderr",
          "text": [
            "/usr/local/lib/python3.10/dist-packages/sklearn/preprocessing/_label.py:114: DataConversionWarning: A column-vector y was passed when a 1d array was expected. Please change the shape of y to (n_samples, ), for example using ravel().\n",
            "  y = column_or_1d(y, warn=True)\n"
          ]
        }
      ],
      "source": [
        "from sklearn.preprocessing import LabelEncoder\n",
        "le = LabelEncoder()\n",
        "df['label'] = le.fit_transform(df[['label']])"
      ]
    },
    {
      "cell_type": "code",
      "execution_count": null,
      "metadata": {
        "id": "WIjUMJo1l6Xb"
      },
      "outputs": [],
      "source": [
        "classes = le.classes_"
      ]
    },
    {
      "cell_type": "code",
      "execution_count": null,
      "metadata": {
        "colab": {
          "base_uri": "https://localhost:8080/"
        },
        "id": "h-EiLAQBmZ22",
        "outputId": "0fc5c1d3-9771-44d3-d68d-96ab2ad41ee7"
      },
      "outputs": [
        {
          "data": {
            "text/plain": [
              "array(['extrastole', 'murmur', 'normal'], dtype=object)"
            ]
          },
          "execution_count": 110,
          "metadata": {},
          "output_type": "execute_result"
        }
      ],
      "source": [
        "classes"
      ]
    },
    {
      "cell_type": "code",
      "execution_count": null,
      "metadata": {
        "id": "cxVjsKAf5Jps"
      },
      "outputs": [],
      "source": [
        "df['signal'] = df['path'].apply(lambda x: librosa.load(x)[0])"
      ]
    },
    {
      "cell_type": "code",
      "execution_count": null,
      "metadata": {
        "colab": {
          "base_uri": "https://localhost:8080/"
        },
        "id": "5XLpZle1EMyx",
        "outputId": "ad62a50b-0c8a-4a6c-d4ab-07ddc71b4799"
      },
      "outputs": [
        {
          "data": {
            "text/plain": [
              "numpy.ndarray"
            ]
          },
          "execution_count": 11,
          "metadata": {},
          "output_type": "execute_result"
        }
      ],
      "source": [
        "type(df['signal'].iloc[1])"
      ]
    },
    {
      "cell_type": "code",
      "execution_count": null,
      "metadata": {
        "id": "exJTT_Uq_8n8"
      },
      "outputs": [],
      "source": [
        "def fix_lenght(signal, lenght):\n",
        "  if signal.shape[0] < lenght:\n",
        "    signal = np.pad(signal, (0, lenght - signal.shape[0]))\n",
        "  elif signal.shape[0] > lenght:\n",
        "    signal = signal[:lenght]\n",
        "  return signal"
      ]
    },
    {
      "cell_type": "code",
      "execution_count": null,
      "metadata": {
        "id": "4_VVbvjqAIJs"
      },
      "outputs": [],
      "source": [
        "df['signal'] = df['signal'].apply(lambda x: fix_lenght(x, 25000))"
      ]
    },
    {
      "cell_type": "code",
      "execution_count": null,
      "metadata": {
        "id": "ZTALignQ7pXc"
      },
      "outputs": [],
      "source": [
        "df['rate'] = df['path'].apply(lambda x: librosa.load(x)[1])"
      ]
    },
    {
      "cell_type": "code",
      "execution_count": null,
      "metadata": {
        "id": "giaKC_I077J3"
      },
      "outputs": [],
      "source": [
        "df['signal_lenght'] = df['signal'].apply(lambda x: x.shape[0])"
      ]
    },
    {
      "cell_type": "code",
      "execution_count": null,
      "metadata": {
        "colab": {
          "base_uri": "https://localhost:8080/",
          "height": 964
        },
        "id": "VRvQiyzM7tf_",
        "outputId": "95ad91b8-270c-4083-c3a5-a75686a1f8c4"
      },
      "outputs": [
        {
          "data": {
            "application/vnd.google.colaboratory.intrinsic+json": {
              "summary": "{\n  \"name\": \"df\",\n  \"rows\": 461,\n  \"fields\": [\n    {\n      \"column\": \"path\",\n      \"properties\": {\n        \"dtype\": \"string\",\n        \"num_unique_values\": 461,\n        \"samples\": [\n          \"/content/Training B Normal/Btraining_noisynormal/270_1309369533040_A.wav\",\n          \"/content/Btraining_extrastole/151_1306779785624_B.wav\",\n          \"/content/Training B Normal/Btraining_noisynormal/167_1307111318050_B.wav\"\n        ],\n        \"semantic_type\": \"\",\n        \"description\": \"\"\n      }\n    },\n    {\n      \"column\": \"label\",\n      \"properties\": {\n        \"dtype\": \"number\",\n        \"std\": 0,\n        \"min\": 0,\n        \"max\": 2,\n        \"num_unique_values\": 3,\n        \"samples\": [\n          2,\n          0,\n          1\n        ],\n        \"semantic_type\": \"\",\n        \"description\": \"\"\n      }\n    },\n    {\n      \"column\": \"signal\",\n      \"properties\": {\n        \"dtype\": \"object\",\n        \"semantic_type\": \"\",\n        \"description\": \"\"\n      }\n    },\n    {\n      \"column\": \"rate\",\n      \"properties\": {\n        \"dtype\": \"number\",\n        \"std\": 0,\n        \"min\": 22050,\n        \"max\": 22050,\n        \"num_unique_values\": 1,\n        \"samples\": [\n          22050\n        ],\n        \"semantic_type\": \"\",\n        \"description\": \"\"\n      }\n    },\n    {\n      \"column\": \"signal_lenght\",\n      \"properties\": {\n        \"dtype\": \"number\",\n        \"std\": 0,\n        \"min\": 25000,\n        \"max\": 25000,\n        \"num_unique_values\": 1,\n        \"samples\": [\n          25000\n        ],\n        \"semantic_type\": \"\",\n        \"description\": \"\"\n      }\n    }\n  ]\n}",
              "type": "dataframe",
              "variable_name": "df"
            },
            "text/html": [
              "\n",
              "  <div id=\"df-52faf2f3-d1ba-4cb8-ab81-a766205301f9\" class=\"colab-df-container\">\n",
              "    <div>\n",
              "<style scoped>\n",
              "    .dataframe tbody tr th:only-of-type {\n",
              "        vertical-align: middle;\n",
              "    }\n",
              "\n",
              "    .dataframe tbody tr th {\n",
              "        vertical-align: top;\n",
              "    }\n",
              "\n",
              "    .dataframe thead th {\n",
              "        text-align: right;\n",
              "    }\n",
              "</style>\n",
              "<table border=\"1\" class=\"dataframe\">\n",
              "  <thead>\n",
              "    <tr style=\"text-align: right;\">\n",
              "      <th></th>\n",
              "      <th>path</th>\n",
              "      <th>label</th>\n",
              "      <th>signal</th>\n",
              "      <th>rate</th>\n",
              "      <th>signal_lenght</th>\n",
              "    </tr>\n",
              "  </thead>\n",
              "  <tbody>\n",
              "    <tr>\n",
              "      <th>0</th>\n",
              "      <td>/content/Training B Normal/Btraining_noisynorm...</td>\n",
              "      <td>2</td>\n",
              "      <td>[-0.06424696, -0.07385278, -0.076660514, -0.07...</td>\n",
              "      <td>22050</td>\n",
              "      <td>25000</td>\n",
              "    </tr>\n",
              "    <tr>\n",
              "      <th>1</th>\n",
              "      <td>/content/Training B Normal/208_1308159994503_C...</td>\n",
              "      <td>2</td>\n",
              "      <td>[-0.0033779703, -0.0049561756, -0.006515392, -...</td>\n",
              "      <td>22050</td>\n",
              "      <td>25000</td>\n",
              "    </tr>\n",
              "    <tr>\n",
              "      <th>2</th>\n",
              "      <td>/content/Training B Normal/Btraining_noisynorm...</td>\n",
              "      <td>2</td>\n",
              "      <td>[-0.017818699, -0.020907335, -0.02243503, -0.0...</td>\n",
              "      <td>22050</td>\n",
              "      <td>25000</td>\n",
              "    </tr>\n",
              "    <tr>\n",
              "      <th>3</th>\n",
              "      <td>/content/Training B Normal/168_1307970069434_A...</td>\n",
              "      <td>2</td>\n",
              "      <td>[0.002360615, 0.0034610974, 0.0046580434, 0.00...</td>\n",
              "      <td>22050</td>\n",
              "      <td>25000</td>\n",
              "    </tr>\n",
              "    <tr>\n",
              "      <th>4</th>\n",
              "      <td>/content/Training B Normal/286_1311170606028_A...</td>\n",
              "      <td>2</td>\n",
              "      <td>[-0.025364015, -0.030387467, -0.033514023, -0....</td>\n",
              "      <td>22050</td>\n",
              "      <td>25000</td>\n",
              "    </tr>\n",
              "    <tr>\n",
              "      <th>...</th>\n",
              "      <td>...</td>\n",
              "      <td>...</td>\n",
              "      <td>...</td>\n",
              "      <td>...</td>\n",
              "      <td>...</td>\n",
              "    </tr>\n",
              "    <tr>\n",
              "      <th>456</th>\n",
              "      <td>/content/Btraining_murmur/Btraining_noisymurmu...</td>\n",
              "      <td>1</td>\n",
              "      <td>[0.032095768, 0.037791796, 0.04062595, 0.04086...</td>\n",
              "      <td>22050</td>\n",
              "      <td>25000</td>\n",
              "    </tr>\n",
              "    <tr>\n",
              "      <th>457</th>\n",
              "      <td>/content/Training B Normal/290_1311182875320_A...</td>\n",
              "      <td>2</td>\n",
              "      <td>[-0.016294796, -0.01859469, -0.019159839, -0.0...</td>\n",
              "      <td>22050</td>\n",
              "      <td>25000</td>\n",
              "    </tr>\n",
              "    <tr>\n",
              "      <th>458</th>\n",
              "      <td>/content/Training B Normal/133_1306759619127_A...</td>\n",
              "      <td>2</td>\n",
              "      <td>[0.009948589, 0.011807519, 0.012821878, 0.0130...</td>\n",
              "      <td>22050</td>\n",
              "      <td>25000</td>\n",
              "    </tr>\n",
              "    <tr>\n",
              "      <th>459</th>\n",
              "      <td>/content/Training B Normal/Btraining_noisynorm...</td>\n",
              "      <td>2</td>\n",
              "      <td>[0.004040597, 0.0044463556, 0.004317157, 0.003...</td>\n",
              "      <td>22050</td>\n",
              "      <td>25000</td>\n",
              "    </tr>\n",
              "    <tr>\n",
              "      <th>460</th>\n",
              "      <td>/content/Btraining_extrastole/237_130875023122...</td>\n",
              "      <td>0</td>\n",
              "      <td>[0.008255638, 0.009291448, 0.009410155, 0.0087...</td>\n",
              "      <td>22050</td>\n",
              "      <td>25000</td>\n",
              "    </tr>\n",
              "  </tbody>\n",
              "</table>\n",
              "<p>461 rows × 5 columns</p>\n",
              "</div>\n",
              "    <div class=\"colab-df-buttons\">\n",
              "\n",
              "  <div class=\"colab-df-container\">\n",
              "    <button class=\"colab-df-convert\" onclick=\"convertToInteractive('df-52faf2f3-d1ba-4cb8-ab81-a766205301f9')\"\n",
              "            title=\"Convert this dataframe to an interactive table.\"\n",
              "            style=\"display:none;\">\n",
              "\n",
              "  <svg xmlns=\"http://www.w3.org/2000/svg\" height=\"24px\" viewBox=\"0 -960 960 960\">\n",
              "    <path d=\"M120-120v-720h720v720H120Zm60-500h600v-160H180v160Zm220 220h160v-160H400v160Zm0 220h160v-160H400v160ZM180-400h160v-160H180v160Zm440 0h160v-160H620v160ZM180-180h160v-160H180v160Zm440 0h160v-160H620v160Z\"/>\n",
              "  </svg>\n",
              "    </button>\n",
              "\n",
              "  <style>\n",
              "    .colab-df-container {\n",
              "      display:flex;\n",
              "      gap: 12px;\n",
              "    }\n",
              "\n",
              "    .colab-df-convert {\n",
              "      background-color: #E8F0FE;\n",
              "      border: none;\n",
              "      border-radius: 50%;\n",
              "      cursor: pointer;\n",
              "      display: none;\n",
              "      fill: #1967D2;\n",
              "      height: 32px;\n",
              "      padding: 0 0 0 0;\n",
              "      width: 32px;\n",
              "    }\n",
              "\n",
              "    .colab-df-convert:hover {\n",
              "      background-color: #E2EBFA;\n",
              "      box-shadow: 0px 1px 2px rgba(60, 64, 67, 0.3), 0px 1px 3px 1px rgba(60, 64, 67, 0.15);\n",
              "      fill: #174EA6;\n",
              "    }\n",
              "\n",
              "    .colab-df-buttons div {\n",
              "      margin-bottom: 4px;\n",
              "    }\n",
              "\n",
              "    [theme=dark] .colab-df-convert {\n",
              "      background-color: #3B4455;\n",
              "      fill: #D2E3FC;\n",
              "    }\n",
              "\n",
              "    [theme=dark] .colab-df-convert:hover {\n",
              "      background-color: #434B5C;\n",
              "      box-shadow: 0px 1px 3px 1px rgba(0, 0, 0, 0.15);\n",
              "      filter: drop-shadow(0px 1px 2px rgba(0, 0, 0, 0.3));\n",
              "      fill: #FFFFFF;\n",
              "    }\n",
              "  </style>\n",
              "\n",
              "    <script>\n",
              "      const buttonEl =\n",
              "        document.querySelector('#df-52faf2f3-d1ba-4cb8-ab81-a766205301f9 button.colab-df-convert');\n",
              "      buttonEl.style.display =\n",
              "        google.colab.kernel.accessAllowed ? 'block' : 'none';\n",
              "\n",
              "      async function convertToInteractive(key) {\n",
              "        const element = document.querySelector('#df-52faf2f3-d1ba-4cb8-ab81-a766205301f9');\n",
              "        const dataTable =\n",
              "          await google.colab.kernel.invokeFunction('convertToInteractive',\n",
              "                                                    [key], {});\n",
              "        if (!dataTable) return;\n",
              "\n",
              "        const docLinkHtml = 'Like what you see? Visit the ' +\n",
              "          '<a target=\"_blank\" href=https://colab.research.google.com/notebooks/data_table.ipynb>data table notebook</a>'\n",
              "          + ' to learn more about interactive tables.';\n",
              "        element.innerHTML = '';\n",
              "        dataTable['output_type'] = 'display_data';\n",
              "        await google.colab.output.renderOutput(dataTable, element);\n",
              "        const docLink = document.createElement('div');\n",
              "        docLink.innerHTML = docLinkHtml;\n",
              "        element.appendChild(docLink);\n",
              "      }\n",
              "    </script>\n",
              "  </div>\n",
              "\n",
              "\n",
              "<div id=\"df-01fbbd17-dc4b-417a-bf85-fa80de2ba02d\">\n",
              "  <button class=\"colab-df-quickchart\" onclick=\"quickchart('df-01fbbd17-dc4b-417a-bf85-fa80de2ba02d')\"\n",
              "            title=\"Suggest charts\"\n",
              "            style=\"display:none;\">\n",
              "\n",
              "<svg xmlns=\"http://www.w3.org/2000/svg\" height=\"24px\"viewBox=\"0 0 24 24\"\n",
              "     width=\"24px\">\n",
              "    <g>\n",
              "        <path d=\"M19 3H5c-1.1 0-2 .9-2 2v14c0 1.1.9 2 2 2h14c1.1 0 2-.9 2-2V5c0-1.1-.9-2-2-2zM9 17H7v-7h2v7zm4 0h-2V7h2v10zm4 0h-2v-4h2v4z\"/>\n",
              "    </g>\n",
              "</svg>\n",
              "  </button>\n",
              "\n",
              "<style>\n",
              "  .colab-df-quickchart {\n",
              "      --bg-color: #E8F0FE;\n",
              "      --fill-color: #1967D2;\n",
              "      --hover-bg-color: #E2EBFA;\n",
              "      --hover-fill-color: #174EA6;\n",
              "      --disabled-fill-color: #AAA;\n",
              "      --disabled-bg-color: #DDD;\n",
              "  }\n",
              "\n",
              "  [theme=dark] .colab-df-quickchart {\n",
              "      --bg-color: #3B4455;\n",
              "      --fill-color: #D2E3FC;\n",
              "      --hover-bg-color: #434B5C;\n",
              "      --hover-fill-color: #FFFFFF;\n",
              "      --disabled-bg-color: #3B4455;\n",
              "      --disabled-fill-color: #666;\n",
              "  }\n",
              "\n",
              "  .colab-df-quickchart {\n",
              "    background-color: var(--bg-color);\n",
              "    border: none;\n",
              "    border-radius: 50%;\n",
              "    cursor: pointer;\n",
              "    display: none;\n",
              "    fill: var(--fill-color);\n",
              "    height: 32px;\n",
              "    padding: 0;\n",
              "    width: 32px;\n",
              "  }\n",
              "\n",
              "  .colab-df-quickchart:hover {\n",
              "    background-color: var(--hover-bg-color);\n",
              "    box-shadow: 0 1px 2px rgba(60, 64, 67, 0.3), 0 1px 3px 1px rgba(60, 64, 67, 0.15);\n",
              "    fill: var(--button-hover-fill-color);\n",
              "  }\n",
              "\n",
              "  .colab-df-quickchart-complete:disabled,\n",
              "  .colab-df-quickchart-complete:disabled:hover {\n",
              "    background-color: var(--disabled-bg-color);\n",
              "    fill: var(--disabled-fill-color);\n",
              "    box-shadow: none;\n",
              "  }\n",
              "\n",
              "  .colab-df-spinner {\n",
              "    border: 2px solid var(--fill-color);\n",
              "    border-color: transparent;\n",
              "    border-bottom-color: var(--fill-color);\n",
              "    animation:\n",
              "      spin 1s steps(1) infinite;\n",
              "  }\n",
              "\n",
              "  @keyframes spin {\n",
              "    0% {\n",
              "      border-color: transparent;\n",
              "      border-bottom-color: var(--fill-color);\n",
              "      border-left-color: var(--fill-color);\n",
              "    }\n",
              "    20% {\n",
              "      border-color: transparent;\n",
              "      border-left-color: var(--fill-color);\n",
              "      border-top-color: var(--fill-color);\n",
              "    }\n",
              "    30% {\n",
              "      border-color: transparent;\n",
              "      border-left-color: var(--fill-color);\n",
              "      border-top-color: var(--fill-color);\n",
              "      border-right-color: var(--fill-color);\n",
              "    }\n",
              "    40% {\n",
              "      border-color: transparent;\n",
              "      border-right-color: var(--fill-color);\n",
              "      border-top-color: var(--fill-color);\n",
              "    }\n",
              "    60% {\n",
              "      border-color: transparent;\n",
              "      border-right-color: var(--fill-color);\n",
              "    }\n",
              "    80% {\n",
              "      border-color: transparent;\n",
              "      border-right-color: var(--fill-color);\n",
              "      border-bottom-color: var(--fill-color);\n",
              "    }\n",
              "    90% {\n",
              "      border-color: transparent;\n",
              "      border-bottom-color: var(--fill-color);\n",
              "    }\n",
              "  }\n",
              "</style>\n",
              "\n",
              "  <script>\n",
              "    async function quickchart(key) {\n",
              "      const quickchartButtonEl =\n",
              "        document.querySelector('#' + key + ' button');\n",
              "      quickchartButtonEl.disabled = true;  // To prevent multiple clicks.\n",
              "      quickchartButtonEl.classList.add('colab-df-spinner');\n",
              "      try {\n",
              "        const charts = await google.colab.kernel.invokeFunction(\n",
              "            'suggestCharts', [key], {});\n",
              "      } catch (error) {\n",
              "        console.error('Error during call to suggestCharts:', error);\n",
              "      }\n",
              "      quickchartButtonEl.classList.remove('colab-df-spinner');\n",
              "      quickchartButtonEl.classList.add('colab-df-quickchart-complete');\n",
              "    }\n",
              "    (() => {\n",
              "      let quickchartButtonEl =\n",
              "        document.querySelector('#df-01fbbd17-dc4b-417a-bf85-fa80de2ba02d button');\n",
              "      quickchartButtonEl.style.display =\n",
              "        google.colab.kernel.accessAllowed ? 'block' : 'none';\n",
              "    })();\n",
              "  </script>\n",
              "</div>\n",
              "\n",
              "  <div id=\"id_e2923b0a-99f3-4af2-9e45-7a8a59ffae53\">\n",
              "    <style>\n",
              "      .colab-df-generate {\n",
              "        background-color: #E8F0FE;\n",
              "        border: none;\n",
              "        border-radius: 50%;\n",
              "        cursor: pointer;\n",
              "        display: none;\n",
              "        fill: #1967D2;\n",
              "        height: 32px;\n",
              "        padding: 0 0 0 0;\n",
              "        width: 32px;\n",
              "      }\n",
              "\n",
              "      .colab-df-generate:hover {\n",
              "        background-color: #E2EBFA;\n",
              "        box-shadow: 0px 1px 2px rgba(60, 64, 67, 0.3), 0px 1px 3px 1px rgba(60, 64, 67, 0.15);\n",
              "        fill: #174EA6;\n",
              "      }\n",
              "\n",
              "      [theme=dark] .colab-df-generate {\n",
              "        background-color: #3B4455;\n",
              "        fill: #D2E3FC;\n",
              "      }\n",
              "\n",
              "      [theme=dark] .colab-df-generate:hover {\n",
              "        background-color: #434B5C;\n",
              "        box-shadow: 0px 1px 3px 1px rgba(0, 0, 0, 0.15);\n",
              "        filter: drop-shadow(0px 1px 2px rgba(0, 0, 0, 0.3));\n",
              "        fill: #FFFFFF;\n",
              "      }\n",
              "    </style>\n",
              "    <button class=\"colab-df-generate\" onclick=\"generateWithVariable('df')\"\n",
              "            title=\"Generate code using this dataframe.\"\n",
              "            style=\"display:none;\">\n",
              "\n",
              "  <svg xmlns=\"http://www.w3.org/2000/svg\" height=\"24px\"viewBox=\"0 0 24 24\"\n",
              "       width=\"24px\">\n",
              "    <path d=\"M7,19H8.4L18.45,9,17,7.55,7,17.6ZM5,21V16.75L18.45,3.32a2,2,0,0,1,2.83,0l1.4,1.43a1.91,1.91,0,0,1,.58,1.4,1.91,1.91,0,0,1-.58,1.4L9.25,21ZM18.45,9,17,7.55Zm-12,3A5.31,5.31,0,0,0,4.9,8.1,5.31,5.31,0,0,0,1,6.5,5.31,5.31,0,0,0,4.9,4.9,5.31,5.31,0,0,0,6.5,1,5.31,5.31,0,0,0,8.1,4.9,5.31,5.31,0,0,0,12,6.5,5.46,5.46,0,0,0,6.5,12Z\"/>\n",
              "  </svg>\n",
              "    </button>\n",
              "    <script>\n",
              "      (() => {\n",
              "      const buttonEl =\n",
              "        document.querySelector('#id_e2923b0a-99f3-4af2-9e45-7a8a59ffae53 button.colab-df-generate');\n",
              "      buttonEl.style.display =\n",
              "        google.colab.kernel.accessAllowed ? 'block' : 'none';\n",
              "\n",
              "      buttonEl.onclick = () => {\n",
              "        google.colab.notebook.generateWithVariable('df');\n",
              "      }\n",
              "      })();\n",
              "    </script>\n",
              "  </div>\n",
              "\n",
              "    </div>\n",
              "  </div>\n"
            ],
            "text/plain": [
              "                                                  path  label  \\\n",
              "0    /content/Training B Normal/Btraining_noisynorm...      2   \n",
              "1    /content/Training B Normal/208_1308159994503_C...      2   \n",
              "2    /content/Training B Normal/Btraining_noisynorm...      2   \n",
              "3    /content/Training B Normal/168_1307970069434_A...      2   \n",
              "4    /content/Training B Normal/286_1311170606028_A...      2   \n",
              "..                                                 ...    ...   \n",
              "456  /content/Btraining_murmur/Btraining_noisymurmu...      1   \n",
              "457  /content/Training B Normal/290_1311182875320_A...      2   \n",
              "458  /content/Training B Normal/133_1306759619127_A...      2   \n",
              "459  /content/Training B Normal/Btraining_noisynorm...      2   \n",
              "460  /content/Btraining_extrastole/237_130875023122...      0   \n",
              "\n",
              "                                                signal   rate  signal_lenght  \n",
              "0    [-0.06424696, -0.07385278, -0.076660514, -0.07...  22050          25000  \n",
              "1    [-0.0033779703, -0.0049561756, -0.006515392, -...  22050          25000  \n",
              "2    [-0.017818699, -0.020907335, -0.02243503, -0.0...  22050          25000  \n",
              "3    [0.002360615, 0.0034610974, 0.0046580434, 0.00...  22050          25000  \n",
              "4    [-0.025364015, -0.030387467, -0.033514023, -0....  22050          25000  \n",
              "..                                                 ...    ...            ...  \n",
              "456  [0.032095768, 0.037791796, 0.04062595, 0.04086...  22050          25000  \n",
              "457  [-0.016294796, -0.01859469, -0.019159839, -0.0...  22050          25000  \n",
              "458  [0.009948589, 0.011807519, 0.012821878, 0.0130...  22050          25000  \n",
              "459  [0.004040597, 0.0044463556, 0.004317157, 0.003...  22050          25000  \n",
              "460  [0.008255638, 0.009291448, 0.009410155, 0.0087...  22050          25000  \n",
              "\n",
              "[461 rows x 5 columns]"
            ]
          },
          "execution_count": 48,
          "metadata": {},
          "output_type": "execute_result"
        }
      ],
      "source": [
        "df"
      ]
    },
    {
      "cell_type": "code",
      "execution_count": null,
      "metadata": {
        "colab": {
          "base_uri": "https://localhost:8080/"
        },
        "id": "57hqjIdS8phu",
        "outputId": "2678658a-1a90-4ad1-997d-fef11c575d80"
      },
      "outputs": [
        {
          "data": {
            "text/plain": [
              "25916.04338394794"
            ]
          },
          "execution_count": 17,
          "metadata": {},
          "output_type": "execute_result"
        }
      ],
      "source": [
        "df['signal_lenght'].mean()"
      ]
    },
    {
      "cell_type": "code",
      "execution_count": null,
      "metadata": {
        "id": "mEoenf_A508g"
      },
      "outputs": [],
      "source": []
    },
    {
      "cell_type": "code",
      "execution_count": null,
      "metadata": {
        "id": "xg833QaG6FsN"
      },
      "outputs": [],
      "source": []
    },
    {
      "cell_type": "code",
      "execution_count": null,
      "metadata": {
        "id": "NmKF8__QlaA6"
      },
      "outputs": [],
      "source": []
    },
    {
      "cell_type": "code",
      "execution_count": null,
      "metadata": {
        "id": "bSouk6iLmjkR"
      },
      "outputs": [],
      "source": [
        "class ECGDataset(torch.utils.data.Dataset):\n",
        "  def __init__(self, df) -> None:\n",
        "    self.df = df\n",
        "\n",
        "    self.label = df['label']\n",
        "\n",
        "  def __len__(self):\n",
        "    return len(self.df)\n",
        "\n",
        "  def __getitem__(self, idx):\n",
        "    data = self.df['signal'].iloc[idx]\n",
        "    label = self.df['label'].iloc[idx]\n",
        "    return torch.from_numpy(data), label"
      ]
    },
    {
      "cell_type": "code",
      "execution_count": null,
      "metadata": {
        "id": "LrU3RdluB_cF"
      },
      "outputs": [],
      "source": [
        "df = df.sample(frac=1).reset_index(drop=True)"
      ]
    },
    {
      "cell_type": "code",
      "execution_count": null,
      "metadata": {
        "colab": {
          "base_uri": "https://localhost:8080/",
          "height": 964
        },
        "id": "nwItTx0kCBq-",
        "outputId": "1afb4214-ccec-423b-be82-67dbdb19d399"
      },
      "outputs": [
        {
          "output_type": "execute_result",
          "data": {
            "text/plain": [
              "                                                  path  label  \\\n",
              "0    /content/Training B Normal/Btraining_noisynorm...      2   \n",
              "1    /content/Training B Normal/Btraining_noisynorm...      2   \n",
              "2    /content/Btraining_extrastole/215_130824566473...      0   \n",
              "3    /content/Training B Normal/170_1307970562729_C...      2   \n",
              "4    /content/Btraining_extrastole/216_130824583951...      0   \n",
              "..                                                 ...    ...   \n",
              "456  /content/Training B Normal/Btraining_noisynorm...      2   \n",
              "457  /content/Btraining_murmur/245_1309200438094_B.wav      1   \n",
              "458  /content/Training B Normal/146_1306778707532_B...      2   \n",
              "459  /content/Btraining_murmur/203_1308162026258_B.wav      1   \n",
              "460  /content/Btraining_extrastole/224_130833715744...      0   \n",
              "\n",
              "                                                signal   rate  signal_lenght  \n",
              "0    [-0.0041013164, -0.0054221516, -0.006643458, -...  22050          25000  \n",
              "1    [-0.0075251376, -0.009857628, -0.011796199, -0...  22050          25000  \n",
              "2    [-0.027716013, -0.032063324, -0.033699654, -0....  22050          25000  \n",
              "3    [-0.004873815, -0.004881922, -0.0040257294, -0...  22050          25000  \n",
              "4    [-0.002762383, -0.0032306558, -0.003466074, -0...  22050          25000  \n",
              "..                                                 ...    ...            ...  \n",
              "456  [-0.018137809, -0.021215651, -0.022599794, -0....  22050          25000  \n",
              "457  [0.023107246, 0.02768246, 0.030218277, 0.03065...  22050          25000  \n",
              "458  [-0.26682383, -0.31298065, -0.3347817, -0.3347...  22050          25000  \n",
              "459  [-0.014908378, -0.017343957, -0.018267214, -0....  22050          25000  \n",
              "460  [0.007510475, 0.0073627387, 0.0060029505, 0.00...  22050          25000  \n",
              "\n",
              "[461 rows x 5 columns]"
            ],
            "text/html": [
              "\n",
              "  <div id=\"df-5d1292e4-4202-46d6-88c1-ff4d2570ac72\" class=\"colab-df-container\">\n",
              "    <div>\n",
              "<style scoped>\n",
              "    .dataframe tbody tr th:only-of-type {\n",
              "        vertical-align: middle;\n",
              "    }\n",
              "\n",
              "    .dataframe tbody tr th {\n",
              "        vertical-align: top;\n",
              "    }\n",
              "\n",
              "    .dataframe thead th {\n",
              "        text-align: right;\n",
              "    }\n",
              "</style>\n",
              "<table border=\"1\" class=\"dataframe\">\n",
              "  <thead>\n",
              "    <tr style=\"text-align: right;\">\n",
              "      <th></th>\n",
              "      <th>path</th>\n",
              "      <th>label</th>\n",
              "      <th>signal</th>\n",
              "      <th>rate</th>\n",
              "      <th>signal_lenght</th>\n",
              "    </tr>\n",
              "  </thead>\n",
              "  <tbody>\n",
              "    <tr>\n",
              "      <th>0</th>\n",
              "      <td>/content/Training B Normal/Btraining_noisynorm...</td>\n",
              "      <td>2</td>\n",
              "      <td>[-0.0041013164, -0.0054221516, -0.006643458, -...</td>\n",
              "      <td>22050</td>\n",
              "      <td>25000</td>\n",
              "    </tr>\n",
              "    <tr>\n",
              "      <th>1</th>\n",
              "      <td>/content/Training B Normal/Btraining_noisynorm...</td>\n",
              "      <td>2</td>\n",
              "      <td>[-0.0075251376, -0.009857628, -0.011796199, -0...</td>\n",
              "      <td>22050</td>\n",
              "      <td>25000</td>\n",
              "    </tr>\n",
              "    <tr>\n",
              "      <th>2</th>\n",
              "      <td>/content/Btraining_extrastole/215_130824566473...</td>\n",
              "      <td>0</td>\n",
              "      <td>[-0.027716013, -0.032063324, -0.033699654, -0....</td>\n",
              "      <td>22050</td>\n",
              "      <td>25000</td>\n",
              "    </tr>\n",
              "    <tr>\n",
              "      <th>3</th>\n",
              "      <td>/content/Training B Normal/170_1307970562729_C...</td>\n",
              "      <td>2</td>\n",
              "      <td>[-0.004873815, -0.004881922, -0.0040257294, -0...</td>\n",
              "      <td>22050</td>\n",
              "      <td>25000</td>\n",
              "    </tr>\n",
              "    <tr>\n",
              "      <th>4</th>\n",
              "      <td>/content/Btraining_extrastole/216_130824583951...</td>\n",
              "      <td>0</td>\n",
              "      <td>[-0.002762383, -0.0032306558, -0.003466074, -0...</td>\n",
              "      <td>22050</td>\n",
              "      <td>25000</td>\n",
              "    </tr>\n",
              "    <tr>\n",
              "      <th>...</th>\n",
              "      <td>...</td>\n",
              "      <td>...</td>\n",
              "      <td>...</td>\n",
              "      <td>...</td>\n",
              "      <td>...</td>\n",
              "    </tr>\n",
              "    <tr>\n",
              "      <th>456</th>\n",
              "      <td>/content/Training B Normal/Btraining_noisynorm...</td>\n",
              "      <td>2</td>\n",
              "      <td>[-0.018137809, -0.021215651, -0.022599794, -0....</td>\n",
              "      <td>22050</td>\n",
              "      <td>25000</td>\n",
              "    </tr>\n",
              "    <tr>\n",
              "      <th>457</th>\n",
              "      <td>/content/Btraining_murmur/245_1309200438094_B.wav</td>\n",
              "      <td>1</td>\n",
              "      <td>[0.023107246, 0.02768246, 0.030218277, 0.03065...</td>\n",
              "      <td>22050</td>\n",
              "      <td>25000</td>\n",
              "    </tr>\n",
              "    <tr>\n",
              "      <th>458</th>\n",
              "      <td>/content/Training B Normal/146_1306778707532_B...</td>\n",
              "      <td>2</td>\n",
              "      <td>[-0.26682383, -0.31298065, -0.3347817, -0.3347...</td>\n",
              "      <td>22050</td>\n",
              "      <td>25000</td>\n",
              "    </tr>\n",
              "    <tr>\n",
              "      <th>459</th>\n",
              "      <td>/content/Btraining_murmur/203_1308162026258_B.wav</td>\n",
              "      <td>1</td>\n",
              "      <td>[-0.014908378, -0.017343957, -0.018267214, -0....</td>\n",
              "      <td>22050</td>\n",
              "      <td>25000</td>\n",
              "    </tr>\n",
              "    <tr>\n",
              "      <th>460</th>\n",
              "      <td>/content/Btraining_extrastole/224_130833715744...</td>\n",
              "      <td>0</td>\n",
              "      <td>[0.007510475, 0.0073627387, 0.0060029505, 0.00...</td>\n",
              "      <td>22050</td>\n",
              "      <td>25000</td>\n",
              "    </tr>\n",
              "  </tbody>\n",
              "</table>\n",
              "<p>461 rows × 5 columns</p>\n",
              "</div>\n",
              "    <div class=\"colab-df-buttons\">\n",
              "\n",
              "  <div class=\"colab-df-container\">\n",
              "    <button class=\"colab-df-convert\" onclick=\"convertToInteractive('df-5d1292e4-4202-46d6-88c1-ff4d2570ac72')\"\n",
              "            title=\"Convert this dataframe to an interactive table.\"\n",
              "            style=\"display:none;\">\n",
              "\n",
              "  <svg xmlns=\"http://www.w3.org/2000/svg\" height=\"24px\" viewBox=\"0 -960 960 960\">\n",
              "    <path d=\"M120-120v-720h720v720H120Zm60-500h600v-160H180v160Zm220 220h160v-160H400v160Zm0 220h160v-160H400v160ZM180-400h160v-160H180v160Zm440 0h160v-160H620v160ZM180-180h160v-160H180v160Zm440 0h160v-160H620v160Z\"/>\n",
              "  </svg>\n",
              "    </button>\n",
              "\n",
              "  <style>\n",
              "    .colab-df-container {\n",
              "      display:flex;\n",
              "      gap: 12px;\n",
              "    }\n",
              "\n",
              "    .colab-df-convert {\n",
              "      background-color: #E8F0FE;\n",
              "      border: none;\n",
              "      border-radius: 50%;\n",
              "      cursor: pointer;\n",
              "      display: none;\n",
              "      fill: #1967D2;\n",
              "      height: 32px;\n",
              "      padding: 0 0 0 0;\n",
              "      width: 32px;\n",
              "    }\n",
              "\n",
              "    .colab-df-convert:hover {\n",
              "      background-color: #E2EBFA;\n",
              "      box-shadow: 0px 1px 2px rgba(60, 64, 67, 0.3), 0px 1px 3px 1px rgba(60, 64, 67, 0.15);\n",
              "      fill: #174EA6;\n",
              "    }\n",
              "\n",
              "    .colab-df-buttons div {\n",
              "      margin-bottom: 4px;\n",
              "    }\n",
              "\n",
              "    [theme=dark] .colab-df-convert {\n",
              "      background-color: #3B4455;\n",
              "      fill: #D2E3FC;\n",
              "    }\n",
              "\n",
              "    [theme=dark] .colab-df-convert:hover {\n",
              "      background-color: #434B5C;\n",
              "      box-shadow: 0px 1px 3px 1px rgba(0, 0, 0, 0.15);\n",
              "      filter: drop-shadow(0px 1px 2px rgba(0, 0, 0, 0.3));\n",
              "      fill: #FFFFFF;\n",
              "    }\n",
              "  </style>\n",
              "\n",
              "    <script>\n",
              "      const buttonEl =\n",
              "        document.querySelector('#df-5d1292e4-4202-46d6-88c1-ff4d2570ac72 button.colab-df-convert');\n",
              "      buttonEl.style.display =\n",
              "        google.colab.kernel.accessAllowed ? 'block' : 'none';\n",
              "\n",
              "      async function convertToInteractive(key) {\n",
              "        const element = document.querySelector('#df-5d1292e4-4202-46d6-88c1-ff4d2570ac72');\n",
              "        const dataTable =\n",
              "          await google.colab.kernel.invokeFunction('convertToInteractive',\n",
              "                                                    [key], {});\n",
              "        if (!dataTable) return;\n",
              "\n",
              "        const docLinkHtml = 'Like what you see? Visit the ' +\n",
              "          '<a target=\"_blank\" href=https://colab.research.google.com/notebooks/data_table.ipynb>data table notebook</a>'\n",
              "          + ' to learn more about interactive tables.';\n",
              "        element.innerHTML = '';\n",
              "        dataTable['output_type'] = 'display_data';\n",
              "        await google.colab.output.renderOutput(dataTable, element);\n",
              "        const docLink = document.createElement('div');\n",
              "        docLink.innerHTML = docLinkHtml;\n",
              "        element.appendChild(docLink);\n",
              "      }\n",
              "    </script>\n",
              "  </div>\n",
              "\n",
              "\n",
              "<div id=\"df-9ed13ed4-4372-4d3d-bf1a-14518b40bd69\">\n",
              "  <button class=\"colab-df-quickchart\" onclick=\"quickchart('df-9ed13ed4-4372-4d3d-bf1a-14518b40bd69')\"\n",
              "            title=\"Suggest charts\"\n",
              "            style=\"display:none;\">\n",
              "\n",
              "<svg xmlns=\"http://www.w3.org/2000/svg\" height=\"24px\"viewBox=\"0 0 24 24\"\n",
              "     width=\"24px\">\n",
              "    <g>\n",
              "        <path d=\"M19 3H5c-1.1 0-2 .9-2 2v14c0 1.1.9 2 2 2h14c1.1 0 2-.9 2-2V5c0-1.1-.9-2-2-2zM9 17H7v-7h2v7zm4 0h-2V7h2v10zm4 0h-2v-4h2v4z\"/>\n",
              "    </g>\n",
              "</svg>\n",
              "  </button>\n",
              "\n",
              "<style>\n",
              "  .colab-df-quickchart {\n",
              "      --bg-color: #E8F0FE;\n",
              "      --fill-color: #1967D2;\n",
              "      --hover-bg-color: #E2EBFA;\n",
              "      --hover-fill-color: #174EA6;\n",
              "      --disabled-fill-color: #AAA;\n",
              "      --disabled-bg-color: #DDD;\n",
              "  }\n",
              "\n",
              "  [theme=dark] .colab-df-quickchart {\n",
              "      --bg-color: #3B4455;\n",
              "      --fill-color: #D2E3FC;\n",
              "      --hover-bg-color: #434B5C;\n",
              "      --hover-fill-color: #FFFFFF;\n",
              "      --disabled-bg-color: #3B4455;\n",
              "      --disabled-fill-color: #666;\n",
              "  }\n",
              "\n",
              "  .colab-df-quickchart {\n",
              "    background-color: var(--bg-color);\n",
              "    border: none;\n",
              "    border-radius: 50%;\n",
              "    cursor: pointer;\n",
              "    display: none;\n",
              "    fill: var(--fill-color);\n",
              "    height: 32px;\n",
              "    padding: 0;\n",
              "    width: 32px;\n",
              "  }\n",
              "\n",
              "  .colab-df-quickchart:hover {\n",
              "    background-color: var(--hover-bg-color);\n",
              "    box-shadow: 0 1px 2px rgba(60, 64, 67, 0.3), 0 1px 3px 1px rgba(60, 64, 67, 0.15);\n",
              "    fill: var(--button-hover-fill-color);\n",
              "  }\n",
              "\n",
              "  .colab-df-quickchart-complete:disabled,\n",
              "  .colab-df-quickchart-complete:disabled:hover {\n",
              "    background-color: var(--disabled-bg-color);\n",
              "    fill: var(--disabled-fill-color);\n",
              "    box-shadow: none;\n",
              "  }\n",
              "\n",
              "  .colab-df-spinner {\n",
              "    border: 2px solid var(--fill-color);\n",
              "    border-color: transparent;\n",
              "    border-bottom-color: var(--fill-color);\n",
              "    animation:\n",
              "      spin 1s steps(1) infinite;\n",
              "  }\n",
              "\n",
              "  @keyframes spin {\n",
              "    0% {\n",
              "      border-color: transparent;\n",
              "      border-bottom-color: var(--fill-color);\n",
              "      border-left-color: var(--fill-color);\n",
              "    }\n",
              "    20% {\n",
              "      border-color: transparent;\n",
              "      border-left-color: var(--fill-color);\n",
              "      border-top-color: var(--fill-color);\n",
              "    }\n",
              "    30% {\n",
              "      border-color: transparent;\n",
              "      border-left-color: var(--fill-color);\n",
              "      border-top-color: var(--fill-color);\n",
              "      border-right-color: var(--fill-color);\n",
              "    }\n",
              "    40% {\n",
              "      border-color: transparent;\n",
              "      border-right-color: var(--fill-color);\n",
              "      border-top-color: var(--fill-color);\n",
              "    }\n",
              "    60% {\n",
              "      border-color: transparent;\n",
              "      border-right-color: var(--fill-color);\n",
              "    }\n",
              "    80% {\n",
              "      border-color: transparent;\n",
              "      border-right-color: var(--fill-color);\n",
              "      border-bottom-color: var(--fill-color);\n",
              "    }\n",
              "    90% {\n",
              "      border-color: transparent;\n",
              "      border-bottom-color: var(--fill-color);\n",
              "    }\n",
              "  }\n",
              "</style>\n",
              "\n",
              "  <script>\n",
              "    async function quickchart(key) {\n",
              "      const quickchartButtonEl =\n",
              "        document.querySelector('#' + key + ' button');\n",
              "      quickchartButtonEl.disabled = true;  // To prevent multiple clicks.\n",
              "      quickchartButtonEl.classList.add('colab-df-spinner');\n",
              "      try {\n",
              "        const charts = await google.colab.kernel.invokeFunction(\n",
              "            'suggestCharts', [key], {});\n",
              "      } catch (error) {\n",
              "        console.error('Error during call to suggestCharts:', error);\n",
              "      }\n",
              "      quickchartButtonEl.classList.remove('colab-df-spinner');\n",
              "      quickchartButtonEl.classList.add('colab-df-quickchart-complete');\n",
              "    }\n",
              "    (() => {\n",
              "      let quickchartButtonEl =\n",
              "        document.querySelector('#df-9ed13ed4-4372-4d3d-bf1a-14518b40bd69 button');\n",
              "      quickchartButtonEl.style.display =\n",
              "        google.colab.kernel.accessAllowed ? 'block' : 'none';\n",
              "    })();\n",
              "  </script>\n",
              "</div>\n",
              "\n",
              "  <div id=\"id_fc34f87b-6247-48ec-90b5-d923699bcab2\">\n",
              "    <style>\n",
              "      .colab-df-generate {\n",
              "        background-color: #E8F0FE;\n",
              "        border: none;\n",
              "        border-radius: 50%;\n",
              "        cursor: pointer;\n",
              "        display: none;\n",
              "        fill: #1967D2;\n",
              "        height: 32px;\n",
              "        padding: 0 0 0 0;\n",
              "        width: 32px;\n",
              "      }\n",
              "\n",
              "      .colab-df-generate:hover {\n",
              "        background-color: #E2EBFA;\n",
              "        box-shadow: 0px 1px 2px rgba(60, 64, 67, 0.3), 0px 1px 3px 1px rgba(60, 64, 67, 0.15);\n",
              "        fill: #174EA6;\n",
              "      }\n",
              "\n",
              "      [theme=dark] .colab-df-generate {\n",
              "        background-color: #3B4455;\n",
              "        fill: #D2E3FC;\n",
              "      }\n",
              "\n",
              "      [theme=dark] .colab-df-generate:hover {\n",
              "        background-color: #434B5C;\n",
              "        box-shadow: 0px 1px 3px 1px rgba(0, 0, 0, 0.15);\n",
              "        filter: drop-shadow(0px 1px 2px rgba(0, 0, 0, 0.3));\n",
              "        fill: #FFFFFF;\n",
              "      }\n",
              "    </style>\n",
              "    <button class=\"colab-df-generate\" onclick=\"generateWithVariable('df')\"\n",
              "            title=\"Generate code using this dataframe.\"\n",
              "            style=\"display:none;\">\n",
              "\n",
              "  <svg xmlns=\"http://www.w3.org/2000/svg\" height=\"24px\"viewBox=\"0 0 24 24\"\n",
              "       width=\"24px\">\n",
              "    <path d=\"M7,19H8.4L18.45,9,17,7.55,7,17.6ZM5,21V16.75L18.45,3.32a2,2,0,0,1,2.83,0l1.4,1.43a1.91,1.91,0,0,1,.58,1.4,1.91,1.91,0,0,1-.58,1.4L9.25,21ZM18.45,9,17,7.55Zm-12,3A5.31,5.31,0,0,0,4.9,8.1,5.31,5.31,0,0,0,1,6.5,5.31,5.31,0,0,0,4.9,4.9,5.31,5.31,0,0,0,6.5,1,5.31,5.31,0,0,0,8.1,4.9,5.31,5.31,0,0,0,12,6.5,5.46,5.46,0,0,0,6.5,12Z\"/>\n",
              "  </svg>\n",
              "    </button>\n",
              "    <script>\n",
              "      (() => {\n",
              "      const buttonEl =\n",
              "        document.querySelector('#id_fc34f87b-6247-48ec-90b5-d923699bcab2 button.colab-df-generate');\n",
              "      buttonEl.style.display =\n",
              "        google.colab.kernel.accessAllowed ? 'block' : 'none';\n",
              "\n",
              "      buttonEl.onclick = () => {\n",
              "        google.colab.notebook.generateWithVariable('df');\n",
              "      }\n",
              "      })();\n",
              "    </script>\n",
              "  </div>\n",
              "\n",
              "    </div>\n",
              "  </div>\n"
            ],
            "application/vnd.google.colaboratory.intrinsic+json": {
              "type": "dataframe",
              "variable_name": "df",
              "summary": "{\n  \"name\": \"df\",\n  \"rows\": 461,\n  \"fields\": [\n    {\n      \"column\": \"path\",\n      \"properties\": {\n        \"dtype\": \"string\",\n        \"num_unique_values\": 461,\n        \"samples\": [\n          \"/content/Training B Normal/174_1307987737137_B1.wav\",\n          \"/content/Training B Normal/Btraining_noisynormal/133_1306759619127_C.wav\",\n          \"/content/Training B Normal/274_1311075637574_A1.wav\"\n        ],\n        \"semantic_type\": \"\",\n        \"description\": \"\"\n      }\n    },\n    {\n      \"column\": \"label\",\n      \"properties\": {\n        \"dtype\": \"number\",\n        \"std\": 0,\n        \"min\": 0,\n        \"max\": 2,\n        \"num_unique_values\": 3,\n        \"samples\": [\n          2,\n          0,\n          1\n        ],\n        \"semantic_type\": \"\",\n        \"description\": \"\"\n      }\n    },\n    {\n      \"column\": \"signal\",\n      \"properties\": {\n        \"dtype\": \"object\",\n        \"semantic_type\": \"\",\n        \"description\": \"\"\n      }\n    },\n    {\n      \"column\": \"rate\",\n      \"properties\": {\n        \"dtype\": \"number\",\n        \"std\": 0,\n        \"min\": 22050,\n        \"max\": 22050,\n        \"num_unique_values\": 1,\n        \"samples\": [\n          22050\n        ],\n        \"semantic_type\": \"\",\n        \"description\": \"\"\n      }\n    },\n    {\n      \"column\": \"signal_lenght\",\n      \"properties\": {\n        \"dtype\": \"number\",\n        \"std\": 0,\n        \"min\": 25000,\n        \"max\": 25000,\n        \"num_unique_values\": 1,\n        \"samples\": [\n          25000\n        ],\n        \"semantic_type\": \"\",\n        \"description\": \"\"\n      }\n    }\n  ]\n}"
            }
          },
          "metadata": {},
          "execution_count": 14
        }
      ],
      "source": [
        "df"
      ]
    },
    {
      "cell_type": "code",
      "execution_count": null,
      "metadata": {
        "id": "TyGjpepVwwSm"
      },
      "outputs": [],
      "source": [
        "def plot_waveform(waveform, sample_rate):\n",
        "    plt.figure(figsize=(10, 4))\n",
        "    plt.plot(waveform.t().numpy())  # Transpose and convert to numpy for plotting\n",
        "    plt.title('Waveform of Heart Sound')\n",
        "    plt.xlabel('Time (samples)')\n",
        "    plt.ylabel('Amplitude')\n"
      ]
    },
    {
      "cell_type": "code",
      "execution_count": null,
      "metadata": {
        "id": "MtakOWA-uKiv"
      },
      "outputs": [],
      "source": [
        "def plot_specgram(waveform, sample_rate, title=\"Spectrogram\"):\n",
        "    waveform = waveform.numpy()\n",
        "\n",
        "    figure, ax = plt.subplots()\n",
        "    ax.specgram(waveform[0], Fs=sample_rate)\n",
        "    figure.suptitle(title)\n",
        "    figure.tight_layout()\n",
        "\n"
      ]
    },
    {
      "cell_type": "code",
      "execution_count": null,
      "metadata": {
        "id": "XEEOBpkz4WYC"
      },
      "outputs": [],
      "source": [
        "# TODO: Build the nn"
      ]
    },
    {
      "cell_type": "markdown",
      "metadata": {
        "id": "WYuSuevc49_f"
      },
      "source": [
        "# Trying MFCC"
      ]
    },
    {
      "cell_type": "code",
      "execution_count": null,
      "metadata": {
        "id": "VRViDSkd49sD"
      },
      "outputs": [],
      "source": []
    },
    {
      "cell_type": "code",
      "execution_count": null,
      "metadata": {
        "id": "pKV1HB5OwZdS"
      },
      "outputs": [],
      "source": [
        "mfcc = df['signal'].apply(lambda x: librosa.feature.mfcc(y=x, sr=df['rate'].iloc[0]))"
      ]
    },
    {
      "cell_type": "code",
      "execution_count": null,
      "metadata": {
        "id": "0JbaoSri5H4w"
      },
      "outputs": [],
      "source": [
        "train, test = df[:int(len(df)*0.8)], df[int(len(df)*0.8):]"
      ]
    },
    {
      "cell_type": "code",
      "execution_count": null,
      "metadata": {
        "id": "whYRnqgO5l3c"
      },
      "outputs": [],
      "source": [
        "from sklearn.ensemble import GradientBoostingClassifier\n",
        "from sklearn.metrics import accuracy_score\n",
        "X = np.stack(mfcc.apply(lambda x: x.flatten()).to_list())\n",
        "y = df['label']\n",
        "\n",
        "\n",
        "#gbc = GradientBoostingClassifier()\n",
        "#gbc.fit(X[:int(len(df)*0.8)], y[:int(len(df)*0.8)])"
      ]
    },
    {
      "cell_type": "code",
      "execution_count": null,
      "metadata": {
        "colab": {
          "base_uri": "https://localhost:8080/"
        },
        "id": "fd_-USMQ6DZd",
        "outputId": "67a8037f-f663-46d4-9543-7a5cdd75c0ec"
      },
      "outputs": [
        {
          "data": {
            "text/plain": [
              "0.7956989247311828"
            ]
          },
          "execution_count": 48,
          "metadata": {},
          "output_type": "execute_result"
        }
      ],
      "source": [
        "accuracy_score(gbc.predict(X[int(len(df)*0.8):]), y[int(len(df)*0.8):])"
      ]
    },
    {
      "cell_type": "markdown",
      "metadata": {
        "id": "cW9Y1Ihf8MYP"
      },
      "source": [
        "### initial findings:\n",
        "by using mfcc for feature extraction I was able to achive nearly 80% by using Gradient Bossting trees, Ways to get a higher accuracy include:\n",
        "- smapling the minority class\n",
        "- one_hot encode the labels\n",
        "- adjust the hyperparameters\n",
        "- use neural networks\n"
      ]
    },
    {
      "cell_type": "markdown",
      "metadata": {
        "id": "z9HARIXH84e0"
      },
      "source": [
        "### sampling the minority class"
      ]
    },
    {
      "cell_type": "code",
      "execution_count": null,
      "metadata": {
        "id": "v-GDRyzX65lc"
      },
      "outputs": [],
      "source": [
        "from imblearn.over_sampling import SMOTE"
      ]
    },
    {
      "cell_type": "code",
      "execution_count": null,
      "metadata": {
        "id": "5REZQOBE9UPU"
      },
      "outputs": [],
      "source": [
        "sm = SMOTE(random_state=42)\n",
        "X_res, y_res = sm.fit_resample(X, y)"
      ]
    },
    {
      "cell_type": "code",
      "execution_count": null,
      "metadata": {
        "id": "yOBc_HRn-ZQP"
      },
      "outputs": [],
      "source": [
        "from sklearn.model_selection import train_test_split"
      ]
    },
    {
      "cell_type": "code",
      "execution_count": null,
      "metadata": {
        "id": "3pL1AeE699Bb"
      },
      "outputs": [],
      "source": [
        "X_train, X_test, y_train, y_test = train_test_split(X_res, y_res, test_size=0.2, random_state=42)"
      ]
    },
    {
      "cell_type": "code",
      "execution_count": null,
      "metadata": {
        "colab": {
          "base_uri": "https://localhost:8080/"
        },
        "id": "m69UAqXj-eay",
        "outputId": "0d8296d6-3c78-4a78-94da-11c98f6bfc4a"
      },
      "outputs": [
        {
          "output_type": "execute_result",
          "data": {
            "text/plain": [
              "((768, 980), (768,), (192, 980), (192,))"
            ]
          },
          "metadata": {},
          "execution_count": 26
        }
      ],
      "source": [
        "X_train.shape, y_train.shape, X_test.shape, y_test.shape"
      ]
    },
    {
      "cell_type": "code",
      "execution_count": null,
      "metadata": {
        "colab": {
          "base_uri": "https://localhost:8080/",
          "height": 209
        },
        "id": "jssW54-W9XE7",
        "outputId": "e77e1383-b433-4dd0-efef-84ff60a59a10"
      },
      "outputs": [
        {
          "data": {
            "text/html": [
              "<div>\n",
              "<style scoped>\n",
              "    .dataframe tbody tr th:only-of-type {\n",
              "        vertical-align: middle;\n",
              "    }\n",
              "\n",
              "    .dataframe tbody tr th {\n",
              "        vertical-align: top;\n",
              "    }\n",
              "\n",
              "    .dataframe thead th {\n",
              "        text-align: right;\n",
              "    }\n",
              "</style>\n",
              "<table border=\"1\" class=\"dataframe\">\n",
              "  <thead>\n",
              "    <tr style=\"text-align: right;\">\n",
              "      <th></th>\n",
              "      <th>count</th>\n",
              "    </tr>\n",
              "    <tr>\n",
              "      <th>label</th>\n",
              "      <th></th>\n",
              "    </tr>\n",
              "  </thead>\n",
              "  <tbody>\n",
              "    <tr>\n",
              "      <th>2</th>\n",
              "      <td>320</td>\n",
              "    </tr>\n",
              "    <tr>\n",
              "      <th>0</th>\n",
              "      <td>320</td>\n",
              "    </tr>\n",
              "    <tr>\n",
              "      <th>1</th>\n",
              "      <td>320</td>\n",
              "    </tr>\n",
              "  </tbody>\n",
              "</table>\n",
              "</div><br><label><b>dtype:</b> int64</label>"
            ],
            "text/plain": [
              "label\n",
              "2    320\n",
              "0    320\n",
              "1    320\n",
              "Name: count, dtype: int64"
            ]
          },
          "execution_count": 54,
          "metadata": {},
          "output_type": "execute_result"
        }
      ],
      "source": [
        "y_res.value_counts()"
      ]
    },
    {
      "cell_type": "code",
      "execution_count": null,
      "metadata": {
        "colab": {
          "base_uri": "https://localhost:8080/",
          "height": 74
        },
        "id": "3w41yzKM9Y09",
        "outputId": "ab0a5059-13c5-4b0f-d4f1-27279e1bf5a8"
      },
      "outputs": [
        {
          "output_type": "execute_result",
          "data": {
            "text/plain": [
              "GradientBoostingClassifier()"
            ],
            "text/html": [
              "<style>#sk-container-id-1 {color: black;}#sk-container-id-1 pre{padding: 0;}#sk-container-id-1 div.sk-toggleable {background-color: white;}#sk-container-id-1 label.sk-toggleable__label {cursor: pointer;display: block;width: 100%;margin-bottom: 0;padding: 0.3em;box-sizing: border-box;text-align: center;}#sk-container-id-1 label.sk-toggleable__label-arrow:before {content: \"▸\";float: left;margin-right: 0.25em;color: #696969;}#sk-container-id-1 label.sk-toggleable__label-arrow:hover:before {color: black;}#sk-container-id-1 div.sk-estimator:hover label.sk-toggleable__label-arrow:before {color: black;}#sk-container-id-1 div.sk-toggleable__content {max-height: 0;max-width: 0;overflow: hidden;text-align: left;background-color: #f0f8ff;}#sk-container-id-1 div.sk-toggleable__content pre {margin: 0.2em;color: black;border-radius: 0.25em;background-color: #f0f8ff;}#sk-container-id-1 input.sk-toggleable__control:checked~div.sk-toggleable__content {max-height: 200px;max-width: 100%;overflow: auto;}#sk-container-id-1 input.sk-toggleable__control:checked~label.sk-toggleable__label-arrow:before {content: \"▾\";}#sk-container-id-1 div.sk-estimator input.sk-toggleable__control:checked~label.sk-toggleable__label {background-color: #d4ebff;}#sk-container-id-1 div.sk-label input.sk-toggleable__control:checked~label.sk-toggleable__label {background-color: #d4ebff;}#sk-container-id-1 input.sk-hidden--visually {border: 0;clip: rect(1px 1px 1px 1px);clip: rect(1px, 1px, 1px, 1px);height: 1px;margin: -1px;overflow: hidden;padding: 0;position: absolute;width: 1px;}#sk-container-id-1 div.sk-estimator {font-family: monospace;background-color: #f0f8ff;border: 1px dotted black;border-radius: 0.25em;box-sizing: border-box;margin-bottom: 0.5em;}#sk-container-id-1 div.sk-estimator:hover {background-color: #d4ebff;}#sk-container-id-1 div.sk-parallel-item::after {content: \"\";width: 100%;border-bottom: 1px solid gray;flex-grow: 1;}#sk-container-id-1 div.sk-label:hover label.sk-toggleable__label {background-color: #d4ebff;}#sk-container-id-1 div.sk-serial::before {content: \"\";position: absolute;border-left: 1px solid gray;box-sizing: border-box;top: 0;bottom: 0;left: 50%;z-index: 0;}#sk-container-id-1 div.sk-serial {display: flex;flex-direction: column;align-items: center;background-color: white;padding-right: 0.2em;padding-left: 0.2em;position: relative;}#sk-container-id-1 div.sk-item {position: relative;z-index: 1;}#sk-container-id-1 div.sk-parallel {display: flex;align-items: stretch;justify-content: center;background-color: white;position: relative;}#sk-container-id-1 div.sk-item::before, #sk-container-id-1 div.sk-parallel-item::before {content: \"\";position: absolute;border-left: 1px solid gray;box-sizing: border-box;top: 0;bottom: 0;left: 50%;z-index: -1;}#sk-container-id-1 div.sk-parallel-item {display: flex;flex-direction: column;z-index: 1;position: relative;background-color: white;}#sk-container-id-1 div.sk-parallel-item:first-child::after {align-self: flex-end;width: 50%;}#sk-container-id-1 div.sk-parallel-item:last-child::after {align-self: flex-start;width: 50%;}#sk-container-id-1 div.sk-parallel-item:only-child::after {width: 0;}#sk-container-id-1 div.sk-dashed-wrapped {border: 1px dashed gray;margin: 0 0.4em 0.5em 0.4em;box-sizing: border-box;padding-bottom: 0.4em;background-color: white;}#sk-container-id-1 div.sk-label label {font-family: monospace;font-weight: bold;display: inline-block;line-height: 1.2em;}#sk-container-id-1 div.sk-label-container {text-align: center;}#sk-container-id-1 div.sk-container {/* jupyter's `normalize.less` sets `[hidden] { display: none; }` but bootstrap.min.css set `[hidden] { display: none !important; }` so we also need the `!important` here to be able to override the default hidden behavior on the sphinx rendered scikit-learn.org. See: https://github.com/scikit-learn/scikit-learn/issues/21755 */display: inline-block !important;position: relative;}#sk-container-id-1 div.sk-text-repr-fallback {display: none;}</style><div id=\"sk-container-id-1\" class=\"sk-top-container\"><div class=\"sk-text-repr-fallback\"><pre>GradientBoostingClassifier()</pre><b>In a Jupyter environment, please rerun this cell to show the HTML representation or trust the notebook. <br />On GitHub, the HTML representation is unable to render, please try loading this page with nbviewer.org.</b></div><div class=\"sk-container\" hidden><div class=\"sk-item\"><div class=\"sk-estimator sk-toggleable\"><input class=\"sk-toggleable__control sk-hidden--visually\" id=\"sk-estimator-id-1\" type=\"checkbox\" checked><label for=\"sk-estimator-id-1\" class=\"sk-toggleable__label sk-toggleable__label-arrow\">GradientBoostingClassifier</label><div class=\"sk-toggleable__content\"><pre>GradientBoostingClassifier()</pre></div></div></div></div></div>"
            ]
          },
          "metadata": {},
          "execution_count": 68
        }
      ],
      "source": [
        "gbc = GradientBoostingClassifier()\n",
        "gbc.fit(X_train, y_train)"
      ]
    },
    {
      "cell_type": "code",
      "execution_count": null,
      "metadata": {
        "colab": {
          "base_uri": "https://localhost:8080/"
        },
        "id": "CsFIBZYF9p9e",
        "outputId": "3859488e-fb72-4130-a256-9ae41ba61921"
      },
      "outputs": [
        {
          "output_type": "execute_result",
          "data": {
            "text/plain": [
              "0.9427083333333334"
            ]
          },
          "metadata": {},
          "execution_count": 70
        }
      ],
      "source": [
        "accuracy_score(gbc.predict(X_test), y_test)"
      ]
    },
    {
      "cell_type": "markdown",
      "metadata": {
        "id": "3Nwo0PPx_WGm"
      },
      "source": [
        "As we can see we got a huge difference after resampling"
      ]
    },
    {
      "cell_type": "code",
      "execution_count": null,
      "metadata": {
        "id": "IyMjXm40iOkG",
        "colab": {
          "base_uri": "https://localhost:8080/",
          "height": 117
        },
        "outputId": "7bef5855-e22f-4949-e4eb-0d08a7d04da3"
      },
      "outputs": [
        {
          "output_type": "execute_result",
          "data": {
            "text/plain": [
              "AdaBoostClassifier(estimator=GradientBoostingClassifier(), random_state=42)"
            ],
            "text/html": [
              "<style>#sk-container-id-3 {color: black;}#sk-container-id-3 pre{padding: 0;}#sk-container-id-3 div.sk-toggleable {background-color: white;}#sk-container-id-3 label.sk-toggleable__label {cursor: pointer;display: block;width: 100%;margin-bottom: 0;padding: 0.3em;box-sizing: border-box;text-align: center;}#sk-container-id-3 label.sk-toggleable__label-arrow:before {content: \"▸\";float: left;margin-right: 0.25em;color: #696969;}#sk-container-id-3 label.sk-toggleable__label-arrow:hover:before {color: black;}#sk-container-id-3 div.sk-estimator:hover label.sk-toggleable__label-arrow:before {color: black;}#sk-container-id-3 div.sk-toggleable__content {max-height: 0;max-width: 0;overflow: hidden;text-align: left;background-color: #f0f8ff;}#sk-container-id-3 div.sk-toggleable__content pre {margin: 0.2em;color: black;border-radius: 0.25em;background-color: #f0f8ff;}#sk-container-id-3 input.sk-toggleable__control:checked~div.sk-toggleable__content {max-height: 200px;max-width: 100%;overflow: auto;}#sk-container-id-3 input.sk-toggleable__control:checked~label.sk-toggleable__label-arrow:before {content: \"▾\";}#sk-container-id-3 div.sk-estimator input.sk-toggleable__control:checked~label.sk-toggleable__label {background-color: #d4ebff;}#sk-container-id-3 div.sk-label input.sk-toggleable__control:checked~label.sk-toggleable__label {background-color: #d4ebff;}#sk-container-id-3 input.sk-hidden--visually {border: 0;clip: rect(1px 1px 1px 1px);clip: rect(1px, 1px, 1px, 1px);height: 1px;margin: -1px;overflow: hidden;padding: 0;position: absolute;width: 1px;}#sk-container-id-3 div.sk-estimator {font-family: monospace;background-color: #f0f8ff;border: 1px dotted black;border-radius: 0.25em;box-sizing: border-box;margin-bottom: 0.5em;}#sk-container-id-3 div.sk-estimator:hover {background-color: #d4ebff;}#sk-container-id-3 div.sk-parallel-item::after {content: \"\";width: 100%;border-bottom: 1px solid gray;flex-grow: 1;}#sk-container-id-3 div.sk-label:hover label.sk-toggleable__label {background-color: #d4ebff;}#sk-container-id-3 div.sk-serial::before {content: \"\";position: absolute;border-left: 1px solid gray;box-sizing: border-box;top: 0;bottom: 0;left: 50%;z-index: 0;}#sk-container-id-3 div.sk-serial {display: flex;flex-direction: column;align-items: center;background-color: white;padding-right: 0.2em;padding-left: 0.2em;position: relative;}#sk-container-id-3 div.sk-item {position: relative;z-index: 1;}#sk-container-id-3 div.sk-parallel {display: flex;align-items: stretch;justify-content: center;background-color: white;position: relative;}#sk-container-id-3 div.sk-item::before, #sk-container-id-3 div.sk-parallel-item::before {content: \"\";position: absolute;border-left: 1px solid gray;box-sizing: border-box;top: 0;bottom: 0;left: 50%;z-index: -1;}#sk-container-id-3 div.sk-parallel-item {display: flex;flex-direction: column;z-index: 1;position: relative;background-color: white;}#sk-container-id-3 div.sk-parallel-item:first-child::after {align-self: flex-end;width: 50%;}#sk-container-id-3 div.sk-parallel-item:last-child::after {align-self: flex-start;width: 50%;}#sk-container-id-3 div.sk-parallel-item:only-child::after {width: 0;}#sk-container-id-3 div.sk-dashed-wrapped {border: 1px dashed gray;margin: 0 0.4em 0.5em 0.4em;box-sizing: border-box;padding-bottom: 0.4em;background-color: white;}#sk-container-id-3 div.sk-label label {font-family: monospace;font-weight: bold;display: inline-block;line-height: 1.2em;}#sk-container-id-3 div.sk-label-container {text-align: center;}#sk-container-id-3 div.sk-container {/* jupyter's `normalize.less` sets `[hidden] { display: none; }` but bootstrap.min.css set `[hidden] { display: none !important; }` so we also need the `!important` here to be able to override the default hidden behavior on the sphinx rendered scikit-learn.org. See: https://github.com/scikit-learn/scikit-learn/issues/21755 */display: inline-block !important;position: relative;}#sk-container-id-3 div.sk-text-repr-fallback {display: none;}</style><div id=\"sk-container-id-3\" class=\"sk-top-container\"><div class=\"sk-text-repr-fallback\"><pre>AdaBoostClassifier(estimator=GradientBoostingClassifier(), random_state=42)</pre><b>In a Jupyter environment, please rerun this cell to show the HTML representation or trust the notebook. <br />On GitHub, the HTML representation is unable to render, please try loading this page with nbviewer.org.</b></div><div class=\"sk-container\" hidden><div class=\"sk-item sk-dashed-wrapped\"><div class=\"sk-label-container\"><div class=\"sk-label sk-toggleable\"><input class=\"sk-toggleable__control sk-hidden--visually\" id=\"sk-estimator-id-3\" type=\"checkbox\" ><label for=\"sk-estimator-id-3\" class=\"sk-toggleable__label sk-toggleable__label-arrow\">AdaBoostClassifier</label><div class=\"sk-toggleable__content\"><pre>AdaBoostClassifier(estimator=GradientBoostingClassifier(), random_state=42)</pre></div></div></div><div class=\"sk-parallel\"><div class=\"sk-parallel-item\"><div class=\"sk-item\"><div class=\"sk-label-container\"><div class=\"sk-label sk-toggleable\"><input class=\"sk-toggleable__control sk-hidden--visually\" id=\"sk-estimator-id-4\" type=\"checkbox\" ><label for=\"sk-estimator-id-4\" class=\"sk-toggleable__label sk-toggleable__label-arrow\">estimator: GradientBoostingClassifier</label><div class=\"sk-toggleable__content\"><pre>GradientBoostingClassifier()</pre></div></div></div><div class=\"sk-serial\"><div class=\"sk-item\"><div class=\"sk-estimator sk-toggleable\"><input class=\"sk-toggleable__control sk-hidden--visually\" id=\"sk-estimator-id-5\" type=\"checkbox\" ><label for=\"sk-estimator-id-5\" class=\"sk-toggleable__label sk-toggleable__label-arrow\">GradientBoostingClassifier</label><div class=\"sk-toggleable__content\"><pre>GradientBoostingClassifier()</pre></div></div></div></div></div></div></div></div></div></div>"
            ]
          },
          "metadata": {},
          "execution_count": 73
        }
      ],
      "source": [
        "from sklearn.ensemble import AdaBoostClassifier\n",
        "ada = AdaBoostClassifier(estimator=GradientBoostingClassifier(), random_state=42)\n",
        "ada.fit(X_train, y_train)"
      ]
    },
    {
      "cell_type": "code",
      "source": [
        "accuracy_score(ada.predict(X_test), y_test)"
      ],
      "metadata": {
        "colab": {
          "base_uri": "https://localhost:8080/"
        },
        "id": "3yjzZzoo8BEr",
        "outputId": "9d6c5b16-d905-4e33-e07d-a8a1e4115b16"
      },
      "execution_count": null,
      "outputs": [
        {
          "output_type": "execute_result",
          "data": {
            "text/plain": [
              "0.953125"
            ]
          },
          "metadata": {},
          "execution_count": 74
        }
      ]
    },
    {
      "cell_type": "code",
      "execution_count": null,
      "metadata": {
        "id": "r5w5_XPw9ri6"
      },
      "outputs": [],
      "source": [
        "train, test = train_test_split(df, test_size=0.2, random_state=42)"
      ]
    },
    {
      "cell_type": "code",
      "execution_count": null,
      "metadata": {
        "id": "LsD6Sarjh-WV"
      },
      "outputs": [],
      "source": [
        "train_ds = ECGDataset(train)\n",
        "test_ds = ECGDataset(test)"
      ]
    },
    {
      "cell_type": "markdown",
      "metadata": {
        "id": "HHsLCCApiH7d"
      },
      "source": [
        "### RNN"
      ]
    },
    {
      "cell_type": "code",
      "execution_count": null,
      "metadata": {
        "colab": {
          "base_uri": "https://localhost:8080/",
          "height": 209
        },
        "id": "7_LJS5XPlqKc",
        "outputId": "ab7b1f21-54e3-47ed-e227-97b3ec129916"
      },
      "outputs": [
        {
          "data": {
            "text/html": [
              "<div>\n",
              "<style scoped>\n",
              "    .dataframe tbody tr th:only-of-type {\n",
              "        vertical-align: middle;\n",
              "    }\n",
              "\n",
              "    .dataframe tbody tr th {\n",
              "        vertical-align: top;\n",
              "    }\n",
              "\n",
              "    .dataframe thead th {\n",
              "        text-align: right;\n",
              "    }\n",
              "</style>\n",
              "<table border=\"1\" class=\"dataframe\">\n",
              "  <thead>\n",
              "    <tr style=\"text-align: right;\">\n",
              "      <th></th>\n",
              "      <th>count</th>\n",
              "    </tr>\n",
              "    <tr>\n",
              "      <th>label</th>\n",
              "      <th></th>\n",
              "    </tr>\n",
              "  </thead>\n",
              "  <tbody>\n",
              "    <tr>\n",
              "      <th>2</th>\n",
              "      <td>320</td>\n",
              "    </tr>\n",
              "    <tr>\n",
              "      <th>1</th>\n",
              "      <td>320</td>\n",
              "    </tr>\n",
              "    <tr>\n",
              "      <th>0</th>\n",
              "      <td>320</td>\n",
              "    </tr>\n",
              "  </tbody>\n",
              "</table>\n",
              "</div><br><label><b>dtype:</b> int64</label>"
            ],
            "text/plain": [
              "label\n",
              "2    320\n",
              "1    320\n",
              "0    320\n",
              "Name: count, dtype: int64"
            ]
          },
          "execution_count": 75,
          "metadata": {},
          "output_type": "execute_result"
        }
      ],
      "source": [
        "df['label'].value_counts()"
      ]
    },
    {
      "cell_type": "code",
      "execution_count": null,
      "metadata": {
        "colab": {
          "base_uri": "https://localhost:8080/",
          "height": 458
        },
        "id": "tFv4Ev1Ils7s",
        "outputId": "fdcadd7f-5801-4f0f-f712-a7a14903b664"
      },
      "outputs": [
        {
          "data": {
            "text/html": [
              "<div>\n",
              "<style scoped>\n",
              "    .dataframe tbody tr th:only-of-type {\n",
              "        vertical-align: middle;\n",
              "    }\n",
              "\n",
              "    .dataframe tbody tr th {\n",
              "        vertical-align: top;\n",
              "    }\n",
              "\n",
              "    .dataframe thead th {\n",
              "        text-align: right;\n",
              "    }\n",
              "</style>\n",
              "<table border=\"1\" class=\"dataframe\">\n",
              "  <thead>\n",
              "    <tr style=\"text-align: right;\">\n",
              "      <th></th>\n",
              "      <th>signal</th>\n",
              "    </tr>\n",
              "  </thead>\n",
              "  <tbody>\n",
              "    <tr>\n",
              "      <th>0</th>\n",
              "      <td>[-0.010382509, -0.0117383525, -0.012032576, -0...</td>\n",
              "    </tr>\n",
              "    <tr>\n",
              "      <th>1</th>\n",
              "      <td>[-0.026653834, -0.03114801, -0.03312645, -0.03...</td>\n",
              "    </tr>\n",
              "    <tr>\n",
              "      <th>2</th>\n",
              "      <td>[-0.0046437196, -0.0062882756, -0.007881145, -...</td>\n",
              "    </tr>\n",
              "    <tr>\n",
              "      <th>3</th>\n",
              "      <td>[0.023404034, 0.02760721, 0.029769983, 0.03010...</td>\n",
              "    </tr>\n",
              "    <tr>\n",
              "      <th>4</th>\n",
              "      <td>[0.0055779545, 0.006506115, 0.00690701, 0.0068...</td>\n",
              "    </tr>\n",
              "    <tr>\n",
              "      <th>...</th>\n",
              "      <td>...</td>\n",
              "    </tr>\n",
              "    <tr>\n",
              "      <th>955</th>\n",
              "      <td>[-0.0040120604, -0.004868087, -0.0054581505, -...</td>\n",
              "    </tr>\n",
              "    <tr>\n",
              "      <th>956</th>\n",
              "      <td>[-0.048050907, -0.05561978, -0.058524743, -0.0...</td>\n",
              "    </tr>\n",
              "    <tr>\n",
              "      <th>957</th>\n",
              "      <td>[0.00013719709, 0.00062448403, 0.0012244792, 0...</td>\n",
              "    </tr>\n",
              "    <tr>\n",
              "      <th>958</th>\n",
              "      <td>[-0.01050725, -0.012288787, -0.013128199, -0.0...</td>\n",
              "    </tr>\n",
              "    <tr>\n",
              "      <th>959</th>\n",
              "      <td>[0.009220063, 0.010875644, 0.011661099, 0.0116...</td>\n",
              "    </tr>\n",
              "  </tbody>\n",
              "</table>\n",
              "<p>960 rows × 1 columns</p>\n",
              "</div><br><label><b>dtype:</b> object</label>"
            ],
            "text/plain": [
              "0      [-0.010382509, -0.0117383525, -0.012032576, -0...\n",
              "1      [-0.026653834, -0.03114801, -0.03312645, -0.03...\n",
              "2      [-0.0046437196, -0.0062882756, -0.007881145, -...\n",
              "3      [0.023404034, 0.02760721, 0.029769983, 0.03010...\n",
              "4      [0.0055779545, 0.006506115, 0.00690701, 0.0068...\n",
              "                             ...                        \n",
              "955    [-0.0040120604, -0.004868087, -0.0054581505, -...\n",
              "956    [-0.048050907, -0.05561978, -0.058524743, -0.0...\n",
              "957    [0.00013719709, 0.00062448403, 0.0012244792, 0...\n",
              "958    [-0.01050725, -0.012288787, -0.013128199, -0.0...\n",
              "959    [0.009220063, 0.010875644, 0.011661099, 0.0116...\n",
              "Name: signal, Length: 960, dtype: object"
            ]
          },
          "execution_count": 76,
          "metadata": {},
          "output_type": "execute_result"
        }
      ],
      "source": [
        "df['signal']"
      ]
    },
    {
      "cell_type": "code",
      "execution_count": null,
      "metadata": {
        "id": "kQl0-c8KiGqV"
      },
      "outputs": [],
      "source": [
        "device = 'cuda' if torch.cuda.is_available() else 'cpu'\n",
        "\n",
        "class RNN(torch.nn.Module):\n",
        "  def __init__(self, input_size, hidden_size, num_layers, num_classes):\n",
        "    super(RNN, self).__init__()\n",
        "    self.hidden_size = hidden_size\n",
        "    self.num_layers = num_layers\n",
        "    self.rnn = torch.nn.RNN(input_size, hidden_size, num_layers, batch_first=True)\n",
        "    self.fc = torch.nn.Linear(hidden_size, num_classes)\n",
        "\n",
        "  def forward(self, x):\n",
        "        # Correctly initialize the hidden state\n",
        "    h0 = torch.zeros(self.num_layers, x.size(0), self.hidden_size).to(x.device)  # (num_layers, batch_size, hidden_size)\n",
        "\n",
        "    out, _ = self.rnn(x, h0)  # out: tensor of shape (batch_size, seq_length, hidden_size)\n",
        "    out = self.fc(out[:, -1, :])  # Use the last time step's output for classification\n",
        "    out = self.relu(out)\n",
        "    return out"
      ]
    },
    {
      "cell_type": "code",
      "execution_count": null,
      "metadata": {
        "id": "mJmcGnXhrAN0"
      },
      "outputs": [],
      "source": [
        "class LTSM(torch.nn.Module):\n",
        "  def __init__(self, input_size, hidden_size, num_layers, num_classes, dropout=0.3):\n",
        "    super(LTSM, self).__init__()\n",
        "    self.rnn = nn.LSTM(input_size, hidden_size, num_layers,\n",
        "                           batch_first=True, bidirectional=True, dropout=dropout)\n",
        "    self.fc = nn.Linear(hidden_size * 2, num_classes)  # *2 for bidirectional\n",
        "    self.dropout = nn.Dropout(dropout)\n",
        "\n",
        "  def forward(self, x):\n",
        "    rnn_out, _ = self.rnn(x)\n",
        "    out = self.fc(self.dropout(rnn_out[:, -1, :]))  # Use the last time step\n",
        "    return out"
      ]
    },
    {
      "cell_type": "code",
      "execution_count": null,
      "metadata": {
        "colab": {
          "base_uri": "https://localhost:8080/"
        },
        "id": "bQJO45E1os-w",
        "outputId": "5c835dbf-bbfd-4a1b-ff59-3586b148e8f3"
      },
      "outputs": [
        {
          "name": "stdout",
          "output_type": "stream",
          "text": [
            "torch.Size([25000])\n"
          ]
        }
      ],
      "source": [
        "for i in train_loader:\n",
        "  print(i[0][0].shape)\n",
        "  break"
      ]
    },
    {
      "cell_type": "code",
      "source": [],
      "metadata": {
        "id": "uwhlxnRtzAk1"
      },
      "execution_count": null,
      "outputs": []
    },
    {
      "cell_type": "code",
      "execution_count": null,
      "metadata": {
        "colab": {
          "base_uri": "https://localhost:8080/",
          "height": 1000
        },
        "id": "iswjSdDFioAW",
        "outputId": "b15d2d17-c408-49d8-8fd5-d25e71bbae08"
      },
      "outputs": [
        {
          "name": "stderr",
          "output_type": "stream",
          "text": [
            "Epoch 1/100: 100%|██████████| 24/24 [00:00<00:00, 35.64it/s, loss=1.69]\n"
          ]
        },
        {
          "name": "stdout",
          "output_type": "stream",
          "text": [
            "Epoch [1/100], Loss: 2.1842\n"
          ]
        },
        {
          "name": "stderr",
          "output_type": "stream",
          "text": [
            "Epoch 2/100: 100%|██████████| 24/24 [00:00<00:00, 36.12it/s, loss=1.4]\n"
          ]
        },
        {
          "name": "stdout",
          "output_type": "stream",
          "text": [
            "Epoch [2/100], Loss: 1.2324\n"
          ]
        },
        {
          "name": "stderr",
          "output_type": "stream",
          "text": [
            "Epoch 3/100: 100%|██████████| 24/24 [00:00<00:00, 36.17it/s, loss=2.31]\n"
          ]
        },
        {
          "name": "stdout",
          "output_type": "stream",
          "text": [
            "Epoch [3/100], Loss: 1.1089\n"
          ]
        },
        {
          "name": "stderr",
          "output_type": "stream",
          "text": [
            "Epoch 4/100: 100%|██████████| 24/24 [00:00<00:00, 36.89it/s, loss=2.11]\n"
          ]
        },
        {
          "name": "stdout",
          "output_type": "stream",
          "text": [
            "Epoch [4/100], Loss: 1.1543\n"
          ]
        },
        {
          "name": "stderr",
          "output_type": "stream",
          "text": [
            "Epoch 5/100: 100%|██████████| 24/24 [00:00<00:00, 36.07it/s, loss=1.32]\n"
          ]
        },
        {
          "name": "stdout",
          "output_type": "stream",
          "text": [
            "Epoch [5/100], Loss: 1.1174\n"
          ]
        },
        {
          "name": "stderr",
          "output_type": "stream",
          "text": [
            "Epoch 6/100: 100%|██████████| 24/24 [00:00<00:00, 35.98it/s, loss=1.39]\n"
          ]
        },
        {
          "name": "stdout",
          "output_type": "stream",
          "text": [
            "Epoch [6/100], Loss: 1.1925\n"
          ]
        },
        {
          "name": "stderr",
          "output_type": "stream",
          "text": [
            "Epoch 7/100: 100%|██████████| 24/24 [00:00<00:00, 36.52it/s, loss=1.48]\n"
          ]
        },
        {
          "name": "stdout",
          "output_type": "stream",
          "text": [
            "Epoch [7/100], Loss: 1.0670\n"
          ]
        },
        {
          "name": "stderr",
          "output_type": "stream",
          "text": [
            "Epoch 8/100: 100%|██████████| 24/24 [00:00<00:00, 35.84it/s, loss=1.91]\n"
          ]
        },
        {
          "name": "stdout",
          "output_type": "stream",
          "text": [
            "Epoch [8/100], Loss: 1.0387\n"
          ]
        },
        {
          "name": "stderr",
          "output_type": "stream",
          "text": [
            "Epoch 9/100: 100%|██████████| 24/24 [00:00<00:00, 35.92it/s, loss=2.85]\n"
          ]
        },
        {
          "name": "stdout",
          "output_type": "stream",
          "text": [
            "Epoch [9/100], Loss: 1.2067\n"
          ]
        },
        {
          "name": "stderr",
          "output_type": "stream",
          "text": [
            "Epoch 10/100: 100%|██████████| 24/24 [00:00<00:00, 34.78it/s, loss=2.23]\n"
          ]
        },
        {
          "name": "stdout",
          "output_type": "stream",
          "text": [
            "Epoch [10/100], Loss: 1.2240\n"
          ]
        },
        {
          "name": "stderr",
          "output_type": "stream",
          "text": [
            "Epoch 11/100: 100%|██████████| 24/24 [00:00<00:00, 35.71it/s, loss=1.8]\n"
          ]
        },
        {
          "name": "stdout",
          "output_type": "stream",
          "text": [
            "Epoch [11/100], Loss: 1.2685\n"
          ]
        },
        {
          "name": "stderr",
          "output_type": "stream",
          "text": [
            "Epoch 12/100: 100%|██████████| 24/24 [00:00<00:00, 33.03it/s, loss=2.57]\n"
          ]
        },
        {
          "name": "stdout",
          "output_type": "stream",
          "text": [
            "Epoch [12/100], Loss: 1.1757\n"
          ]
        },
        {
          "name": "stderr",
          "output_type": "stream",
          "text": [
            "Epoch 13/100: 100%|██████████| 24/24 [00:00<00:00, 34.54it/s, loss=1.18]\n"
          ]
        },
        {
          "name": "stdout",
          "output_type": "stream",
          "text": [
            "Epoch [13/100], Loss: 0.9916\n"
          ]
        },
        {
          "name": "stderr",
          "output_type": "stream",
          "text": [
            "Epoch 14/100: 100%|██████████| 24/24 [00:00<00:00, 33.93it/s, loss=1.59]\n"
          ]
        },
        {
          "name": "stdout",
          "output_type": "stream",
          "text": [
            "Epoch [14/100], Loss: 1.0887\n"
          ]
        },
        {
          "name": "stderr",
          "output_type": "stream",
          "text": [
            "Epoch 15/100: 100%|██████████| 24/24 [00:00<00:00, 34.89it/s, loss=2.41]\n"
          ]
        },
        {
          "name": "stdout",
          "output_type": "stream",
          "text": [
            "Epoch [15/100], Loss: 1.4001\n"
          ]
        },
        {
          "name": "stderr",
          "output_type": "stream",
          "text": [
            "Epoch 16/100: 100%|██████████| 24/24 [00:00<00:00, 36.01it/s, loss=1.76]\n"
          ]
        },
        {
          "name": "stdout",
          "output_type": "stream",
          "text": [
            "Epoch [16/100], Loss: 1.2706\n"
          ]
        },
        {
          "name": "stderr",
          "output_type": "stream",
          "text": [
            "Epoch 17/100: 100%|██████████| 24/24 [00:00<00:00, 36.65it/s, loss=1.82]\n"
          ]
        },
        {
          "name": "stdout",
          "output_type": "stream",
          "text": [
            "Epoch [17/100], Loss: 1.1491\n"
          ]
        },
        {
          "name": "stderr",
          "output_type": "stream",
          "text": [
            "Epoch 18/100: 100%|██████████| 24/24 [00:00<00:00, 36.19it/s, loss=2.07]\n"
          ]
        },
        {
          "name": "stdout",
          "output_type": "stream",
          "text": [
            "Epoch [18/100], Loss: 1.3693\n"
          ]
        },
        {
          "name": "stderr",
          "output_type": "stream",
          "text": [
            "Epoch 19/100: 100%|██████████| 24/24 [00:00<00:00, 35.61it/s, loss=1]\n"
          ]
        },
        {
          "name": "stdout",
          "output_type": "stream",
          "text": [
            "Epoch [19/100], Loss: 0.9852\n"
          ]
        },
        {
          "name": "stderr",
          "output_type": "stream",
          "text": [
            "Epoch 20/100: 100%|██████████| 24/24 [00:00<00:00, 35.81it/s, loss=1.38]\n"
          ]
        },
        {
          "name": "stdout",
          "output_type": "stream",
          "text": [
            "Epoch [20/100], Loss: 1.3374\n"
          ]
        },
        {
          "name": "stderr",
          "output_type": "stream",
          "text": [
            "Epoch 21/100: 100%|██████████| 24/24 [00:00<00:00, 36.06it/s, loss=1.7]\n"
          ]
        },
        {
          "name": "stdout",
          "output_type": "stream",
          "text": [
            "Epoch [21/100], Loss: 1.2194\n"
          ]
        },
        {
          "name": "stderr",
          "output_type": "stream",
          "text": [
            "Epoch 22/100: 100%|██████████| 24/24 [00:00<00:00, 35.86it/s, loss=2]\n"
          ]
        },
        {
          "name": "stdout",
          "output_type": "stream",
          "text": [
            "Epoch [22/100], Loss: 1.4451\n"
          ]
        },
        {
          "name": "stderr",
          "output_type": "stream",
          "text": [
            "Epoch 23/100: 100%|██████████| 24/24 [00:00<00:00, 37.17it/s, loss=1.17]\n"
          ]
        },
        {
          "name": "stdout",
          "output_type": "stream",
          "text": [
            "Epoch [23/100], Loss: 1.1736\n"
          ]
        },
        {
          "name": "stderr",
          "output_type": "stream",
          "text": [
            "Epoch 24/100: 100%|██████████| 24/24 [00:00<00:00, 36.03it/s, loss=1.74]\n"
          ]
        },
        {
          "name": "stdout",
          "output_type": "stream",
          "text": [
            "Epoch [24/100], Loss: 1.4144\n"
          ]
        },
        {
          "name": "stderr",
          "output_type": "stream",
          "text": [
            "Epoch 25/100: 100%|██████████| 24/24 [00:00<00:00, 36.38it/s, loss=1.35]\n"
          ]
        },
        {
          "name": "stdout",
          "output_type": "stream",
          "text": [
            "Epoch [25/100], Loss: 1.3417\n"
          ]
        },
        {
          "name": "stderr",
          "output_type": "stream",
          "text": [
            "Epoch 26/100: 100%|██████████| 24/24 [00:00<00:00, 36.62it/s, loss=0.412]\n"
          ]
        },
        {
          "name": "stdout",
          "output_type": "stream",
          "text": [
            "Epoch [26/100], Loss: 1.2631\n"
          ]
        },
        {
          "name": "stderr",
          "output_type": "stream",
          "text": [
            "Epoch 27/100: 100%|██████████| 24/24 [00:00<00:00, 36.39it/s, loss=0.175]\n"
          ]
        },
        {
          "name": "stdout",
          "output_type": "stream",
          "text": [
            "Epoch [27/100], Loss: 0.9346\n"
          ]
        },
        {
          "name": "stderr",
          "output_type": "stream",
          "text": [
            "Epoch 28/100: 100%|██████████| 24/24 [00:00<00:00, 35.99it/s, loss=1.3]\n"
          ]
        },
        {
          "name": "stdout",
          "output_type": "stream",
          "text": [
            "Epoch [28/100], Loss: 0.9398\n"
          ]
        },
        {
          "name": "stderr",
          "output_type": "stream",
          "text": [
            "Epoch 29/100: 100%|██████████| 24/24 [00:00<00:00, 36.73it/s, loss=0.988]\n"
          ]
        },
        {
          "name": "stdout",
          "output_type": "stream",
          "text": [
            "Epoch [29/100], Loss: 0.9084\n"
          ]
        },
        {
          "name": "stderr",
          "output_type": "stream",
          "text": [
            "Epoch 30/100: 100%|██████████| 24/24 [00:00<00:00, 34.57it/s, loss=0.455]\n"
          ]
        },
        {
          "name": "stdout",
          "output_type": "stream",
          "text": [
            "Epoch [30/100], Loss: 0.8993\n"
          ]
        },
        {
          "name": "stderr",
          "output_type": "stream",
          "text": [
            "Epoch 31/100: 100%|██████████| 24/24 [00:00<00:00, 35.74it/s, loss=0.917]\n"
          ]
        },
        {
          "name": "stdout",
          "output_type": "stream",
          "text": [
            "Epoch [31/100], Loss: 0.6482\n"
          ]
        },
        {
          "name": "stderr",
          "output_type": "stream",
          "text": [
            "Epoch 32/100: 100%|██████████| 24/24 [00:00<00:00, 35.94it/s, loss=0.602]\n"
          ]
        },
        {
          "name": "stdout",
          "output_type": "stream",
          "text": [
            "Epoch [32/100], Loss: 0.7847\n"
          ]
        },
        {
          "name": "stderr",
          "output_type": "stream",
          "text": [
            "Epoch 33/100: 100%|██████████| 24/24 [00:00<00:00, 34.68it/s, loss=0.000431]\n"
          ]
        },
        {
          "name": "stdout",
          "output_type": "stream",
          "text": [
            "Epoch [33/100], Loss: 0.5957\n"
          ]
        },
        {
          "name": "stderr",
          "output_type": "stream",
          "text": [
            "Epoch 34/100: 100%|██████████| 24/24 [00:00<00:00, 34.28it/s, loss=0.196]\n"
          ]
        },
        {
          "name": "stdout",
          "output_type": "stream",
          "text": [
            "Epoch [34/100], Loss: 0.3973\n"
          ]
        },
        {
          "name": "stderr",
          "output_type": "stream",
          "text": [
            "Epoch 35/100: 100%|██████████| 24/24 [00:00<00:00, 32.17it/s, loss=0.459]\n"
          ]
        },
        {
          "name": "stdout",
          "output_type": "stream",
          "text": [
            "Epoch [35/100], Loss: 0.4218\n"
          ]
        },
        {
          "name": "stderr",
          "output_type": "stream",
          "text": [
            "Epoch 36/100: 100%|██████████| 24/24 [00:00<00:00, 34.80it/s, loss=0.0425]\n"
          ]
        },
        {
          "name": "stdout",
          "output_type": "stream",
          "text": [
            "Epoch [36/100], Loss: 0.4739\n"
          ]
        },
        {
          "name": "stderr",
          "output_type": "stream",
          "text": [
            "Epoch 37/100: 100%|██████████| 24/24 [00:00<00:00, 32.94it/s, loss=0.226]\n"
          ]
        },
        {
          "name": "stdout",
          "output_type": "stream",
          "text": [
            "Epoch [37/100], Loss: 0.3892\n"
          ]
        },
        {
          "name": "stderr",
          "output_type": "stream",
          "text": [
            "Epoch 38/100: 100%|██████████| 24/24 [00:00<00:00, 35.44it/s, loss=0.536]\n"
          ]
        },
        {
          "name": "stdout",
          "output_type": "stream",
          "text": [
            "Epoch [38/100], Loss: 0.4366\n"
          ]
        },
        {
          "name": "stderr",
          "output_type": "stream",
          "text": [
            "Epoch 39/100: 100%|██████████| 24/24 [00:00<00:00, 35.31it/s, loss=0.372]\n"
          ]
        },
        {
          "name": "stdout",
          "output_type": "stream",
          "text": [
            "Epoch [39/100], Loss: 0.4764\n"
          ]
        },
        {
          "name": "stderr",
          "output_type": "stream",
          "text": [
            "Epoch 40/100: 100%|██████████| 24/24 [00:00<00:00, 35.42it/s, loss=0.524]\n"
          ]
        },
        {
          "name": "stdout",
          "output_type": "stream",
          "text": [
            "Epoch [40/100], Loss: 0.2889\n"
          ]
        },
        {
          "name": "stderr",
          "output_type": "stream",
          "text": [
            "Epoch 41/100: 100%|██████████| 24/24 [00:00<00:00, 35.81it/s, loss=0.00625]\n"
          ]
        },
        {
          "name": "stdout",
          "output_type": "stream",
          "text": [
            "Epoch [41/100], Loss: 0.3612\n"
          ]
        },
        {
          "name": "stderr",
          "output_type": "stream",
          "text": [
            "Epoch 42/100: 100%|██████████| 24/24 [00:00<00:00, 36.12it/s, loss=0.511]\n"
          ]
        },
        {
          "name": "stdout",
          "output_type": "stream",
          "text": [
            "Epoch [42/100], Loss: 0.3038\n"
          ]
        },
        {
          "name": "stderr",
          "output_type": "stream",
          "text": [
            "Epoch 43/100: 100%|██████████| 24/24 [00:00<00:00, 35.78it/s, loss=0.367]\n"
          ]
        },
        {
          "name": "stdout",
          "output_type": "stream",
          "text": [
            "Epoch [43/100], Loss: 0.3752\n"
          ]
        },
        {
          "name": "stderr",
          "output_type": "stream",
          "text": [
            "Epoch 44/100: 100%|██████████| 24/24 [00:00<00:00, 36.00it/s, loss=0.193]\n"
          ]
        },
        {
          "name": "stdout",
          "output_type": "stream",
          "text": [
            "Epoch [44/100], Loss: 0.2932\n"
          ]
        },
        {
          "name": "stderr",
          "output_type": "stream",
          "text": [
            "Epoch 45/100: 100%|██████████| 24/24 [00:00<00:00, 35.84it/s, loss=0.00246]\n"
          ]
        },
        {
          "name": "stdout",
          "output_type": "stream",
          "text": [
            "Epoch [45/100], Loss: 0.2463\n"
          ]
        },
        {
          "name": "stderr",
          "output_type": "stream",
          "text": [
            "Epoch 46/100: 100%|██████████| 24/24 [00:00<00:00, 35.87it/s, loss=0.000202]\n"
          ]
        },
        {
          "name": "stdout",
          "output_type": "stream",
          "text": [
            "Epoch [46/100], Loss: 0.2734\n"
          ]
        },
        {
          "name": "stderr",
          "output_type": "stream",
          "text": [
            "Epoch 47/100: 100%|██████████| 24/24 [00:00<00:00, 35.74it/s, loss=0.165]\n"
          ]
        },
        {
          "name": "stdout",
          "output_type": "stream",
          "text": [
            "Epoch [47/100], Loss: 0.2306\n"
          ]
        },
        {
          "name": "stderr",
          "output_type": "stream",
          "text": [
            "Epoch 48/100: 100%|██████████| 24/24 [00:00<00:00, 36.22it/s, loss=0.324]\n"
          ]
        },
        {
          "name": "stdout",
          "output_type": "stream",
          "text": [
            "Epoch [48/100], Loss: 0.2455\n"
          ]
        },
        {
          "name": "stderr",
          "output_type": "stream",
          "text": [
            "Epoch 49/100: 100%|██████████| 24/24 [00:00<00:00, 35.39it/s, loss=0.199]\n"
          ]
        },
        {
          "name": "stdout",
          "output_type": "stream",
          "text": [
            "Epoch [49/100], Loss: 0.1454\n"
          ]
        },
        {
          "name": "stderr",
          "output_type": "stream",
          "text": [
            "Epoch 50/100: 100%|██████████| 24/24 [00:00<00:00, 34.48it/s, loss=0.585]\n"
          ]
        },
        {
          "name": "stdout",
          "output_type": "stream",
          "text": [
            "Epoch [50/100], Loss: 0.2324\n"
          ]
        },
        {
          "name": "stderr",
          "output_type": "stream",
          "text": [
            "Epoch 51/100: 100%|██████████| 24/24 [00:00<00:00, 34.28it/s, loss=0.314]\n"
          ]
        },
        {
          "name": "stdout",
          "output_type": "stream",
          "text": [
            "Epoch [51/100], Loss: 0.2130\n"
          ]
        },
        {
          "name": "stderr",
          "output_type": "stream",
          "text": [
            "Epoch 52/100: 100%|██████████| 24/24 [00:00<00:00, 34.56it/s, loss=0.00254]\n"
          ]
        },
        {
          "name": "stdout",
          "output_type": "stream",
          "text": [
            "Epoch [52/100], Loss: 0.1915\n"
          ]
        },
        {
          "name": "stderr",
          "output_type": "stream",
          "text": [
            "Epoch 53/100: 100%|██████████| 24/24 [00:00<00:00, 34.13it/s, loss=0.577]\n"
          ]
        },
        {
          "name": "stdout",
          "output_type": "stream",
          "text": [
            "Epoch [53/100], Loss: 0.2076\n"
          ]
        },
        {
          "name": "stderr",
          "output_type": "stream",
          "text": [
            "Epoch 54/100: 100%|██████████| 24/24 [00:00<00:00, 35.01it/s, loss=0.00055]\n"
          ]
        },
        {
          "name": "stdout",
          "output_type": "stream",
          "text": [
            "Epoch [54/100], Loss: 0.2111\n"
          ]
        },
        {
          "name": "stderr",
          "output_type": "stream",
          "text": [
            "Epoch 55/100: 100%|██████████| 24/24 [00:00<00:00, 35.20it/s, loss=0.037]\n"
          ]
        },
        {
          "name": "stdout",
          "output_type": "stream",
          "text": [
            "Epoch [55/100], Loss: 0.1765\n"
          ]
        },
        {
          "name": "stderr",
          "output_type": "stream",
          "text": [
            "Epoch 56/100: 100%|██████████| 24/24 [00:00<00:00, 34.48it/s, loss=0.182]\n"
          ]
        },
        {
          "name": "stdout",
          "output_type": "stream",
          "text": [
            "Epoch [56/100], Loss: 0.1156\n"
          ]
        },
        {
          "name": "stderr",
          "output_type": "stream",
          "text": [
            "Epoch 57/100: 100%|██████████| 24/24 [00:00<00:00, 35.80it/s, loss=9.36e-5]\n"
          ]
        },
        {
          "name": "stdout",
          "output_type": "stream",
          "text": [
            "Epoch [57/100], Loss: 0.1510\n"
          ]
        },
        {
          "name": "stderr",
          "output_type": "stream",
          "text": [
            "Epoch 58/100: 100%|██████████| 24/24 [00:00<00:00, 36.61it/s, loss=0.211]\n"
          ]
        },
        {
          "name": "stdout",
          "output_type": "stream",
          "text": [
            "Epoch [58/100], Loss: 0.2393\n"
          ]
        },
        {
          "name": "stderr",
          "output_type": "stream",
          "text": [
            "Epoch 59/100: 100%|██████████| 24/24 [00:00<00:00, 35.81it/s, loss=0.652]\n"
          ]
        },
        {
          "name": "stdout",
          "output_type": "stream",
          "text": [
            "Epoch [59/100], Loss: 0.1895\n"
          ]
        },
        {
          "name": "stderr",
          "output_type": "stream",
          "text": [
            "Epoch 60/100: 100%|██████████| 24/24 [00:00<00:00, 35.95it/s, loss=0.465]\n"
          ]
        },
        {
          "name": "stdout",
          "output_type": "stream",
          "text": [
            "Epoch [60/100], Loss: 0.2748\n"
          ]
        },
        {
          "name": "stderr",
          "output_type": "stream",
          "text": [
            "Epoch 61/100: 100%|██████████| 24/24 [00:00<00:00, 36.10it/s, loss=0.0588]\n"
          ]
        },
        {
          "name": "stdout",
          "output_type": "stream",
          "text": [
            "Epoch [61/100], Loss: 0.1065\n"
          ]
        },
        {
          "name": "stderr",
          "output_type": "stream",
          "text": [
            "Epoch 62/100: 100%|██████████| 24/24 [00:00<00:00, 35.79it/s, loss=0.196]\n"
          ]
        },
        {
          "name": "stdout",
          "output_type": "stream",
          "text": [
            "Epoch [62/100], Loss: 0.1967\n"
          ]
        },
        {
          "name": "stderr",
          "output_type": "stream",
          "text": [
            "Epoch 63/100: 100%|██████████| 24/24 [00:00<00:00, 35.83it/s, loss=0.179]\n"
          ]
        },
        {
          "name": "stdout",
          "output_type": "stream",
          "text": [
            "Epoch [63/100], Loss: 0.1737\n"
          ]
        },
        {
          "name": "stderr",
          "output_type": "stream",
          "text": [
            "Epoch 64/100: 100%|██████████| 24/24 [00:00<00:00, 35.95it/s, loss=0.35]\n"
          ]
        },
        {
          "name": "stdout",
          "output_type": "stream",
          "text": [
            "Epoch [64/100], Loss: 0.1865\n"
          ]
        },
        {
          "name": "stderr",
          "output_type": "stream",
          "text": [
            "Epoch 65/100: 100%|██████████| 24/24 [00:00<00:00, 35.63it/s, loss=0.00197]\n"
          ]
        },
        {
          "name": "stdout",
          "output_type": "stream",
          "text": [
            "Epoch [65/100], Loss: 0.0887\n"
          ]
        },
        {
          "name": "stderr",
          "output_type": "stream",
          "text": [
            "Epoch 66/100: 100%|██████████| 24/24 [00:00<00:00, 35.99it/s, loss=0.175]\n"
          ]
        },
        {
          "name": "stdout",
          "output_type": "stream",
          "text": [
            "Epoch [66/100], Loss: 0.2039\n"
          ]
        },
        {
          "name": "stderr",
          "output_type": "stream",
          "text": [
            "Epoch 67/100: 100%|██████████| 24/24 [00:00<00:00, 36.22it/s, loss=0.00552]\n"
          ]
        },
        {
          "name": "stdout",
          "output_type": "stream",
          "text": [
            "Epoch [67/100], Loss: 0.1322\n"
          ]
        },
        {
          "name": "stderr",
          "output_type": "stream",
          "text": [
            "Epoch 68/100: 100%|██████████| 24/24 [00:00<00:00, 35.75it/s, loss=0.242]\n"
          ]
        },
        {
          "name": "stdout",
          "output_type": "stream",
          "text": [
            "Epoch [68/100], Loss: 0.2292\n"
          ]
        },
        {
          "name": "stderr",
          "output_type": "stream",
          "text": [
            "Epoch 69/100: 100%|██████████| 24/24 [00:00<00:00, 35.99it/s, loss=0.0374]\n"
          ]
        },
        {
          "name": "stdout",
          "output_type": "stream",
          "text": [
            "Epoch [69/100], Loss: 0.1170\n"
          ]
        },
        {
          "name": "stderr",
          "output_type": "stream",
          "text": [
            "Epoch 70/100: 100%|██████████| 24/24 [00:00<00:00, 36.06it/s, loss=0.17]\n"
          ]
        },
        {
          "name": "stdout",
          "output_type": "stream",
          "text": [
            "Epoch [70/100], Loss: 0.1880\n"
          ]
        },
        {
          "name": "stderr",
          "output_type": "stream",
          "text": [
            "Epoch 71/100: 100%|██████████| 24/24 [00:00<00:00, 34.83it/s, loss=0.0867]\n"
          ]
        },
        {
          "name": "stdout",
          "output_type": "stream",
          "text": [
            "Epoch [71/100], Loss: 0.1254\n"
          ]
        },
        {
          "name": "stderr",
          "output_type": "stream",
          "text": [
            "Epoch 72/100: 100%|██████████| 24/24 [00:00<00:00, 34.44it/s, loss=2.81e-5]\n"
          ]
        },
        {
          "name": "stdout",
          "output_type": "stream",
          "text": [
            "Epoch [72/100], Loss: 0.1790\n"
          ]
        },
        {
          "name": "stderr",
          "output_type": "stream",
          "text": [
            "Epoch 73/100: 100%|██████████| 24/24 [00:00<00:00, 33.83it/s, loss=0.467]\n"
          ]
        },
        {
          "name": "stdout",
          "output_type": "stream",
          "text": [
            "Epoch [73/100], Loss: 0.0799\n"
          ]
        },
        {
          "name": "stderr",
          "output_type": "stream",
          "text": [
            "Epoch 74/100: 100%|██████████| 24/24 [00:00<00:00, 34.76it/s, loss=0.00191]\n"
          ]
        },
        {
          "name": "stdout",
          "output_type": "stream",
          "text": [
            "Epoch [74/100], Loss: 0.1053\n"
          ]
        },
        {
          "name": "stderr",
          "output_type": "stream",
          "text": [
            "Epoch 75/100: 100%|██████████| 24/24 [00:00<00:00, 34.13it/s, loss=0.181]\n"
          ]
        },
        {
          "name": "stdout",
          "output_type": "stream",
          "text": [
            "Epoch [75/100], Loss: 0.1474\n"
          ]
        },
        {
          "name": "stderr",
          "output_type": "stream",
          "text": [
            "Epoch 76/100: 100%|██████████| 24/24 [00:00<00:00, 35.73it/s, loss=0.0804]\n"
          ]
        },
        {
          "name": "stdout",
          "output_type": "stream",
          "text": [
            "Epoch [76/100], Loss: 0.1365\n"
          ]
        },
        {
          "name": "stderr",
          "output_type": "stream",
          "text": [
            "Epoch 77/100: 100%|██████████| 24/24 [00:00<00:00, 36.01it/s, loss=0.0134]\n"
          ]
        },
        {
          "name": "stdout",
          "output_type": "stream",
          "text": [
            "Epoch [77/100], Loss: 0.1848\n"
          ]
        },
        {
          "name": "stderr",
          "output_type": "stream",
          "text": [
            "Epoch 78/100: 100%|██████████| 24/24 [00:00<00:00, 35.48it/s, loss=0.0103]\n"
          ]
        },
        {
          "name": "stdout",
          "output_type": "stream",
          "text": [
            "Epoch [78/100], Loss: 0.1314\n"
          ]
        },
        {
          "name": "stderr",
          "output_type": "stream",
          "text": [
            "Epoch 79/100: 100%|██████████| 24/24 [00:00<00:00, 35.59it/s, loss=0.142]\n"
          ]
        },
        {
          "name": "stdout",
          "output_type": "stream",
          "text": [
            "Epoch [79/100], Loss: 0.1230\n"
          ]
        },
        {
          "name": "stderr",
          "output_type": "stream",
          "text": [
            "Epoch 80/100: 100%|██████████| 24/24 [00:00<00:00, 35.26it/s, loss=0.423]\n"
          ]
        },
        {
          "name": "stdout",
          "output_type": "stream",
          "text": [
            "Epoch [80/100], Loss: 0.1360\n"
          ]
        },
        {
          "name": "stderr",
          "output_type": "stream",
          "text": [
            "Epoch 81/100: 100%|██████████| 24/24 [00:00<00:00, 34.77it/s, loss=0.0561]\n"
          ]
        },
        {
          "name": "stdout",
          "output_type": "stream",
          "text": [
            "Epoch [81/100], Loss: 0.1235\n"
          ]
        },
        {
          "name": "stderr",
          "output_type": "stream",
          "text": [
            "Epoch 82/100: 100%|██████████| 24/24 [00:00<00:00, 34.89it/s, loss=0.602]\n"
          ]
        },
        {
          "name": "stdout",
          "output_type": "stream",
          "text": [
            "Epoch [82/100], Loss: 0.2667\n"
          ]
        },
        {
          "name": "stderr",
          "output_type": "stream",
          "text": [
            "Epoch 83/100: 100%|██████████| 24/24 [00:00<00:00, 34.41it/s, loss=0.306]\n"
          ]
        },
        {
          "name": "stdout",
          "output_type": "stream",
          "text": [
            "Epoch [83/100], Loss: 0.1505\n"
          ]
        },
        {
          "name": "stderr",
          "output_type": "stream",
          "text": [
            "Epoch 84/100: 100%|██████████| 24/24 [00:00<00:00, 35.31it/s, loss=0.148]\n"
          ]
        },
        {
          "name": "stdout",
          "output_type": "stream",
          "text": [
            "Epoch [84/100], Loss: 0.2045\n"
          ]
        },
        {
          "name": "stderr",
          "output_type": "stream",
          "text": [
            "Epoch 85/100: 100%|██████████| 24/24 [00:00<00:00, 35.47it/s, loss=0.0236]\n"
          ]
        },
        {
          "name": "stdout",
          "output_type": "stream",
          "text": [
            "Epoch [85/100], Loss: 0.2381\n"
          ]
        },
        {
          "name": "stderr",
          "output_type": "stream",
          "text": [
            "Epoch 86/100: 100%|██████████| 24/24 [00:00<00:00, 35.27it/s, loss=0.0107]\n"
          ]
        },
        {
          "name": "stdout",
          "output_type": "stream",
          "text": [
            "Epoch [86/100], Loss: 0.2158\n"
          ]
        },
        {
          "name": "stderr",
          "output_type": "stream",
          "text": [
            "Epoch 87/100: 100%|██████████| 24/24 [00:00<00:00, 35.17it/s, loss=0.00012]\n"
          ]
        },
        {
          "name": "stdout",
          "output_type": "stream",
          "text": [
            "Epoch [87/100], Loss: 0.1160\n"
          ]
        },
        {
          "name": "stderr",
          "output_type": "stream",
          "text": [
            "Epoch 88/100: 100%|██████████| 24/24 [00:00<00:00, 34.99it/s, loss=0.0305]\n"
          ]
        },
        {
          "name": "stdout",
          "output_type": "stream",
          "text": [
            "Epoch [88/100], Loss: 0.1495\n"
          ]
        },
        {
          "name": "stderr",
          "output_type": "stream",
          "text": [
            "Epoch 89/100: 100%|██████████| 24/24 [00:00<00:00, 35.06it/s, loss=0.0122]\n"
          ]
        },
        {
          "name": "stdout",
          "output_type": "stream",
          "text": [
            "Epoch [89/100], Loss: 0.1825\n"
          ]
        },
        {
          "name": "stderr",
          "output_type": "stream",
          "text": [
            "Epoch 90/100: 100%|██████████| 24/24 [00:00<00:00, 34.94it/s, loss=0.467]\n"
          ]
        },
        {
          "name": "stdout",
          "output_type": "stream",
          "text": [
            "Epoch [90/100], Loss: 0.1183\n"
          ]
        },
        {
          "name": "stderr",
          "output_type": "stream",
          "text": [
            "Epoch 91/100: 100%|██████████| 24/24 [00:00<00:00, 33.65it/s, loss=0.538]\n"
          ]
        },
        {
          "name": "stdout",
          "output_type": "stream",
          "text": [
            "Epoch [91/100], Loss: 0.1365\n"
          ]
        },
        {
          "name": "stderr",
          "output_type": "stream",
          "text": [
            "Epoch 92/100: 100%|██████████| 24/24 [00:00<00:00, 33.05it/s, loss=0.409]\n"
          ]
        },
        {
          "name": "stdout",
          "output_type": "stream",
          "text": [
            "Epoch [92/100], Loss: 0.2320\n"
          ]
        },
        {
          "name": "stderr",
          "output_type": "stream",
          "text": [
            "Epoch 93/100: 100%|██████████| 24/24 [00:00<00:00, 31.88it/s, loss=0.00454]\n"
          ]
        },
        {
          "name": "stdout",
          "output_type": "stream",
          "text": [
            "Epoch [93/100], Loss: 0.1406\n"
          ]
        },
        {
          "name": "stderr",
          "output_type": "stream",
          "text": [
            "Epoch 94/100: 100%|██████████| 24/24 [00:00<00:00, 32.52it/s, loss=0.00141]\n"
          ]
        },
        {
          "name": "stdout",
          "output_type": "stream",
          "text": [
            "Epoch [94/100], Loss: 0.1301\n"
          ]
        },
        {
          "name": "stderr",
          "output_type": "stream",
          "text": [
            "Epoch 95/100: 100%|██████████| 24/24 [00:00<00:00, 33.62it/s, loss=0.00244]\n"
          ]
        },
        {
          "name": "stdout",
          "output_type": "stream",
          "text": [
            "Epoch [95/100], Loss: 0.1950\n"
          ]
        },
        {
          "name": "stderr",
          "output_type": "stream",
          "text": [
            "Epoch 96/100: 100%|██████████| 24/24 [00:00<00:00, 35.26it/s, loss=0.189]\n"
          ]
        },
        {
          "name": "stdout",
          "output_type": "stream",
          "text": [
            "Epoch [96/100], Loss: 0.1029\n"
          ]
        },
        {
          "name": "stderr",
          "output_type": "stream",
          "text": [
            "Epoch 97/100: 100%|██████████| 24/24 [00:00<00:00, 35.58it/s, loss=0.0529]\n"
          ]
        },
        {
          "name": "stdout",
          "output_type": "stream",
          "text": [
            "Epoch [97/100], Loss: 0.1177\n"
          ]
        },
        {
          "name": "stderr",
          "output_type": "stream",
          "text": [
            "Epoch 98/100: 100%|██████████| 24/24 [00:00<00:00, 35.13it/s, loss=0.000152]\n"
          ]
        },
        {
          "name": "stdout",
          "output_type": "stream",
          "text": [
            "Epoch [98/100], Loss: 0.1964\n"
          ]
        },
        {
          "name": "stderr",
          "output_type": "stream",
          "text": [
            "Epoch 99/100: 100%|██████████| 24/24 [00:00<00:00, 34.39it/s, loss=3.17e-6]\n"
          ]
        },
        {
          "name": "stdout",
          "output_type": "stream",
          "text": [
            "Epoch [99/100], Loss: 0.1343\n"
          ]
        },
        {
          "name": "stderr",
          "output_type": "stream",
          "text": [
            "Epoch 100/100: 100%|██████████| 24/24 [00:00<00:00, 35.56it/s, loss=1.43e-6]\n"
          ]
        },
        {
          "name": "stdout",
          "output_type": "stream",
          "text": [
            "Epoch [100/100], Loss: 0.1267\n"
          ]
        },
        {
          "data": {
            "image/png": "[encoded data removed]",
            "text/plain": [
              "<Figure size 1000x500 with 1 Axes>"
            ]
          },
          "metadata": {},
          "output_type": "display_data"
        }
      ],
      "source": [
        "# training loop\n",
        "import torch.nn as nn\n",
        "import torch.optim as optim\n",
        "from tqdm import tqdm\n",
        "import matplotlib.pyplot as plt\n",
        "\n",
        "\n",
        "device = 'cuda' if torch.cuda.is_available() else 'cpu'\n",
        "\n",
        "EPOCHS = 100\n",
        "BATCH_SIZE = 32\n",
        "LEARNING_RATE = 0.1\n",
        "\n",
        "NUM_CLASS = 3\n",
        "INPUT_SIZE = 25000\n",
        "HIDDEN_SIZE = 256\n",
        "NUM_LAYERS = 2\n",
        "\n",
        "model = LTSM(INPUT_SIZE, HIDDEN_SIZE, NUM_LAYERS, NUM_CLASS).to(device)\n",
        "\n",
        "\n",
        "train_loader = torch.utils.data.DataLoader(train_ds, batch_size=BATCH_SIZE, shuffle=True)\n",
        "test_loader = torch.utils.data.DataLoader(test_ds, batch_size=BATCH_SIZE, shuffle=True)\n",
        "\n",
        "# Assuming the model, dataset, and DataLoader are defined as before\n",
        "\n",
        "# Define loss function and optimizer\n",
        "criterion = nn.CrossEntropyLoss()\n",
        "optimizer = optim.Adam(model.parameters(), lr=LEARNING_RATE)\n",
        "scheduler = optim.lr_scheduler.ReduceLROnPlateau(optimizer, 'min', factor=0.1, patience=5, verbose=True)\n",
        "# Training loop\n",
        "train_losses = []\n",
        "\n",
        "for epoch in range(EPOCHS):\n",
        "    model.train()  # Set the model to training mode\n",
        "    running_loss = 0.0\n",
        "\n",
        "    # Use tqdm to create a progress bar\n",
        "    progress_bar = tqdm(enumerate(train_loader), total=len(train_loader), desc=f'Epoch {epoch + 1}/{EPOCHS}')\n",
        "\n",
        "    for i, (inputs, labels) in progress_bar:\n",
        "        # Move tensors to the configured device\n",
        "        inputs, labels = inputs.to(device), labels.to(device)\n",
        "        inputs = inputs.unsqueeze(1)\n",
        "\n",
        "        # Forward pass\n",
        "        outputs = model(inputs)\n",
        "        loss = criterion(outputs, labels)\n",
        "\n",
        "        # Backward pass and optimization\n",
        "        optimizer.zero_grad()\n",
        "        loss.backward()\n",
        "        optimizer.step()\n",
        "\n",
        "        running_loss += loss.item()\n",
        "\n",
        "        # Update tqdm with the current loss\n",
        "        progress_bar.set_postfix(loss=loss.item())\n",
        "\n",
        "    # Store the average loss for this epoch\n",
        "    scheduler.step(running_loss)\n",
        "    epoch_loss = running_loss / len(train_loader)\n",
        "    train_losses.append(epoch_loss)\n",
        "    print(f'Epoch [{epoch + 1}/{EPOCHS}], Loss: {epoch_loss:.4f}')\n",
        "\n",
        "# Plot the loss curve\n",
        "plt.figure(figsize=(10, 5))\n",
        "plt.plot(range(1, EPOCHS + 1), train_losses, marker='o', linestyle='-')\n",
        "plt.xlabel('Epoch')\n",
        "plt.ylabel('Loss')\n",
        "plt.title('Training Loss over Epochs')\n",
        "plt.grid(True)\n",
        "plt.show()\n"
      ]
    },
    {
      "cell_type": "code",
      "execution_count": null,
      "metadata": {
        "colab": {
          "base_uri": "https://localhost:8080/"
        },
        "id": "_V_sfybcju45",
        "outputId": "d94b8102-9ffb-4b69-c8bd-08927410e333"
      },
      "outputs": [
        {
          "output_type": "stream",
          "name": "stderr",
          "text": [
            "Evaluating: 100%|██████████| 3/3 [00:00<00:00, 27.74it/s]"
          ]
        },
        {
          "output_type": "stream",
          "name": "stdout",
          "text": [
            "Accuracy on the test set: 71.35%\n"
          ]
        },
        {
          "output_type": "stream",
          "name": "stderr",
          "text": [
            "\n"
          ]
        }
      ],
      "source": [
        "import torch\n",
        "from torch.utils.data import DataLoader\n",
        "from tqdm import tqdm\n",
        "\n",
        "# Assuming 'test_loader' is your DataLoader for the test dataset\n",
        "\n",
        "def evaluate_model(model, test_loader, device):\n",
        "    model.eval()  # Set model to evaluation mode\n",
        "    correct = 0\n",
        "    total = 0\n",
        "\n",
        "    with torch.no_grad():  # Disable gradient calculation for efficiency\n",
        "        for inputs, labels in tqdm(test_loader, desc=\"Evaluating\"):\n",
        "            inputs, labels = inputs.to(device), labels.to(device)\n",
        "\n",
        "            # Ensure inputs have 3 dimensions (batch_size, seq_length, input_size)\n",
        "            if inputs.dim() == 2:\n",
        "                inputs = inputs.unsqueeze(1)  # Add sequence length dimension\n",
        "\n",
        "            outputs = model(inputs)\n",
        "            _, predicted = torch.max(outputs.data, 1)\n",
        "            total += labels.size(0)\n",
        "            correct += (predicted == labels).sum().item()\n",
        "\n",
        "    accuracy = correct / total\n",
        "    print(f'Accuracy on the test set: {accuracy * 100:.2f}%')\n",
        "    return accuracy\n",
        "\n",
        "# Evaluate the model on the test dataset\n",
        "accuracy = evaluate_model(model, test_loader, device)\n"
      ]
    },
    {
      "cell_type": "code",
      "execution_count": null,
      "metadata": {
        "colab": {
          "base_uri": "https://localhost:8080/"
        },
        "id": "v8hOCLB9qTLu",
        "outputId": "f12ce725-d45e-47a8-cf54-88053485a5a3"
      },
      "outputs": [
        {
          "data": {
            "text/plain": [
              "0.84375"
            ]
          },
          "execution_count": 102,
          "metadata": {},
          "output_type": "execute_result"
        }
      ],
      "source": [
        "accuracy"
      ]
    },
    {
      "cell_type": "code",
      "execution_count": null,
      "metadata": {
        "colab": {
          "base_uri": "https://localhost:8080/",
          "height": 423
        },
        "id": "z591AyskqVOE",
        "outputId": "5c083ee9-b755-4025-b7dd-717387e1abd1"
      },
      "outputs": [
        {
          "data": {
            "application/vnd.google.colaboratory.intrinsic+json": {
              "summary": "{\n  \"name\": \"df\",\n  \"rows\": 960,\n  \"fields\": [\n    {\n      \"column\": \"signal\",\n      \"properties\": {\n        \"dtype\": \"object\",\n        \"semantic_type\": \"\",\n        \"description\": \"\"\n      }\n    },\n    {\n      \"column\": \"label\",\n      \"properties\": {\n        \"dtype\": \"number\",\n        \"std\": 0,\n        \"min\": 0,\n        \"max\": 2,\n        \"num_unique_values\": 3,\n        \"samples\": [\n          2,\n          1,\n          0\n        ],\n        \"semantic_type\": \"\",\n        \"description\": \"\"\n      }\n    }\n  ]\n}",
              "type": "dataframe",
              "variable_name": "df"
            },
            "text/html": [
              "\n",
              "  <div id=\"df-4f4637d0-94fc-442f-8d87-61c6a6062575\" class=\"colab-df-container\">\n",
              "    <div>\n",
              "<style scoped>\n",
              "    .dataframe tbody tr th:only-of-type {\n",
              "        vertical-align: middle;\n",
              "    }\n",
              "\n",
              "    .dataframe tbody tr th {\n",
              "        vertical-align: top;\n",
              "    }\n",
              "\n",
              "    .dataframe thead th {\n",
              "        text-align: right;\n",
              "    }\n",
              "</style>\n",
              "<table border=\"1\" class=\"dataframe\">\n",
              "  <thead>\n",
              "    <tr style=\"text-align: right;\">\n",
              "      <th></th>\n",
              "      <th>signal</th>\n",
              "      <th>label</th>\n",
              "    </tr>\n",
              "  </thead>\n",
              "  <tbody>\n",
              "    <tr>\n",
              "      <th>0</th>\n",
              "      <td>[-0.010382509, -0.0117383525, -0.012032576, -0...</td>\n",
              "      <td>2</td>\n",
              "    </tr>\n",
              "    <tr>\n",
              "      <th>1</th>\n",
              "      <td>[-0.026653834, -0.03114801, -0.03312645, -0.03...</td>\n",
              "      <td>2</td>\n",
              "    </tr>\n",
              "    <tr>\n",
              "      <th>2</th>\n",
              "      <td>[-0.0046437196, -0.0062882756, -0.007881145, -...</td>\n",
              "      <td>2</td>\n",
              "    </tr>\n",
              "    <tr>\n",
              "      <th>3</th>\n",
              "      <td>[0.023404034, 0.02760721, 0.029769983, 0.03010...</td>\n",
              "      <td>2</td>\n",
              "    </tr>\n",
              "    <tr>\n",
              "      <th>4</th>\n",
              "      <td>[0.0055779545, 0.006506115, 0.00690701, 0.0068...</td>\n",
              "      <td>2</td>\n",
              "    </tr>\n",
              "    <tr>\n",
              "      <th>...</th>\n",
              "      <td>...</td>\n",
              "      <td>...</td>\n",
              "    </tr>\n",
              "    <tr>\n",
              "      <th>955</th>\n",
              "      <td>[-0.0040120604, -0.004868087, -0.0054581505, -...</td>\n",
              "      <td>1</td>\n",
              "    </tr>\n",
              "    <tr>\n",
              "      <th>956</th>\n",
              "      <td>[-0.048050907, -0.05561978, -0.058524743, -0.0...</td>\n",
              "      <td>1</td>\n",
              "    </tr>\n",
              "    <tr>\n",
              "      <th>957</th>\n",
              "      <td>[0.00013719709, 0.00062448403, 0.0012244792, 0...</td>\n",
              "      <td>1</td>\n",
              "    </tr>\n",
              "    <tr>\n",
              "      <th>958</th>\n",
              "      <td>[-0.01050725, -0.012288787, -0.013128199, -0.0...</td>\n",
              "      <td>1</td>\n",
              "    </tr>\n",
              "    <tr>\n",
              "      <th>959</th>\n",
              "      <td>[0.009220063, 0.010875644, 0.011661099, 0.0116...</td>\n",
              "      <td>1</td>\n",
              "    </tr>\n",
              "  </tbody>\n",
              "</table>\n",
              "<p>960 rows × 2 columns</p>\n",
              "</div>\n",
              "    <div class=\"colab-df-buttons\">\n",
              "\n",
              "  <div class=\"colab-df-container\">\n",
              "    <button class=\"colab-df-convert\" onclick=\"convertToInteractive('df-4f4637d0-94fc-442f-8d87-61c6a6062575')\"\n",
              "            title=\"Convert this dataframe to an interactive table.\"\n",
              "            style=\"display:none;\">\n",
              "\n",
              "  <svg xmlns=\"http://www.w3.org/2000/svg\" height=\"24px\" viewBox=\"0 -960 960 960\">\n",
              "    <path d=\"M120-120v-720h720v720H120Zm60-500h600v-160H180v160Zm220 220h160v-160H400v160Zm0 220h160v-160H400v160ZM180-400h160v-160H180v160Zm440 0h160v-160H620v160ZM180-180h160v-160H180v160Zm440 0h160v-160H620v160Z\"/>\n",
              "  </svg>\n",
              "    </button>\n",
              "\n",
              "  <style>\n",
              "    .colab-df-container {\n",
              "      display:flex;\n",
              "      gap: 12px;\n",
              "    }\n",
              "\n",
              "    .colab-df-convert {\n",
              "      background-color: #E8F0FE;\n",
              "      border: none;\n",
              "      border-radius: 50%;\n",
              "      cursor: pointer;\n",
              "      display: none;\n",
              "      fill: #1967D2;\n",
              "      height: 32px;\n",
              "      padding: 0 0 0 0;\n",
              "      width: 32px;\n",
              "    }\n",
              "\n",
              "    .colab-df-convert:hover {\n",
              "      background-color: #E2EBFA;\n",
              "      box-shadow: 0px 1px 2px rgba(60, 64, 67, 0.3), 0px 1px 3px 1px rgba(60, 64, 67, 0.15);\n",
              "      fill: #174EA6;\n",
              "    }\n",
              "\n",
              "    .colab-df-buttons div {\n",
              "      margin-bottom: 4px;\n",
              "    }\n",
              "\n",
              "    [theme=dark] .colab-df-convert {\n",
              "      background-color: #3B4455;\n",
              "      fill: #D2E3FC;\n",
              "    }\n",
              "\n",
              "    [theme=dark] .colab-df-convert:hover {\n",
              "      background-color: #434B5C;\n",
              "      box-shadow: 0px 1px 3px 1px rgba(0, 0, 0, 0.15);\n",
              "      filter: drop-shadow(0px 1px 2px rgba(0, 0, 0, 0.3));\n",
              "      fill: #FFFFFF;\n",
              "    }\n",
              "  </style>\n",
              "\n",
              "    <script>\n",
              "      const buttonEl =\n",
              "        document.querySelector('#df-4f4637d0-94fc-442f-8d87-61c6a6062575 button.colab-df-convert');\n",
              "      buttonEl.style.display =\n",
              "        google.colab.kernel.accessAllowed ? 'block' : 'none';\n",
              "\n",
              "      async function convertToInteractive(key) {\n",
              "        const element = document.querySelector('#df-4f4637d0-94fc-442f-8d87-61c6a6062575');\n",
              "        const dataTable =\n",
              "          await google.colab.kernel.invokeFunction('convertToInteractive',\n",
              "                                                    [key], {});\n",
              "        if (!dataTable) return;\n",
              "\n",
              "        const docLinkHtml = 'Like what you see? Visit the ' +\n",
              "          '<a target=\"_blank\" href=https://colab.research.google.com/notebooks/data_table.ipynb>data table notebook</a>'\n",
              "          + ' to learn more about interactive tables.';\n",
              "        element.innerHTML = '';\n",
              "        dataTable['output_type'] = 'display_data';\n",
              "        await google.colab.output.renderOutput(dataTable, element);\n",
              "        const docLink = document.createElement('div');\n",
              "        docLink.innerHTML = docLinkHtml;\n",
              "        element.appendChild(docLink);\n",
              "      }\n",
              "    </script>\n",
              "  </div>\n",
              "\n",
              "\n",
              "<div id=\"df-a8ab6cda-7670-4d98-b1a9-132f442e523a\">\n",
              "  <button class=\"colab-df-quickchart\" onclick=\"quickchart('df-a8ab6cda-7670-4d98-b1a9-132f442e523a')\"\n",
              "            title=\"Suggest charts\"\n",
              "            style=\"display:none;\">\n",
              "\n",
              "<svg xmlns=\"http://www.w3.org/2000/svg\" height=\"24px\"viewBox=\"0 0 24 24\"\n",
              "     width=\"24px\">\n",
              "    <g>\n",
              "        <path d=\"M19 3H5c-1.1 0-2 .9-2 2v14c0 1.1.9 2 2 2h14c1.1 0 2-.9 2-2V5c0-1.1-.9-2-2-2zM9 17H7v-7h2v7zm4 0h-2V7h2v10zm4 0h-2v-4h2v4z\"/>\n",
              "    </g>\n",
              "</svg>\n",
              "  </button>\n",
              "\n",
              "<style>\n",
              "  .colab-df-quickchart {\n",
              "      --bg-color: #E8F0FE;\n",
              "      --fill-color: #1967D2;\n",
              "      --hover-bg-color: #E2EBFA;\n",
              "      --hover-fill-color: #174EA6;\n",
              "      --disabled-fill-color: #AAA;\n",
              "      --disabled-bg-color: #DDD;\n",
              "  }\n",
              "\n",
              "  [theme=dark] .colab-df-quickchart {\n",
              "      --bg-color: #3B4455;\n",
              "      --fill-color: #D2E3FC;\n",
              "      --hover-bg-color: #434B5C;\n",
              "      --hover-fill-color: #FFFFFF;\n",
              "      --disabled-bg-color: #3B4455;\n",
              "      --disabled-fill-color: #666;\n",
              "  }\n",
              "\n",
              "  .colab-df-quickchart {\n",
              "    background-color: var(--bg-color);\n",
              "    border: none;\n",
              "    border-radius: 50%;\n",
              "    cursor: pointer;\n",
              "    display: none;\n",
              "    fill: var(--fill-color);\n",
              "    height: 32px;\n",
              "    padding: 0;\n",
              "    width: 32px;\n",
              "  }\n",
              "\n",
              "  .colab-df-quickchart:hover {\n",
              "    background-color: var(--hover-bg-color);\n",
              "    box-shadow: 0 1px 2px rgba(60, 64, 67, 0.3), 0 1px 3px 1px rgba(60, 64, 67, 0.15);\n",
              "    fill: var(--button-hover-fill-color);\n",
              "  }\n",
              "\n",
              "  .colab-df-quickchart-complete:disabled,\n",
              "  .colab-df-quickchart-complete:disabled:hover {\n",
              "    background-color: var(--disabled-bg-color);\n",
              "    fill: var(--disabled-fill-color);\n",
              "    box-shadow: none;\n",
              "  }\n",
              "\n",
              "  .colab-df-spinner {\n",
              "    border: 2px solid var(--fill-color);\n",
              "    border-color: transparent;\n",
              "    border-bottom-color: var(--fill-color);\n",
              "    animation:\n",
              "      spin 1s steps(1) infinite;\n",
              "  }\n",
              "\n",
              "  @keyframes spin {\n",
              "    0% {\n",
              "      border-color: transparent;\n",
              "      border-bottom-color: var(--fill-color);\n",
              "      border-left-color: var(--fill-color);\n",
              "    }\n",
              "    20% {\n",
              "      border-color: transparent;\n",
              "      border-left-color: var(--fill-color);\n",
              "      border-top-color: var(--fill-color);\n",
              "    }\n",
              "    30% {\n",
              "      border-color: transparent;\n",
              "      border-left-color: var(--fill-color);\n",
              "      border-top-color: var(--fill-color);\n",
              "      border-right-color: var(--fill-color);\n",
              "    }\n",
              "    40% {\n",
              "      border-color: transparent;\n",
              "      border-right-color: var(--fill-color);\n",
              "      border-top-color: var(--fill-color);\n",
              "    }\n",
              "    60% {\n",
              "      border-color: transparent;\n",
              "      border-right-color: var(--fill-color);\n",
              "    }\n",
              "    80% {\n",
              "      border-color: transparent;\n",
              "      border-right-color: var(--fill-color);\n",
              "      border-bottom-color: var(--fill-color);\n",
              "    }\n",
              "    90% {\n",
              "      border-color: transparent;\n",
              "      border-bottom-color: var(--fill-color);\n",
              "    }\n",
              "  }\n",
              "</style>\n",
              "\n",
              "  <script>\n",
              "    async function quickchart(key) {\n",
              "      const quickchartButtonEl =\n",
              "        document.querySelector('#' + key + ' button');\n",
              "      quickchartButtonEl.disabled = true;  // To prevent multiple clicks.\n",
              "      quickchartButtonEl.classList.add('colab-df-spinner');\n",
              "      try {\n",
              "        const charts = await google.colab.kernel.invokeFunction(\n",
              "            'suggestCharts', [key], {});\n",
              "      } catch (error) {\n",
              "        console.error('Error during call to suggestCharts:', error);\n",
              "      }\n",
              "      quickchartButtonEl.classList.remove('colab-df-spinner');\n",
              "      quickchartButtonEl.classList.add('colab-df-quickchart-complete');\n",
              "    }\n",
              "    (() => {\n",
              "      let quickchartButtonEl =\n",
              "        document.querySelector('#df-a8ab6cda-7670-4d98-b1a9-132f442e523a button');\n",
              "      quickchartButtonEl.style.display =\n",
              "        google.colab.kernel.accessAllowed ? 'block' : 'none';\n",
              "    })();\n",
              "  </script>\n",
              "</div>\n",
              "\n",
              "  <div id=\"id_545f9b8c-edde-418b-ab64-f375211ac921\">\n",
              "    <style>\n",
              "      .colab-df-generate {\n",
              "        background-color: #E8F0FE;\n",
              "        border: none;\n",
              "        border-radius: 50%;\n",
              "        cursor: pointer;\n",
              "        display: none;\n",
              "        fill: #1967D2;\n",
              "        height: 32px;\n",
              "        padding: 0 0 0 0;\n",
              "        width: 32px;\n",
              "      }\n",
              "\n",
              "      .colab-df-generate:hover {\n",
              "        background-color: #E2EBFA;\n",
              "        box-shadow: 0px 1px 2px rgba(60, 64, 67, 0.3), 0px 1px 3px 1px rgba(60, 64, 67, 0.15);\n",
              "        fill: #174EA6;\n",
              "      }\n",
              "\n",
              "      [theme=dark] .colab-df-generate {\n",
              "        background-color: #3B4455;\n",
              "        fill: #D2E3FC;\n",
              "      }\n",
              "\n",
              "      [theme=dark] .colab-df-generate:hover {\n",
              "        background-color: #434B5C;\n",
              "        box-shadow: 0px 1px 3px 1px rgba(0, 0, 0, 0.15);\n",
              "        filter: drop-shadow(0px 1px 2px rgba(0, 0, 0, 0.3));\n",
              "        fill: #FFFFFF;\n",
              "      }\n",
              "    </style>\n",
              "    <button class=\"colab-df-generate\" onclick=\"generateWithVariable('df')\"\n",
              "            title=\"Generate code using this dataframe.\"\n",
              "            style=\"display:none;\">\n",
              "\n",
              "  <svg xmlns=\"http://www.w3.org/2000/svg\" height=\"24px\"viewBox=\"0 0 24 24\"\n",
              "       width=\"24px\">\n",
              "    <path d=\"M7,19H8.4L18.45,9,17,7.55,7,17.6ZM5,21V16.75L18.45,3.32a2,2,0,0,1,2.83,0l1.4,1.43a1.91,1.91,0,0,1,.58,1.4,1.91,1.91,0,0,1-.58,1.4L9.25,21ZM18.45,9,17,7.55Zm-12,3A5.31,5.31,0,0,0,4.9,8.1,5.31,5.31,0,0,0,1,6.5,5.31,5.31,0,0,0,4.9,4.9,5.31,5.31,0,0,0,6.5,1,5.31,5.31,0,0,0,8.1,4.9,5.31,5.31,0,0,0,12,6.5,5.46,5.46,0,0,0,6.5,12Z\"/>\n",
              "  </svg>\n",
              "    </button>\n",
              "    <script>\n",
              "      (() => {\n",
              "      const buttonEl =\n",
              "        document.querySelector('#id_545f9b8c-edde-418b-ab64-f375211ac921 button.colab-df-generate');\n",
              "      buttonEl.style.display =\n",
              "        google.colab.kernel.accessAllowed ? 'block' : 'none';\n",
              "\n",
              "      buttonEl.onclick = () => {\n",
              "        google.colab.notebook.generateWithVariable('df');\n",
              "      }\n",
              "      })();\n",
              "    </script>\n",
              "  </div>\n",
              "\n",
              "    </div>\n",
              "  </div>\n"
            ],
            "text/plain": [
              "                                                signal  label\n",
              "0    [-0.010382509, -0.0117383525, -0.012032576, -0...      2\n",
              "1    [-0.026653834, -0.03114801, -0.03312645, -0.03...      2\n",
              "2    [-0.0046437196, -0.0062882756, -0.007881145, -...      2\n",
              "3    [0.023404034, 0.02760721, 0.029769983, 0.03010...      2\n",
              "4    [0.0055779545, 0.006506115, 0.00690701, 0.0068...      2\n",
              "..                                                 ...    ...\n",
              "955  [-0.0040120604, -0.004868087, -0.0054581505, -...      1\n",
              "956  [-0.048050907, -0.05561978, -0.058524743, -0.0...      1\n",
              "957  [0.00013719709, 0.00062448403, 0.0012244792, 0...      1\n",
              "958  [-0.01050725, -0.012288787, -0.013128199, -0.0...      1\n",
              "959  [0.009220063, 0.010875644, 0.011661099, 0.0116...      1\n",
              "\n",
              "[960 rows x 2 columns]"
            ]
          },
          "execution_count": 103,
          "metadata": {},
          "output_type": "execute_result"
        }
      ],
      "source": [
        "df"
      ]
    },
    {
      "cell_type": "markdown",
      "metadata": {
        "id": "Z17Eu7dZ1cQV"
      },
      "source": [
        "### RNN w/MFCC"
      ]
    },
    {
      "cell_type": "code",
      "execution_count": null,
      "metadata": {
        "id": "ghrYIicV8YjA"
      },
      "outputs": [],
      "source": []
    },
    {
      "cell_type": "code",
      "execution_count": null,
      "metadata": {
        "id": "Fyj3Ze9Q1R8n"
      },
      "outputs": [],
      "source": [
        "#sm = SMOTE(random_state=42)\n",
        "#df = df.sample(frac=1).reset_index(drop=True)\n",
        "\n",
        "#mfcc = df['signal'].apply(lambda x: librosa.feature.mfcc(y=x, sr=df['rate'].iloc[0]))\n",
        "class MFCCDataset(torch.utils.data.Dataset):\n",
        "  def __init__(self, X, y) -> None:\n",
        "    assert len(X) == len(y), \"X and y must have the same length\"\n",
        "    self.X = X\n",
        "    self.y = y\n",
        "\n",
        "  def __len__(self):\n",
        "    return len(self.X)\n",
        "\n",
        "  def __getitem__(self, idx):\n",
        "    return torch.from_numpy(self.X[idx]), self.y.iloc[idx]\n",
        "\n",
        "X = np.stack(mfcc.apply(lambda x: x.flatten()))\n",
        "y = df['label']\n",
        "\n",
        "X_res, y_res = sm.fit_resample(X, y)"
      ]
    },
    {
      "cell_type": "code",
      "source": [],
      "metadata": {
        "id": "0hj89wQkzT9U"
      },
      "execution_count": null,
      "outputs": []
    },
    {
      "cell_type": "code",
      "execution_count": null,
      "metadata": {
        "id": "14kNSzSn2fYM"
      },
      "outputs": [],
      "source": [
        "X_train, X_test, y_train, y_test = train_test_split(X_res, y_res, test_size=0.2, random_state=42)"
      ]
    },
    {
      "cell_type": "code",
      "execution_count": null,
      "metadata": {
        "colab": {
          "base_uri": "https://localhost:8080/"
        },
        "id": "5Qc4Wg8727PL",
        "outputId": "ba72c9ce-2ff4-40f7-fcc6-9bdc6e1bd0c9"
      },
      "outputs": [
        {
          "data": {
            "text/plain": [
              "(192, 980)"
            ]
          },
          "execution_count": 23,
          "metadata": {},
          "output_type": "execute_result"
        }
      ],
      "source": [
        "X_test.shape"
      ]
    },
    {
      "cell_type": "code",
      "execution_count": null,
      "metadata": {
        "id": "xQl2LuMZ29i6"
      },
      "outputs": [],
      "source": [
        "train_ds = MFCCDataset(X_train, y_train)\n",
        "test_ds = MFCCDataset(X_test, y_test)"
      ]
    },
    {
      "cell_type": "code",
      "execution_count": null,
      "metadata": {
        "id": "aRRGnJvY9F-Z"
      },
      "outputs": [],
      "source": [
        "import torch.nn as nn\n",
        "import torch.optim as optim\n",
        "from tqdm import tqdm\n",
        "import matplotlib.pyplot as plt"
      ]
    },
    {
      "cell_type": "code",
      "execution_count": null,
      "metadata": {
        "id": "mRqmyJF850z4"
      },
      "outputs": [],
      "source": [
        "class MFCC_RNN(nn.Module):\n",
        "    def __init__(self, input_size, hidden_size, output_size, num_layers, dropout=0.5):\n",
        "        super(MFCC_RNN, self).__init__()\n",
        "\n",
        "        self.c1 = nn.Conv1d(in_channels=1, out_channels=32, kernel_size=3, padding=1)\n",
        "        self.p1 = nn.MaxPool1d(kernel_size=2)\n",
        "\n",
        "        self.c2 = nn.Conv1d(in_channels=32, out_channels=64, kernel_size=3, padding=1)\n",
        "        self.p2 = nn.MaxPool1d(kernel_size=2)\n",
        "\n",
        "        self.c3 = nn.Conv1d(in_channels=64, out_channels=128, kernel_size=3, padding=1)\n",
        "        self.p3 = nn.MaxPool1d(kernel_size=2)\n",
        "\n",
        "\n",
        "        # Bidirectional LSTM\n",
        "        self.lstm = nn.LSTM(input_size=round(input_size/8),\n",
        "                            hidden_size=hidden_size,\n",
        "                            num_layers=num_layers,\n",
        "                            batch_first=True,\n",
        "                            bidirectional=True,\n",
        "                            dropout=dropout)\n",
        "\n",
        "        # Dropout layer for regularization\n",
        "        self.dropout = nn.Dropout(dropout)\n",
        "        self.relu = nn.LeakyReLU()\n",
        "\n",
        "        # Fully connected layer to map to output classes\n",
        "        self.fc = nn.Linear(hidden_size * 2, output_size)  # *2 for bidirectional\n",
        "\n",
        "\n",
        "\n",
        "    def forward(self, x):\n",
        "        # Apply 1D convolution\n",
        "        x = self.c1(x)\n",
        "        x = self.relu(x)\n",
        "        x = self.p1(x)\n",
        "        x = self.c2(x)\n",
        "        x = self.relu(x)\n",
        "        x = self.p2(x)\n",
        "        x = self.c3(x)\n",
        "        x = self.relu(x)\n",
        "        x = self.p3(x)\n",
        "\n",
        "        # Forward propagate LSTM\n",
        "        lstm_out, _ = self.lstm(x)  # lstm_out shape: (batch_size, seq_len, hidden_size*2)\n",
        "\n",
        "        # Use the last output of the LSTM (many-to-one)\n",
        "        lstm_out = lstm_out[:, -1, :]  # shape: (batch_size, hidden_size*2)\n",
        "\n",
        "        # Apply ReLU activation\n",
        "        lstm_out = self.relu(lstm_out)\n",
        "\n",
        "        # Output layer\n",
        "        out = self.fc(lstm_out)  # shape: (batch_size, output_size)\n",
        "\n",
        "        return out\n"
      ]
    },
    {
      "cell_type": "code",
      "execution_count": null,
      "metadata": {
        "colab": {
          "base_uri": "https://localhost:8080/",
          "height": 458
        },
        "id": "vyyzfzIAAGGH",
        "outputId": "daaa284d-5f1f-453a-ca60-8ebaefae1952"
      },
      "outputs": [
        {
          "data": {
            "text/html": [
              "<div>\n",
              "<style scoped>\n",
              "    .dataframe tbody tr th:only-of-type {\n",
              "        vertical-align: middle;\n",
              "    }\n",
              "\n",
              "    .dataframe tbody tr th {\n",
              "        vertical-align: top;\n",
              "    }\n",
              "\n",
              "    .dataframe thead th {\n",
              "        text-align: right;\n",
              "    }\n",
              "</style>\n",
              "<table border=\"1\" class=\"dataframe\">\n",
              "  <thead>\n",
              "    <tr style=\"text-align: right;\">\n",
              "      <th></th>\n",
              "      <th>signal</th>\n",
              "    </tr>\n",
              "  </thead>\n",
              "  <tbody>\n",
              "    <tr>\n",
              "      <th>0</th>\n",
              "      <td>[[-439.8929, -451.76, -466.11154, -461.901, -4...</td>\n",
              "    </tr>\n",
              "    <tr>\n",
              "      <th>1</th>\n",
              "      <td>[[-418.9721, -395.43814, -394.32526, -402.7609...</td>\n",
              "    </tr>\n",
              "    <tr>\n",
              "      <th>2</th>\n",
              "      <td>[[-363.84598, -382.02884, -362.52203, -331.263...</td>\n",
              "    </tr>\n",
              "    <tr>\n",
              "      <th>3</th>\n",
              "      <td>[[-142.75436, -195.95215, -340.94705, -336.893...</td>\n",
              "    </tr>\n",
              "    <tr>\n",
              "      <th>4</th>\n",
              "      <td>[[-170.45073, -199.37218, -275.24265, -273.716...</td>\n",
              "    </tr>\n",
              "    <tr>\n",
              "      <th>...</th>\n",
              "      <td>...</td>\n",
              "    </tr>\n",
              "    <tr>\n",
              "      <th>456</th>\n",
              "      <td>[[-303.4474, -315.1346, -327.50052, -337.75165...</td>\n",
              "    </tr>\n",
              "    <tr>\n",
              "      <th>457</th>\n",
              "      <td>[[-449.75806, -436.14832, -434.06586, -432.283...</td>\n",
              "    </tr>\n",
              "    <tr>\n",
              "      <th>458</th>\n",
              "      <td>[[-518.0232, -506.94022, -501.83932, -492.6589...</td>\n",
              "    </tr>\n",
              "    <tr>\n",
              "      <th>459</th>\n",
              "      <td>[[-450.55975, -428.11496, -422.26074, -416.088...</td>\n",
              "    </tr>\n",
              "    <tr>\n",
              "      <th>460</th>\n",
              "      <td>[[-447.40952, -435.10654, -432.36557, -432.913...</td>\n",
              "    </tr>\n",
              "  </tbody>\n",
              "</table>\n",
              "<p>461 rows × 1 columns</p>\n",
              "</div><br><label><b>dtype:</b> object</label>"
            ],
            "text/plain": [
              "0      [[-439.8929, -451.76, -466.11154, -461.901, -4...\n",
              "1      [[-418.9721, -395.43814, -394.32526, -402.7609...\n",
              "2      [[-363.84598, -382.02884, -362.52203, -331.263...\n",
              "3      [[-142.75436, -195.95215, -340.94705, -336.893...\n",
              "4      [[-170.45073, -199.37218, -275.24265, -273.716...\n",
              "                             ...                        \n",
              "456    [[-303.4474, -315.1346, -327.50052, -337.75165...\n",
              "457    [[-449.75806, -436.14832, -434.06586, -432.283...\n",
              "458    [[-518.0232, -506.94022, -501.83932, -492.6589...\n",
              "459    [[-450.55975, -428.11496, -422.26074, -416.088...\n",
              "460    [[-447.40952, -435.10654, -432.36557, -432.913...\n",
              "Name: signal, Length: 461, dtype: object"
            ]
          },
          "execution_count": 42,
          "metadata": {},
          "output_type": "execute_result"
        }
      ],
      "source": [
        "mfcc"
      ]
    },
    {
      "cell_type": "code",
      "source": [],
      "metadata": {
        "id": "fD9iQt011OLP"
      },
      "execution_count": null,
      "outputs": []
    },
    {
      "cell_type": "code",
      "execution_count": null,
      "metadata": {
        "colab": {
          "base_uri": "https://localhost:8080/",
          "height": 820
        },
        "id": "w6gSiFik3ILS",
        "outputId": "dfab1dd1-3716-4953-e330-104c0da88bac"
      },
      "outputs": [
        {
          "output_type": "stream",
          "name": "stderr",
          "text": [
            "/usr/local/lib/python3.10/dist-packages/torch/optim/lr_scheduler.py:60: UserWarning: The verbose parameter is deprecated. Please use get_last_lr() to access the learning rate.\n",
            "  warnings.warn(\n"
          ]
        },
        {
          "output_type": "stream",
          "name": "stdout",
          "text": [
            "12\n"
          ]
        },
        {
          "output_type": "stream",
          "name": "stderr",
          "text": [
            "Epoch 1/200: 100%|██████████| 12/12 [00:00<00:00, 16.50it/s, loss=1.03]\n"
          ]
        },
        {
          "output_type": "stream",
          "name": "stdout",
          "text": [
            "Epoch [1/200], Loss: 1.0750\n"
          ]
        },
        {
          "output_type": "stream",
          "name": "stderr",
          "text": [
            "Epoch 2/200: 100%|██████████| 12/12 [00:00<00:00, 17.61it/s, loss=0.852]\n"
          ]
        },
        {
          "output_type": "stream",
          "name": "stdout",
          "text": [
            "Epoch [2/200], Loss: 0.9675\n"
          ]
        },
        {
          "output_type": "stream",
          "name": "stderr",
          "text": [
            "Epoch 3/200: 100%|██████████| 12/12 [00:00<00:00, 17.56it/s, loss=0.837]\n"
          ]
        },
        {
          "output_type": "stream",
          "name": "stdout",
          "text": [
            "Epoch [3/200], Loss: 0.8901\n"
          ]
        },
        {
          "output_type": "stream",
          "name": "stderr",
          "text": [
            "Epoch 4/200: 100%|██████████| 12/12 [00:00<00:00, 17.54it/s, loss=0.966]\n"
          ]
        },
        {
          "output_type": "stream",
          "name": "stdout",
          "text": [
            "Epoch [4/200], Loss: 0.8674\n"
          ]
        },
        {
          "output_type": "stream",
          "name": "stderr",
          "text": [
            "Epoch 5/200: 100%|██████████| 12/12 [00:00<00:00, 17.66it/s, loss=0.766]\n"
          ]
        },
        {
          "output_type": "stream",
          "name": "stdout",
          "text": [
            "Epoch [5/200], Loss: 0.8327\n"
          ]
        },
        {
          "output_type": "stream",
          "name": "stderr",
          "text": [
            "Epoch 6/200: 100%|██████████| 12/12 [00:00<00:00, 17.74it/s, loss=0.811]\n"
          ]
        },
        {
          "output_type": "stream",
          "name": "stdout",
          "text": [
            "Epoch [6/200], Loss: 0.8100\n"
          ]
        },
        {
          "output_type": "stream",
          "name": "stderr",
          "text": [
            "Epoch 7/200: 100%|██████████| 12/12 [00:00<00:00, 17.59it/s, loss=0.736]\n"
          ]
        },
        {
          "output_type": "stream",
          "name": "stdout",
          "text": [
            "Epoch [7/200], Loss: 0.7681\n"
          ]
        },
        {
          "output_type": "stream",
          "name": "stderr",
          "text": [
            "Epoch 8/200: 100%|██████████| 12/12 [00:00<00:00, 17.56it/s, loss=0.525]\n"
          ]
        },
        {
          "output_type": "stream",
          "name": "stdout",
          "text": [
            "Epoch [8/200], Loss: 0.6657\n"
          ]
        },
        {
          "output_type": "stream",
          "name": "stderr",
          "text": [
            "Epoch 9/200: 100%|██████████| 12/12 [00:00<00:00, 17.36it/s, loss=0.919]\n"
          ]
        },
        {
          "output_type": "stream",
          "name": "stdout",
          "text": [
            "Epoch [9/200], Loss: 0.6866\n"
          ]
        },
        {
          "output_type": "stream",
          "name": "stderr",
          "text": [
            "Epoch 10/200: 100%|██████████| 12/12 [00:00<00:00, 17.56it/s, loss=0.488]\n"
          ]
        },
        {
          "output_type": "stream",
          "name": "stdout",
          "text": [
            "Epoch [10/200], Loss: 0.5756\n"
          ]
        },
        {
          "output_type": "stream",
          "name": "stderr",
          "text": [
            "Epoch 11/200: 100%|██████████| 12/12 [00:00<00:00, 17.55it/s, loss=0.45]\n"
          ]
        },
        {
          "output_type": "stream",
          "name": "stdout",
          "text": [
            "Epoch [11/200], Loss: 0.5116\n"
          ]
        },
        {
          "output_type": "stream",
          "name": "stderr",
          "text": [
            "Epoch 12/200: 100%|██████████| 12/12 [00:00<00:00, 17.61it/s, loss=0.276]\n"
          ]
        },
        {
          "output_type": "stream",
          "name": "stdout",
          "text": [
            "Epoch [12/200], Loss: 0.3803\n"
          ]
        },
        {
          "output_type": "stream",
          "name": "stderr",
          "text": [
            "Epoch 13/200: 100%|██████████| 12/12 [00:00<00:00, 17.52it/s, loss=0.263]\n"
          ]
        },
        {
          "output_type": "stream",
          "name": "stdout",
          "text": [
            "Epoch [13/200], Loss: 0.3471\n"
          ]
        },
        {
          "output_type": "stream",
          "name": "stderr",
          "text": [
            "Epoch 14/200: 100%|██████████| 12/12 [00:00<00:00, 17.38it/s, loss=0.368]\n"
          ]
        },
        {
          "output_type": "stream",
          "name": "stdout",
          "text": [
            "Epoch [14/200], Loss: 0.2814\n"
          ]
        },
        {
          "output_type": "stream",
          "name": "stderr",
          "text": [
            "Epoch 15/200: 100%|██████████| 12/12 [00:00<00:00, 17.47it/s, loss=0.168]\n"
          ]
        },
        {
          "output_type": "stream",
          "name": "stdout",
          "text": [
            "Epoch [15/200], Loss: 0.2044\n"
          ]
        },
        {
          "output_type": "stream",
          "name": "stderr",
          "text": [
            "Epoch 16/200:  50%|█████     | 6/12 [00:00<00:00, 15.08it/s, loss=0.23]\n"
          ]
        },
        {
          "output_type": "error",
          "ename": "KeyboardInterrupt",
          "evalue": "",
          "traceback": [
            "\u001b[0;31m---------------------------------------------------------------------------\u001b[0m",
            "\u001b[0;31mKeyboardInterrupt\u001b[0m                         Traceback (most recent call last)",
            "\u001b[0;32m<ipython-input-79-d2344b530e1e>\u001b[0m in \u001b[0;36m<cell line: 35>\u001b[0;34m()\u001b[0m\n\u001b[1;32m     54\u001b[0m         \u001b[0moptimizer\u001b[0m\u001b[0;34m.\u001b[0m\u001b[0mstep\u001b[0m\u001b[0;34m(\u001b[0m\u001b[0;34m)\u001b[0m\u001b[0;34m\u001b[0m\u001b[0;34m\u001b[0m\u001b[0m\n\u001b[1;32m     55\u001b[0m \u001b[0;34m\u001b[0m\u001b[0m\n\u001b[0;32m---> 56\u001b[0;31m         \u001b[0mrunning_loss\u001b[0m \u001b[0;34m+=\u001b[0m \u001b[0mloss\u001b[0m\u001b[0;34m.\u001b[0m\u001b[0mitem\u001b[0m\u001b[0;34m(\u001b[0m\u001b[0;34m)\u001b[0m\u001b[0;34m\u001b[0m\u001b[0;34m\u001b[0m\u001b[0m\n\u001b[0m\u001b[1;32m     57\u001b[0m \u001b[0;34m\u001b[0m\u001b[0m\n\u001b[1;32m     58\u001b[0m         \u001b[0;31m# Update tqdm with the current loss\u001b[0m\u001b[0;34m\u001b[0m\u001b[0;34m\u001b[0m\u001b[0m\n",
            "\u001b[0;31mKeyboardInterrupt\u001b[0m: "
          ]
        }
      ],
      "source": [
        "# training loop\n",
        "import torch\n",
        "import torch.optim as optim\n",
        "from tqdm import tqdm\n",
        "import matplotlib.pyplot as plt\n",
        "\n",
        "\n",
        "device = 'cuda' if torch.cuda.is_available() else 'cpu'\n",
        "\n",
        "EPOCHS = 200\n",
        "BATCH_SIZE = 64\n",
        "LEARNING_RATE = 0.001\n",
        "\n",
        "NUM_CLASS = 3\n",
        "INPUT_SIZE = 980\n",
        "HIDDEN_SIZE = 256\n",
        "NUM_LAYERS = 2\n",
        "\n",
        "model = MFCC_RNN(INPUT_SIZE, HIDDEN_SIZE, NUM_CLASS, NUM_LAYERS).to(device)\n",
        "\n",
        "\n",
        "train_loader = torch.utils.data.DataLoader(train_ds, batch_size=BATCH_SIZE, shuffle=True)\n",
        "test_loader = torch.utils.data.DataLoader(test_ds, batch_size=BATCH_SIZE, shuffle=True)\n",
        "\n",
        "print(len(train_loader))\n",
        "# Assuming the model, dataset, and DataLoader are defined as before\n",
        "\n",
        "# Define loss function and optimizer\n",
        "criterion = nn.CrossEntropyLoss()\n",
        "optimizer = optim.Adam(model.parameters(), lr=LEARNING_RATE)\n",
        "scheduler = optim.lr_scheduler.ReduceLROnPlateau(optimizer, 'min', factor=0.0001, patience=2, verbose=True)\n",
        "# Training loop\n",
        "train_losses = []\n",
        "\n",
        "for epoch in range(EPOCHS):\n",
        "    model.train()  # Set the model to training mode\n",
        "    running_loss = 0.0\n",
        "\n",
        "    # Use tqdm to create a progress bar\n",
        "    progress_bar = tqdm(enumerate(train_loader), total=len(train_loader), desc=f'Epoch {epoch + 1}/{EPOCHS}')\n",
        "\n",
        "    for i, (inputs, labels) in progress_bar:\n",
        "        # Move tensors to the configured device\n",
        "        inputs, labels = inputs.to(device), labels.to(device)\n",
        "        inputs = inputs.unsqueeze(1)\n",
        "\n",
        "        # Forward pass\n",
        "        outputs = model(inputs)\n",
        "        loss = criterion(outputs, labels)\n",
        "\n",
        "        # Backward pass and optimization\n",
        "        optimizer.zero_grad()\n",
        "        loss.backward()\n",
        "        optimizer.step()\n",
        "\n",
        "        running_loss += loss.item()\n",
        "\n",
        "        # Update tqdm with the current loss\n",
        "        progress_bar.set_postfix(loss=loss.item())\n",
        "\n",
        "    # Store the average loss for this epoch\n",
        "    scheduler.step(running_loss)\n",
        "    epoch_loss = running_loss / len(train_loader)\n",
        "    train_losses.append(epoch_loss)\n",
        "    print(f'Epoch [{epoch + 1}/{EPOCHS}], Loss: {epoch_loss:.4f}')\n",
        "\n",
        "# Plot the loss curve\n",
        "plt.figure(figsize=(10, 5))\n",
        "plt.plot(range(1, EPOCHS + 1), train_losses, marker='o', linestyle='-')\n",
        "plt.xlabel('Epoch')\n",
        "plt.ylabel('Loss')\n",
        "plt.title('Training Loss over Epochs')\n",
        "plt.grid(True)\n",
        "plt.show()\n"
      ]
    },
    {
      "cell_type": "code",
      "execution_count": null,
      "metadata": {
        "colab": {
          "base_uri": "https://localhost:8080/"
        },
        "id": "7D4YjFdU3P0g",
        "outputId": "44a8485c-6e8a-4722-b202-7419a2ba83e6"
      },
      "outputs": [
        {
          "output_type": "stream",
          "name": "stderr",
          "text": [
            "Evaluating: 100%|██████████| 3/3 [00:00<00:00, 32.62it/s]"
          ]
        },
        {
          "output_type": "stream",
          "name": "stdout",
          "text": [
            "Accuracy on the test set: 86.98%\n"
          ]
        },
        {
          "output_type": "stream",
          "name": "stderr",
          "text": [
            "\n"
          ]
        },
        {
          "output_type": "execute_result",
          "data": {
            "text/plain": [
              "0.8697916666666666"
            ]
          },
          "metadata": {},
          "execution_count": 62
        }
      ],
      "source": [
        "evaluate_model(model, test_loader, device)"
      ]
    },
    {
      "cell_type": "code",
      "source": [
        "model(torch.from_numpy(X_test).unsqueeze(1).to(device))"
      ],
      "metadata": {
        "colab": {
          "base_uri": "https://localhost:8080/"
        },
        "id": "0RYHpLe0Axzt",
        "outputId": "ffdec4da-6f90-4730-a3bc-859d2cae5c04"
      },
      "execution_count": null,
      "outputs": [
        {
          "output_type": "execute_result",
          "data": {
            "text/plain": [
              "tensor([[-4.4154,  3.4105, -0.5169],\n",
              "        [ 3.5470, -4.3647,  0.0927],\n",
              "        [-3.1127,  3.2700, -1.1416],\n",
              "        [-1.1843,  0.9363, -0.5915],\n",
              "        [-5.1925,  5.3880, -1.8999],\n",
              "        [ 2.6205, -2.0457, -1.0651],\n",
              "        [-1.1063, -0.3852,  0.8066],\n",
              "        [-2.1675,  2.4241, -1.0104],\n",
              "        [-3.1800, -0.9300,  3.3903],\n",
              "        [-3.3969,  3.9290, -1.7588],\n",
              "        [ 1.3735, -2.2669,  0.2364],\n",
              "        [-0.4496, -1.9012,  1.7953],\n",
              "        [-2.1358, -2.0183,  3.7178],\n",
              "        [-2.5396,  2.1815, -0.4423],\n",
              "        [ 4.1818, -4.3388, -0.6366],\n",
              "        [ 4.0133, -4.0794, -0.7465],\n",
              "        [ 0.4323, -3.8568,  2.7850],\n",
              "        [ 3.7162, -3.5821, -0.9302],\n",
              "        [-4.5947,  3.1769,  0.0331],\n",
              "        [-5.0585,  3.4157,  0.3303],\n",
              "        [-4.9494,  3.1355,  0.4687],\n",
              "        [-0.8993, -0.8649,  1.0750],\n",
              "        [-5.1206,  2.2866,  1.4336],\n",
              "        [-4.4234,  3.6452, -0.5279],\n",
              "        [ 4.1378, -4.0885, -0.8606],\n",
              "        [ 2.4895, -4.3548,  1.2606],\n",
              "        [-3.4078, -0.1902,  2.7130],\n",
              "        [ 3.8818, -3.4720, -1.1919],\n",
              "        [-5.0136,  4.1304, -0.6592],\n",
              "        [ 2.1404, -3.4284,  0.8449],\n",
              "        [ 4.3659, -3.6357, -1.5505],\n",
              "        [-0.9251, -1.8806,  2.4168],\n",
              "        [ 3.7058, -4.9710,  0.5154],\n",
              "        [-3.0982, -1.4309,  3.9784],\n",
              "        [-1.5352,  2.1886, -1.5705],\n",
              "        [ 4.3291, -5.0140, -0.1144],\n",
              "        [-2.8285,  0.4684,  1.7704],\n",
              "        [ 0.9308, -1.9334,  0.5253],\n",
              "        [ 0.1247, -2.8760,  2.1753],\n",
              "        [-5.5533,  5.0465, -1.2766],\n",
              "        [ 3.1052, -4.6387,  0.7972],\n",
              "        [-2.9243, -0.9503,  3.4908],\n",
              "        [ 3.4465, -4.4474,  0.2770],\n",
              "        [ 3.4053, -3.7312, -0.3564],\n",
              "        [-1.5821, -1.3334,  2.5717],\n",
              "        [-4.2471,  4.0446, -1.1280],\n",
              "        [-2.2340, -0.0140,  1.5008],\n",
              "        [-2.3451, -0.7898,  2.5307],\n",
              "        [-4.8058,  3.3418,  0.0858],\n",
              "        [ 4.1143, -4.7289, -0.1169],\n",
              "        [-3.9380,  4.1118, -1.4689],\n",
              "        [-3.0416,  3.1405, -1.0762],\n",
              "        [-5.0580,  1.7228,  2.0067],\n",
              "        [-5.2595,  3.1387,  0.7566],\n",
              "        [ 3.5010, -4.1831, -0.0912],\n",
              "        [ 3.4337, -4.6176,  0.3967],\n",
              "        [-2.3058, -1.3389,  3.1325],\n",
              "        [ 3.6774, -4.5209,  0.0992],\n",
              "        [ 3.3486, -2.7761, -1.4144],\n",
              "        [-0.6332, -2.9712,  3.1813],\n",
              "        [-0.2220, -3.3101,  2.9925],\n",
              "        [-3.7029, -0.6572,  3.7781],\n",
              "        [-3.5362,  3.3962, -1.0635],\n",
              "        [-1.8183, -0.7489,  1.9604],\n",
              "        [-0.9947, -3.1761,  3.6413],\n",
              "        [ 3.3519, -4.6594,  0.5400],\n",
              "        [-0.4041, -3.1178,  2.9758],\n",
              "        [-4.6170,  3.3319, -0.1216],\n",
              "        [ 2.9677, -4.3679,  0.7259],\n",
              "        [ 3.7727, -4.6339,  0.1365],\n",
              "        [-2.1950,  3.5196, -2.3597],\n",
              "        [ 4.2413, -4.1277, -0.7909],\n",
              "        [ 3.4564, -4.0944, -0.0956],\n",
              "        [-4.5818,  4.4717, -1.2597],\n",
              "        [ 4.3996, -4.1111, -1.1423],\n",
              "        [ 2.2591, -2.1544, -0.6593],\n",
              "        [-0.6617, -2.6728,  2.8531],\n",
              "        [ 2.7055, -4.6063,  1.1401],\n",
              "        [-2.6675, -1.0465,  3.2745],\n",
              "        [-2.3192,  3.3483, -2.2497],\n",
              "        [-1.5716, -2.1940,  3.4272],\n",
              "        [ 3.1881, -3.3058, -0.4504],\n",
              "        [ 2.1149, -3.1963,  0.5117],\n",
              "        [-2.3456, -2.1326,  4.0176],\n",
              "        [ 3.1922, -4.4546,  0.4645],\n",
              "        [ 2.4011, -4.1893,  0.9950],\n",
              "        [ 2.4431, -2.4653, -0.6635],\n",
              "        [ 3.5105, -3.9457, -0.1866],\n",
              "        [ 0.8901, -4.0554,  2.4417],\n",
              "        [ 4.3187, -4.4755, -0.5365],\n",
              "        [ 0.2660, -3.2302,  2.3310],\n",
              "        [-3.6078,  4.1722, -1.8785],\n",
              "        [ 3.5369, -2.2072, -2.0371],\n",
              "        [-4.0230,  4.6048, -1.9593],\n",
              "        [-3.4421, -0.0954,  2.5981],\n",
              "        [ 4.3848, -4.4901, -0.6089],\n",
              "        [-3.6629,  4.4619, -2.1848],\n",
              "        [ 4.0448, -4.3959, -0.3277],\n",
              "        [ 3.2529, -3.9124,  0.0650],\n",
              "        [ 3.8733, -3.8128, -0.7346],\n",
              "        [ 3.8879, -4.4734, -0.1947],\n",
              "        [-3.2412,  1.8724,  0.4686],\n",
              "        [-4.9889,  5.5788, -2.2785],\n",
              "        [-2.6914, -1.2644,  3.5840],\n",
              "        [ 4.0834, -4.4038, -0.4381],\n",
              "        [ 1.3967, -3.2488,  1.1541],\n",
              "        [-2.9986, -1.0175,  3.5719],\n",
              "        [ 3.4578, -4.5030,  0.3570],\n",
              "        [-3.5108, -0.2756,  3.2256],\n",
              "        [-4.2010,  2.3826,  0.6569],\n",
              "        [ 1.4356, -3.2803,  1.2749],\n",
              "        [-3.0073,  1.6806,  0.5334],\n",
              "        [ 2.9529, -4.0498,  0.5592],\n",
              "        [ 4.4608, -3.9535, -1.2502],\n",
              "        [-3.4300,  3.7192, -1.3171],\n",
              "        [ 2.1094, -1.9368, -1.0155],\n",
              "        [ 4.2045, -4.7390, -0.2565],\n",
              "        [ 4.6050, -4.3031, -1.0572],\n",
              "        [-4.4253,  1.8181,  1.5500],\n",
              "        [-3.1490,  4.4301, -2.5063],\n",
              "        [ 1.3375, -2.0523,  0.1032],\n",
              "        [-2.1030,  1.7780, -0.5523],\n",
              "        [-0.1505,  0.0691, -0.7034],\n",
              "        [ 0.1253, -0.4191, -0.5252],\n",
              "        [-3.9056,  4.3646, -1.8385],\n",
              "        [ 1.6466, -1.9582, -0.3321],\n",
              "        [-5.0720,  5.4787, -2.1844],\n",
              "        [-2.8265,  1.6250,  0.3023],\n",
              "        [-3.2967,  3.6302, -1.6054],\n",
              "        [-4.0313,  3.7642, -0.9739],\n",
              "        [ 3.9693, -4.5838, -0.0972],\n",
              "        [ 3.4080, -4.4723,  0.4397],\n",
              "        [-2.6792,  3.4394, -1.7593],\n",
              "        [ 3.1053, -3.7941,  0.0240],\n",
              "        [-3.6064,  4.0744, -1.8091],\n",
              "        [-3.4742,  0.1248,  2.5236],\n",
              "        [-0.7039, -2.1260,  2.3044],\n",
              "        [-4.7857,  1.5899,  2.1767],\n",
              "        [ 4.2629, -3.9758, -1.0630],\n",
              "        [-3.5786, -0.1792,  3.1244],\n",
              "        [-4.4876,  3.8128, -0.6614],\n",
              "        [ 4.4117, -4.0016, -1.2861],\n",
              "        [-2.3978, -1.5387,  3.5275],\n",
              "        [-5.8428,  5.4302, -1.3858],\n",
              "        [-1.1453,  2.4494, -2.4518],\n",
              "        [ 1.9420, -3.3344,  0.5952],\n",
              "        [-5.1792,  2.0844,  2.0214],\n",
              "        [ 4.2640, -3.8396, -1.1970],\n",
              "        [ 4.2309, -3.9520, -1.0491],\n",
              "        [ 4.6669, -4.5305, -0.9134],\n",
              "        [ 0.1133, -3.2151,  2.4834],\n",
              "        [-2.4600,  2.8640, -1.2489],\n",
              "        [ 3.6862, -3.7047, -0.6512],\n",
              "        [ 4.2301, -4.4091, -0.5196],\n",
              "        [ 2.6400, -3.9760,  0.7316],\n",
              "        [ 3.3470, -3.1463, -0.9702],\n",
              "        [-4.7988,  4.2219, -0.9350],\n",
              "        [ 3.4722, -4.5213,  0.4379],\n",
              "        [-4.9961,  5.6667, -2.2949],\n",
              "        [-3.3464, -0.4432,  3.1502],\n",
              "        [-5.2873,  4.5293, -0.8575],\n",
              "        [-5.3557,  5.2445, -1.7226],\n",
              "        [ 0.4152, -3.0142,  2.1117],\n",
              "        [-1.9105, -1.9499,  3.3051],\n",
              "        [ 3.4484, -4.3864,  0.1856],\n",
              "        [ 4.2630, -4.6619, -0.3785],\n",
              "        [ 2.2330, -3.2441,  0.1988],\n",
              "        [-1.7080, -2.4695,  3.7981],\n",
              "        [-2.9223, -0.0111,  2.0922],\n",
              "        [-0.9242, -1.5032,  1.8474],\n",
              "        [-2.5796,  1.6178,  0.1347],\n",
              "        [ 3.9412, -3.8353, -0.8526],\n",
              "        [-1.4177, -1.9310,  2.7922],\n",
              "        [-0.8219, -2.6878,  2.9792],\n",
              "        [-4.4638,  4.5595, -1.4481],\n",
              "        [-0.7067,  0.6418, -1.0060],\n",
              "        [-2.4658,  2.7390, -1.1337],\n",
              "        [-1.7352, -0.8817,  2.1147],\n",
              "        [-0.5589, -2.6814,  2.8389],\n",
              "        [ 4.2498, -4.0260, -0.9729],\n",
              "        [-1.7750,  1.8651, -1.2806],\n",
              "        [ 4.6273, -4.6593, -0.7327],\n",
              "        [-5.1940,  4.8256, -1.2787],\n",
              "        [-4.8296,  5.2292, -2.0869],\n",
              "        [ 3.8275, -3.5245, -1.0822],\n",
              "        [-2.4638, -2.0493,  3.7220],\n",
              "        [-4.1547,  4.2672, -1.6911],\n",
              "        [ 1.4052, -2.8738,  0.9275],\n",
              "        [ 3.8408, -4.6328,  0.1472],\n",
              "        [-2.1872, -0.1826,  1.7502],\n",
              "        [-1.4016, -1.8237,  2.7734],\n",
              "        [ 4.4817, -4.9228, -0.3485]], device='cuda:0',\n",
              "       grad_fn=<AddmmBackward0>)"
            ]
          },
          "metadata": {},
          "execution_count": 86
        }
      ]
    },
    {
      "cell_type": "code",
      "execution_count": null,
      "metadata": {
        "id": "9eVLKj8G3oTq",
        "colab": {
          "base_uri": "https://localhost:8080/"
        },
        "outputId": "54b8c939-5088-4bf6-cc09-48422077e203"
      },
      "outputs": [
        {
          "output_type": "stream",
          "name": "stdout",
          "text": [
            "Voting Classifier Accuracy: 93.23%\n"
          ]
        },
        {
          "output_type": "stream",
          "name": "stderr",
          "text": [
            "/usr/local/lib/python3.10/dist-packages/torch/nn/modules/rnn.py:917: UserWarning: RNN module weights are not part of single contiguous chunk of memory. This means they need to be compacted at every call, possibly greatly increasing memory usage. To compact weights again call flatten_parameters(). (Triggered internally at ../aten/src/ATen/native/cudnn/RNN.cpp:1424.)\n",
            "  result = _VF.lstm(input, hx, self._flat_weights, self.bias, self.num_layers,\n"
          ]
        }
      ],
      "source": [
        "import numpy as np\n",
        "from sklearn.ensemble import VotingClassifier\n",
        "from sklearn.ensemble import GradientBoostingClassifier, AdaBoostClassifier\n",
        "from sklearn.base import BaseEstimator, ClassifierMixin\n",
        "import torch\n",
        "import torch.nn.functional as F\n",
        "\n",
        "# Define the RNN model (assuming it’s already trained)\n",
        "class RNNModelWrapper(BaseEstimator, ClassifierMixin):\n",
        "    def __init__(self, rnn_model):\n",
        "        self.rnn_model = rnn_model\n",
        "\n",
        "    def fit(self, X, y=None):\n",
        "      return self\n",
        "\n",
        "    def predict(self, X):\n",
        "        X_tensor = torch.tensor(X, dtype=torch.float32)\n",
        "        with torch.no_grad():\n",
        "            outputs = self.rnn_model(X_tensor)\n",
        "            _, predicted = torch.max(outputs, 1)\n",
        "        return predicted.numpy()\n",
        "\n",
        "    def predict_proba(self, X):\n",
        "        X_tensor = torch.tensor(X, dtype=torch.float32).unsqueeze(1).to(device)\n",
        "        with torch.no_grad():\n",
        "            outputs = self.rnn_model(X_tensor)\n",
        "            probabilities = F.softmax(outputs, dim=1)\n",
        "        return probabilities.cpu().numpy()\n",
        "\n",
        "# Instantiate your models (ensure they are trained)\n",
        "nn_model = RNNModelWrapper(model)\n",
        "\n",
        "\n",
        "voting_clf = VotingClassifier(\n",
        "    estimators=[\n",
        "        ('gboost', gbc),\n",
        "        ('adaboost', ada),\n",
        "        ('rnn', nn_model)\n",
        "    ],\n",
        "    voting='soft'  # Use 'hard' for hard voting\n",
        ")\n",
        "\n",
        "# Fit the voting classifier\n",
        "voting_clf.fit(X_train, y_train)\n",
        "\n",
        "# Evaluate the voting classifier\n",
        "accuracy = voting_clf.score(X_test, y_test)\n",
        "print(f'Voting Classifier Accuracy: {accuracy * 100:.2f}%')\n"
      ]
    },
    {
      "cell_type": "code",
      "source": [
        "accuracy"
      ],
      "metadata": {
        "id": "lsPi4UlZ9znZ"
      },
      "execution_count": null,
      "outputs": []
    }
  ],
  "metadata": {
    "colab": {
      "provenance": [],
      "gpuType": "T4",
      "authorship_tag": "ABX9TyNYyJF46HTQ3t2z+M1aK4th",
      "include_colab_link": true
    },
    "kernelspec": {
      "display_name": "Python 3",
      "name": "python3"
    },
    "language_info": {
      "name": "python"
    },
    "accelerator": "GPU"
  },
  "nbformat": 4,
  "nbformat_minor": 0
}